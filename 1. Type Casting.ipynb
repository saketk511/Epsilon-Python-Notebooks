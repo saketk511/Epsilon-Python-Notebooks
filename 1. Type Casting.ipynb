{
 "cells": [
  {
   "cell_type": "markdown",
   "id": "0697f934",
   "metadata": {},
   "source": [
    "# Type Casting"
   ]
  },
  {
   "cell_type": "raw",
   "id": "27bb8616",
   "metadata": {},
   "source": [
    "Type casting, also known as type conversion, is the process of changing the data type of a value from one type \n",
    "to another in a programming language. This is often necessary to perform operations or assignments that require \n",
    "compatible data types. Type casting allows you to explicitly control how data is interpreted and used in your program."
   ]
  },
  {
   "cell_type": "markdown",
   "id": "b819785b",
   "metadata": {},
   "source": [
    "##### Implicit Type Casting"
   ]
  },
  {
   "cell_type": "raw",
   "id": "8fbae189",
   "metadata": {},
   "source": [
    "Implicit Type Casting: Python automatically converts data types in some situations, such as when performing operations \n",
    "between compatible types. For example, adding an integer and a float will result in a float."
   ]
  },
  {
   "cell_type": "code",
   "execution_count": 16,
   "id": "4dbe57d5",
   "metadata": {},
   "outputs": [
    {
     "data": {
      "text/plain": [
       "(int, float, float)"
      ]
     },
     "execution_count": 16,
     "metadata": {},
     "output_type": "execute_result"
    }
   ],
   "source": [
    "x = 5       # int\n",
    "y = 2.5     # float\n",
    "result = x + y  # Implicit type casting to float\n",
    "type(x),type(y),type(result)"
   ]
  },
  {
   "cell_type": "markdown",
   "id": "d3df06d5",
   "metadata": {},
   "source": [
    "##### Explicit Type Casting"
   ]
  },
  {
   "cell_type": "raw",
   "id": "0e22c404",
   "metadata": {},
   "source": [
    "Explicit Type Casting: You can explicitly convert one data type to another using built-in functions. Some common type casting functions in Python include:\n",
    "\n",
    "int(): Converts a value to an integer.\n",
    "float(): Converts a value to a floating-point number.\n",
    "str(): Converts a value to a string.\n",
    "bool(): Converts a value to a Boolean.\n",
    "list(): Converts a sequence to a list.\n",
    "tuple(): Converts a sequence to a tuple.\n",
    "set(): Converts an iterable to a set.\n",
    "dict(): Converts an iterable of key-value pairs to a dictionary."
   ]
  },
  {
   "cell_type": "code",
   "execution_count": 17,
   "id": "80a34ed6",
   "metadata": {},
   "outputs": [
    {
     "data": {
      "text/plain": [
       "(float, int)"
      ]
     },
     "execution_count": 17,
     "metadata": {},
     "output_type": "execute_result"
    }
   ],
   "source": [
    "x = 5.7\n",
    "y = int(x)    # Explicitly cast float to int\n",
    "type(x), type(y)"
   ]
  },
  {
   "cell_type": "markdown",
   "id": "41f55e00",
   "metadata": {},
   "source": [
    "##### Complex Type Casting"
   ]
  },
  {
   "cell_type": "raw",
   "id": "178537ea",
   "metadata": {},
   "source": [
    "Type Casting within Complex Data Types: You can also perform type casting within complex data types like lists,  tuples, \n",
    "and dictionaries to convert elements within them."
   ]
  },
  {
   "cell_type": "code",
   "execution_count": 18,
   "id": "79fd85fa",
   "metadata": {},
   "outputs": [
    {
     "name": "stdout",
     "output_type": "stream",
     "text": [
      "['1', '2', '3']\n"
     ]
    }
   ],
   "source": [
    "x = [1, 2, 3]\n",
    "y = [str(z) for z in x]# Cast list of integers to list of strings\n",
    "print(y)"
   ]
  },
  {
   "cell_type": "code",
   "execution_count": null,
   "id": "7804a05a",
   "metadata": {},
   "outputs": [],
   "source": []
  }
 ],
 "metadata": {
  "kernelspec": {
   "display_name": "Python 3 (ipykernel)",
   "language": "python",
   "name": "python3"
  },
  "language_info": {
   "codemirror_mode": {
    "name": "ipython",
    "version": 3
   },
   "file_extension": ".py",
   "mimetype": "text/x-python",
   "name": "python",
   "nbconvert_exporter": "python",
   "pygments_lexer": "ipython3",
   "version": "3.8.8"
  }
 },
 "nbformat": 4,
 "nbformat_minor": 5
}
