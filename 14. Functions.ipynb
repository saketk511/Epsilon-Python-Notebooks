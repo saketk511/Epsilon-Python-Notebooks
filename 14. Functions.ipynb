{
 "cells": [
  {
   "cell_type": "markdown",
   "id": "1b89a715",
   "metadata": {},
   "source": [
    "# Functions"
   ]
  },
  {
   "cell_type": "code",
   "execution_count": null,
   "id": "1fcd6147",
   "metadata": {},
   "outputs": [],
   "source": [
    "# function :\n",
    "\n",
    "def name (args):\n",
    "    #code"
   ]
  },
  {
   "cell_type": "code",
   "execution_count": 21,
   "id": "e2ae6b46",
   "metadata": {},
   "outputs": [],
   "source": [
    "def msg():\n",
    "    print(\"Hello this is my python session!!!\")"
   ]
  },
  {
   "cell_type": "code",
   "execution_count": 22,
   "id": "4cca5809",
   "metadata": {},
   "outputs": [
    {
     "name": "stdout",
     "output_type": "stream",
     "text": [
      "Hello this is my python session!!!\n"
     ]
    }
   ],
   "source": [
    "msg()"
   ]
  },
  {
   "cell_type": "code",
   "execution_count": 23,
   "id": "490a3c82",
   "metadata": {},
   "outputs": [],
   "source": [
    "def add(x,y):\n",
    "    z=x+y\n",
    "    print(z)"
   ]
  },
  {
   "cell_type": "code",
   "execution_count": 25,
   "id": "97e64510",
   "metadata": {},
   "outputs": [
    {
     "name": "stdout",
     "output_type": "stream",
     "text": [
      "5\n"
     ]
    }
   ],
   "source": [
    "add(2,3)"
   ]
  },
  {
   "cell_type": "code",
   "execution_count": 12,
   "id": "4e8403d4",
   "metadata": {},
   "outputs": [],
   "source": [
    "def info(id,name,city,salary):\n",
    "    print(\"id is :\",id)\n",
    "    print(\"name is  :\",name)\n",
    "    print(\"city is. :\",city)\n",
    "    print(\"salary is :\",salary)"
   ]
  },
  {
   "cell_type": "code",
   "execution_count": 13,
   "id": "ce827bf5",
   "metadata": {},
   "outputs": [
    {
     "name": "stdout",
     "output_type": "stream",
     "text": [
      "id is : 101\n",
      "name is  : Amit\n",
      "city is. : Delhi\n",
      "salary is : 45778\n"
     ]
    }
   ],
   "source": [
    "info(101,\"Amit\",\"Delhi\",45778)"
   ]
  },
  {
   "cell_type": "code",
   "execution_count": null,
   "id": "ae3282b4",
   "metadata": {},
   "outputs": [],
   "source": [
    "def add_numbers(x, y):\n",
    "    return x + y\n",
    "\n",
    "result = add_numbers(3, 4)\n",
    "print(result)  "
   ]
  },
  {
   "cell_type": "code",
   "execution_count": null,
   "id": "44769b7b",
   "metadata": {},
   "outputs": [],
   "source": [
    "def factorial(n):\n",
    "    if n == 0:\n",
    "        return 1\n",
    "    else:\n",
    "        return n * factorial(n-1)\n",
    "\n",
    "result = factorial(5)\n",
    "print(result)  "
   ]
  },
  {
   "cell_type": "code",
   "execution_count": null,
   "id": "7c47a666",
   "metadata": {},
   "outputs": [],
   "source": [
    "def find_max(numbers):\n",
    "    max_value = max(numbers)\n",
    "    return max_value\n",
    "\n",
    "numbers = [10, 20, 5, 30]\n",
    "print(find_max(numbers)) "
   ]
  },
  {
   "cell_type": "code",
   "execution_count": null,
   "id": "ac1e1936",
   "metadata": {},
   "outputs": [],
   "source": [
    "def average(*args):\n",
    "    return sum(args) / len(args)\n",
    "\n",
    "print(average(1, 2, 3, 4, 5))  "
   ]
  },
  {
   "cell_type": "code",
   "execution_count": 16,
   "id": "7d277a25",
   "metadata": {},
   "outputs": [],
   "source": [
    "def info(id,name,city=\"Delhi\",salary=20000):\n",
    "    print(\"id is :\",id)\n",
    "    print(\"name is  :\",name)\n",
    "    print(\"city is. :\",city)\n",
    "    print(\"salary is :\",salary)"
   ]
  },
  {
   "cell_type": "code",
   "execution_count": 17,
   "id": "a9bd0525",
   "metadata": {},
   "outputs": [
    {
     "name": "stdout",
     "output_type": "stream",
     "text": [
      "id is : 101\n",
      "name is  : Amit\n",
      "city is. : Delhi\n",
      "salary is : 20000\n"
     ]
    }
   ],
   "source": [
    "info(101,\"Amit\")"
   ]
  },
  {
   "cell_type": "code",
   "execution_count": 18,
   "id": "36200d2c",
   "metadata": {},
   "outputs": [
    {
     "name": "stdout",
     "output_type": "stream",
     "text": [
      "id is : 101\n",
      "name is  : Amit\n",
      "city is. : Noida\n",
      "salary is : 450000\n"
     ]
    }
   ],
   "source": [
    "info(101,\"Amit\",\"Noida\",450000)"
   ]
  },
  {
   "cell_type": "code",
   "execution_count": 19,
   "id": "e96e6c4d",
   "metadata": {
    "scrolled": false
   },
   "outputs": [
    {
     "name": "stdout",
     "output_type": "stream",
     "text": [
      "id is : 101\n",
      "name is  : Amit\n",
      "city is. : Delhi\n",
      "salary is : 55000\n"
     ]
    }
   ],
   "source": [
    "info(101,\"Amit\",salary=55000)"
   ]
  },
  {
   "cell_type": "markdown",
   "id": "ea702c53",
   "metadata": {},
   "source": [
    "#### List Comprehension"
   ]
  },
  {
   "cell_type": "raw",
   "id": "3f28a29f",
   "metadata": {},
   "source": [
    "List comprehension offers a shorter syntax when you want to create a new list based on the values of an existing list."
   ]
  },
  {
   "cell_type": "code",
   "execution_count": 11,
   "id": "7a22028d",
   "metadata": {},
   "outputs": [
    {
     "data": {
      "text/plain": [
       "[56, 42, 88, 90, 54]"
      ]
     },
     "execution_count": 11,
     "metadata": {},
     "output_type": "execute_result"
    }
   ],
   "source": [
    "data=[23,56,42,88,21,45,7,90,54,87]\n",
    "\n",
    "even=[]\n",
    "for x in data:\n",
    "    if x%2==0:\n",
    "        even.append(x)\n",
    "even"
   ]
  },
  {
   "cell_type": "code",
   "execution_count": 12,
   "id": "dca50f8d",
   "metadata": {},
   "outputs": [
    {
     "data": {
      "text/plain": [
       "[56, 42, 88, 90, 54]"
      ]
     },
     "execution_count": 12,
     "metadata": {},
     "output_type": "execute_result"
    }
   ],
   "source": [
    "data=[23,56,42,88,21,45,7,90,54,87]\n",
    "\n",
    "data1=[ x   for x in data   if x%2==0 ]\n",
    "\n",
    "data1"
   ]
  },
  {
   "cell_type": "code",
   "execution_count": 13,
   "id": "10691ef6",
   "metadata": {},
   "outputs": [
    {
     "data": {
      "text/plain": [
       "[56, 88, 90, 54]"
      ]
     },
     "execution_count": 13,
     "metadata": {},
     "output_type": "execute_result"
    }
   ],
   "source": [
    "data=[23,56,42,88,21,45,7,90,54,87]\n",
    "\n",
    "even=[]\n",
    "for x in data:\n",
    "    if x%2==0 :\n",
    "        if x>50:\n",
    "            even.append(x)\n",
    "even"
   ]
  },
  {
   "cell_type": "code",
   "execution_count": 14,
   "id": "1eff1f06",
   "metadata": {},
   "outputs": [
    {
     "data": {
      "text/plain": [
       "[56, 88, 90, 54]"
      ]
     },
     "execution_count": 14,
     "metadata": {},
     "output_type": "execute_result"
    }
   ],
   "source": [
    "data=[23,56,42,88,21,45,7,90,54,87]\n",
    "\n",
    "data1=[ x   for x in data   if x%2==0   if x>50]\n",
    "\n",
    "data1"
   ]
  },
  {
   "cell_type": "code",
   "execution_count": 15,
   "id": "a3533523",
   "metadata": {},
   "outputs": [
    {
     "data": {
      "text/plain": [
       "[4.6000000000000005,\n",
       " 11.200000000000001,\n",
       " 8.4,\n",
       " 17.6,\n",
       " 4.2,\n",
       " 9.0,\n",
       " 1.4000000000000001,\n",
       " 18.0,\n",
       " 10.8,\n",
       " 17.400000000000002]"
      ]
     },
     "execution_count": 15,
     "metadata": {},
     "output_type": "execute_result"
    }
   ],
   "source": [
    "data=[23,56,42,88,21,45,7,90,54,87]\n",
    "\n",
    "newdata=[]\n",
    "\n",
    "for x in data:\n",
    "    newdata.append(x*0.2)\n",
    "    \n",
    "newdata"
   ]
  },
  {
   "cell_type": "code",
   "execution_count": 16,
   "id": "fe068543",
   "metadata": {},
   "outputs": [
    {
     "data": {
      "text/plain": [
       "[4.6000000000000005,\n",
       " 11.200000000000001,\n",
       " 8.4,\n",
       " 17.6,\n",
       " 4.2,\n",
       " 9.0,\n",
       " 1.4000000000000001,\n",
       " 18.0,\n",
       " 10.8,\n",
       " 17.400000000000002]"
      ]
     },
     "execution_count": 16,
     "metadata": {},
     "output_type": "execute_result"
    }
   ],
   "source": [
    "data=[23,56,42,88,21,45,7,90,54,87]\n",
    "\n",
    "newdata= [x*0.2    for x in data]\n",
    "\n",
    "newdata"
   ]
  },
  {
   "cell_type": "code",
   "execution_count": 1,
   "id": "cae0f1a7",
   "metadata": {},
   "outputs": [
    {
     "name": "stdout",
     "output_type": "stream",
     "text": [
      "2\n",
      "5\n"
     ]
    }
   ],
   "source": [
    "data=[101,\"Amit\",23,\"Delhi\",65758,23]\n",
    "\n",
    "for x in range(len(data)):\n",
    "    if data[x]==23:\n",
    "        print(x)"
   ]
  },
  {
   "cell_type": "code",
   "execution_count": 1,
   "id": "d8c8b6d8",
   "metadata": {},
   "outputs": [
    {
     "data": {
      "text/plain": [
       "[23, 23]"
      ]
     },
     "execution_count": 1,
     "metadata": {},
     "output_type": "execute_result"
    }
   ],
   "source": [
    "data=[101,\"Amit\",23,\"Delhi\",65758,23]\n",
    "\n",
    "Q=[ x  for x in range(len(data))  if data[x]==23 ]\n",
    "\n",
    "Q"
   ]
  },
  {
   "cell_type": "code",
   "execution_count": 17,
   "id": "68781956",
   "metadata": {},
   "outputs": [
    {
     "data": {
      "text/plain": [
       "[1, 0, 1, 1, 0, 0, 1]"
      ]
     },
     "execution_count": 17,
     "metadata": {},
     "output_type": "execute_result"
    }
   ],
   "source": [
    "Gender=['M','F','M','M','F','F','M']\n",
    "\n",
    "newG=[]\n",
    "\n",
    "for x in Gender:\n",
    "    if x==\"M\":\n",
    "        newG.append(1)\n",
    "    else:\n",
    "        newG.append(0)\n",
    "        \n",
    "newG"
   ]
  },
  {
   "cell_type": "code",
   "execution_count": 18,
   "id": "6e077ff1",
   "metadata": {},
   "outputs": [
    {
     "data": {
      "text/plain": [
       "[1, 0, 1, 1, 0, 0, 1]"
      ]
     },
     "execution_count": 18,
     "metadata": {},
     "output_type": "execute_result"
    }
   ],
   "source": [
    "Gender=['M','F','M','M','F','F','M']\n",
    "\n",
    "data=[1   if x=='M'  else 0    for x in Gender]\n",
    "\n",
    "data"
   ]
  },
  {
   "cell_type": "markdown",
   "id": "a15ce616",
   "metadata": {},
   "source": [
    "#### Lambda Functions"
   ]
  },
  {
   "cell_type": "raw",
   "id": "8b3c902f",
   "metadata": {},
   "source": [
    "\"def\" keyword is used to define the normal functions and the \"lambda\" keyword is used to create anonymous functions\n",
    "Lambda definition does not include a return statement, it always contains an expression which is returned. \n",
    "We can also put a lambda definition anywhere a function is expected, and we donít have to assign  it to a variable at all. \n",
    "\n",
    "lambda arguments: expression\n",
    "\n",
    "1.This function can have any number of arguments but only one expression,  which is evaluated and returned.\n",
    "2.One is free to use lambda functions wherever function objects are required.\n",
    "3.You need to keep in your knowledge that lambda functions are syntactically restricted to a single expression.\n",
    "4.It has various uses in particular fields of programming besides other \n",
    "types of expressions in functions."
   ]
  },
  {
   "cell_type": "code",
   "execution_count": 1,
   "id": "11a3cd29",
   "metadata": {},
   "outputs": [],
   "source": [
    "def cube(x):\n",
    "    return x*x*x"
   ]
  },
  {
   "cell_type": "code",
   "execution_count": 3,
   "id": "e6766290",
   "metadata": {},
   "outputs": [
    {
     "data": {
      "text/plain": [
       "27"
      ]
     },
     "execution_count": 3,
     "metadata": {},
     "output_type": "execute_result"
    }
   ],
   "source": [
    "cube(3)"
   ]
  },
  {
   "cell_type": "code",
   "execution_count": 2,
   "id": "9f270d13",
   "metadata": {},
   "outputs": [],
   "source": [
    "a=lambda x : x*x*x"
   ]
  },
  {
   "cell_type": "code",
   "execution_count": 4,
   "id": "4327800f",
   "metadata": {},
   "outputs": [
    {
     "data": {
      "text/plain": [
       "64"
      ]
     },
     "execution_count": 4,
     "metadata": {},
     "output_type": "execute_result"
    }
   ],
   "source": [
    "a(4)"
   ]
  },
  {
   "cell_type": "code",
   "execution_count": 5,
   "id": "2a98b2b3",
   "metadata": {},
   "outputs": [],
   "source": [
    "def add(x,y):\n",
    "    return x+y"
   ]
  },
  {
   "cell_type": "code",
   "execution_count": 6,
   "id": "56f45305",
   "metadata": {},
   "outputs": [],
   "source": [
    "a=lambda x,y : x+y"
   ]
  },
  {
   "cell_type": "code",
   "execution_count": 7,
   "id": "3a0172f3",
   "metadata": {},
   "outputs": [
    {
     "data": {
      "text/plain": [
       "7"
      ]
     },
     "execution_count": 7,
     "metadata": {},
     "output_type": "execute_result"
    }
   ],
   "source": [
    "add(3,4)"
   ]
  },
  {
   "cell_type": "code",
   "execution_count": 8,
   "id": "d4748c7f",
   "metadata": {},
   "outputs": [
    {
     "data": {
      "text/plain": [
       "13"
      ]
     },
     "execution_count": 8,
     "metadata": {},
     "output_type": "execute_result"
    }
   ],
   "source": [
    "a(6,7)"
   ]
  },
  {
   "cell_type": "raw",
   "id": "b4e2a965",
   "metadata": {},
   "source": [
    "Map, Filter and Reduce"
   ]
  },
  {
   "cell_type": "code",
   "execution_count": 9,
   "id": "0bcf44f1",
   "metadata": {},
   "outputs": [
    {
     "data": {
      "text/plain": [
       "['Am', 'De', 'Sa', 'Ar', 'Ah']"
      ]
     },
     "execution_count": 9,
     "metadata": {},
     "output_type": "execute_result"
    }
   ],
   "source": [
    "data=[\"Amit\",\"Deepak\",\"Sam\",\"Archna\",\"Ahuja\"]\n",
    "\n",
    "def sliced(name):\n",
    "    return name[0:2]\n",
    "\n",
    "list(map(sliced,data))"
   ]
  },
  {
   "cell_type": "code",
   "execution_count": 10,
   "id": "a3ceba77",
   "metadata": {},
   "outputs": [
    {
     "data": {
      "text/plain": [
       "['Am', 'De', 'Sa', 'Ar', 'Ah']"
      ]
     },
     "execution_count": 10,
     "metadata": {},
     "output_type": "execute_result"
    }
   ],
   "source": [
    "data=[\"Amit\",\"Deepak\",\"Sam\",\"Archna\",\"Ahuja\"]\n",
    "\n",
    "list(map(lambda name : name[0:2],data))"
   ]
  },
  {
   "cell_type": "code",
   "execution_count": 11,
   "id": "9bf3a340",
   "metadata": {},
   "outputs": [
    {
     "data": {
      "text/plain": [
       "[22, 62, 78, 64]"
      ]
     },
     "execution_count": 11,
     "metadata": {},
     "output_type": "execute_result"
    }
   ],
   "source": [
    "data=[23,45,22,62,78,64,55]\n",
    "\n",
    "list(filter(lambda x : x%2==0,data))"
   ]
  },
  {
   "cell_type": "code",
   "execution_count": 12,
   "id": "d1166d50",
   "metadata": {},
   "outputs": [
    {
     "data": {
      "text/plain": [
       "349"
      ]
     },
     "execution_count": 12,
     "metadata": {},
     "output_type": "execute_result"
    }
   ],
   "source": [
    "import functools\n",
    "data=[23,45,22,62,78,64,55]\n",
    "\n",
    "functools.reduce(lambda x,y : x+y,data)"
   ]
  },
  {
   "cell_type": "code",
   "execution_count": 49,
   "id": "46f16fa0",
   "metadata": {},
   "outputs": [
    {
     "name": "stdout",
     "output_type": "stream",
     "text": [
      "100 200\n",
      "100\n"
     ]
    },
    {
     "ename": "NameError",
     "evalue": "name 'q' is not defined",
     "output_type": "error",
     "traceback": [
      "\u001b[0;31m---------------------------------------------------------------------------\u001b[0m",
      "\u001b[0;31mNameError\u001b[0m                                 Traceback (most recent call last)",
      "\u001b[0;32m<ipython-input-49-aee290d3f89c>\u001b[0m in \u001b[0;36m<module>\u001b[0;34m\u001b[0m\n\u001b[1;32m     15\u001b[0m \u001b[0;34m\u001b[0m\u001b[0m\n\u001b[1;32m     16\u001b[0m \u001b[0mm1\u001b[0m\u001b[0;34m(\u001b[0m\u001b[0;34m)\u001b[0m\u001b[0;34m\u001b[0m\u001b[0;34m\u001b[0m\u001b[0m\n\u001b[0;32m---> 17\u001b[0;31m \u001b[0mm2\u001b[0m\u001b[0;34m(\u001b[0m\u001b[0;34m)\u001b[0m\u001b[0;34m\u001b[0m\u001b[0;34m\u001b[0m\u001b[0m\n\u001b[0m",
      "\u001b[0;32m<ipython-input-49-aee290d3f89c>\u001b[0m in \u001b[0;36mm2\u001b[0;34m()\u001b[0m\n\u001b[1;32m     11\u001b[0m \u001b[0;32mdef\u001b[0m \u001b[0mm2\u001b[0m\u001b[0;34m(\u001b[0m\u001b[0;34m)\u001b[0m\u001b[0;34m:\u001b[0m\u001b[0;34m\u001b[0m\u001b[0;34m\u001b[0m\u001b[0m\n\u001b[1;32m     12\u001b[0m     \u001b[0mprint\u001b[0m\u001b[0;34m(\u001b[0m\u001b[0mp\u001b[0m\u001b[0;34m)\u001b[0m\u001b[0;34m\u001b[0m\u001b[0;34m\u001b[0m\u001b[0m\n\u001b[0;32m---> 13\u001b[0;31m     \u001b[0mprint\u001b[0m\u001b[0;34m(\u001b[0m\u001b[0mq\u001b[0m\u001b[0;34m)\u001b[0m\u001b[0;34m\u001b[0m\u001b[0;34m\u001b[0m\u001b[0m\n\u001b[0m\u001b[1;32m     14\u001b[0m \u001b[0;34m\u001b[0m\u001b[0m\n\u001b[1;32m     15\u001b[0m \u001b[0;34m\u001b[0m\u001b[0m\n",
      "\u001b[0;31mNameError\u001b[0m: name 'q' is not defined"
     ]
    }
   ],
   "source": [
    "#global : outside function\n",
    "#local : inside function\n",
    " \n",
    "    \n",
    "p=100 #global\n",
    "\n",
    "def m1():\n",
    "    q=200 #local\n",
    "    print(p,q)\n",
    "    \n",
    "def m2():\n",
    "    print(p)\n",
    "    print(q)\n",
    "   \n",
    "    \n",
    "m1()\n",
    "m2() "
   ]
  }
 ],
 "metadata": {
  "kernelspec": {
   "display_name": "Python 3 (ipykernel)",
   "language": "python",
   "name": "python3"
  },
  "language_info": {
   "codemirror_mode": {
    "name": "ipython",
    "version": 3
   },
   "file_extension": ".py",
   "mimetype": "text/x-python",
   "name": "python",
   "nbconvert_exporter": "python",
   "pygments_lexer": "ipython3",
   "version": "3.8.8"
  }
 },
 "nbformat": 4,
 "nbformat_minor": 5
}
