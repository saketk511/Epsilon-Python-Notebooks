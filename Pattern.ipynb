{
 "cells": [
  {
   "cell_type": "markdown",
   "id": "9c7f0072",
   "metadata": {},
   "source": [
    "# Shapes"
   ]
  },
  {
   "cell_type": "code",
   "execution_count": 8,
   "id": "afd702be",
   "metadata": {},
   "outputs": [
    {
     "name": "stdout",
     "output_type": "stream",
     "text": [
      "2 3 4 5 6 \n",
      "3 4 5 6 7 \n",
      "4 5 6 7 8 \n",
      "5 6 7 8 9 \n",
      "6 7 8 9 10 \n"
     ]
    }
   ],
   "source": [
    "def print_square(n):\n",
    "    for i in range(1, n+1):\n",
    "        for j in range(1, n+1):\n",
    "            print(f'{i+j}', end=' ')\n",
    "        print()\n",
    "\n",
    "print_square(5)"
   ]
  },
  {
   "cell_type": "code",
   "execution_count": 9,
   "id": "cdc5a4a0",
   "metadata": {},
   "outputs": [
    {
     "name": "stdout",
     "output_type": "stream",
     "text": [
      "1 \n",
      "2 2 \n",
      "3 3 3 \n",
      "4 4 4 4 \n",
      "5 5 5 5 5 \n"
     ]
    }
   ],
   "source": [
    "def print_traingle_1(n):\n",
    "    for i in range(1, n+1):\n",
    "        for j in range(i):\n",
    "            print(f'{i}', end=' ')\n",
    "\n",
    "        print()\n",
    "\n",
    "print_traingle_1(5)"
   ]
  },
  {
   "cell_type": "code",
   "execution_count": 10,
   "id": "5bd37873",
   "metadata": {},
   "outputs": [
    {
     "name": "stdout",
     "output_type": "stream",
     "text": [
      "1 2 3 4 5 \n",
      "  2 3 4 5 \n",
      "    3 4 5 \n",
      "      4 5 \n",
      "        5 \n"
     ]
    }
   ],
   "source": [
    "def print_print_traingle_2(n):\n",
    "    for i in range(1, n+1):\n",
    "        for j in range(1, n+1):\n",
    "            if i<=j:\n",
    "                print(f'{j}', end=' ')\n",
    "            else:\n",
    "                print(' ', end=' ')\n",
    "        print()\n",
    "\n",
    "print_print_traingle_2(5)"
   ]
  },
  {
   "cell_type": "code",
   "execution_count": 12,
   "id": "dbf4991a",
   "metadata": {},
   "outputs": [
    {
     "name": "stdout",
     "output_type": "stream",
     "text": [
      "2 3 4 5 6 \n",
      "3 4 5 6   \n",
      "4 5 6     \n",
      "5 6       \n",
      "6         \n"
     ]
    }
   ],
   "source": [
    "def print_print_traingle_3(n):\n",
    "    for i in range(1, n+1):\n",
    "        for j in range(1, n+1):\n",
    "            if i+j<=n+1:\n",
    "                print(f'{i+j}', end=' ')\n",
    "            else:\n",
    "                print(' ', end=' ')\n",
    "        print()\n",
    "\n",
    "print_print_traingle_3(5)"
   ]
  },
  {
   "cell_type": "code",
   "execution_count": null,
   "id": "88c16b57",
   "metadata": {},
   "outputs": [],
   "source": [
    "def print_print_traingle_4(n):\n",
    "    for i in range(1, n+1):\n",
    "        for j in range(1, n+1):\n",
    "            if i+j>=n+1:\n",
    "                print('*', end=' ')\n",
    "            else:\n",
    "                print(' ', end=' ')\n",
    "        print()\n",
    "\n",
    "print_print_traingle_4(5)"
   ]
  },
  {
   "cell_type": "code",
   "execution_count": null,
   "id": "6ac16c79",
   "metadata": {},
   "outputs": [],
   "source": [
    "def print_rhombus(n):\n",
    "    for i in range(1, n+1):\n",
    "        print(' ' * (n - i) + '* ' * n)\n",
    "\n",
    "print_rhombus(5)"
   ]
  },
  {
   "cell_type": "code",
   "execution_count": null,
   "id": "cbd8e380",
   "metadata": {},
   "outputs": [],
   "source": [
    "def print_rhombus(n):\n",
    "    for i in range(1, n+1):\n",
    "        print(' ' * i + '* ' * n)\n",
    "\n",
    "print_rhombus(5)"
   ]
  },
  {
   "cell_type": "code",
   "execution_count": null,
   "id": "3507dd8e",
   "metadata": {},
   "outputs": [],
   "source": [
    "def print_triangle_5(n):\n",
    "    for i in range(n):\n",
    "        print(' ' * (n - i - 1) + '*' * (2 * i + 1))\n",
    "\n",
    "print_triangle_5(5)"
   ]
  },
  {
   "cell_type": "code",
   "execution_count": null,
   "id": "5fe9918d",
   "metadata": {},
   "outputs": [],
   "source": [
    "def print_arrow(n):\n",
    "    for i in range(1, n+1):\n",
    "        print(' ' * abs((n+1)//2 - i) + '* ' * n)\n",
    "\n",
    "print_arrow(5)"
   ]
  },
  {
   "cell_type": "code",
   "execution_count": 15,
   "id": "3be186f2",
   "metadata": {},
   "outputs": [
    {
     "name": "stdout",
     "output_type": "stream",
     "text": [
      " 11111\n",
      "  22222\n",
      "   33333\n",
      " 44444\n",
      "55555\n"
     ]
    }
   ],
   "source": [
    "def print_arrow(n):\n",
    "    for i in range(1, int((n/2)+1.5)):\n",
    "        print(' ' * i + f'{i}' * n)\n",
    "    for i in range(int((n/2)+1.5), n+1):\n",
    "        print(' ' * abs(n - i) + f'{i}' * n)\n",
    "\n",
    "print_arrow(5)"
   ]
  },
  {
   "cell_type": "code",
   "execution_count": null,
   "id": "f0fe036b",
   "metadata": {},
   "outputs": [],
   "source": [
    "def print_z(n):\n",
    "    for i in range(1, n+1):\n",
    "        for j in range(1, n+1):\n",
    "            if i == 1 or i == n or i + j == n+1:\n",
    "                print('*', end=' ')\n",
    "            else:\n",
    "                print(' ', end=' ')\n",
    "        print()\n",
    "\n",
    "print_z(5)"
   ]
  },
  {
   "cell_type": "code",
   "execution_count": null,
   "id": "a1aba150",
   "metadata": {},
   "outputs": [],
   "source": [
    "def print_h(n):\n",
    "    for i in range(1, n+1):\n",
    "        for j in range(1, n+1):\n",
    "            if j == 1 or j == n or i == ((n/2)+0.5):\n",
    "                print('*', end=' ')\n",
    "            else:\n",
    "                print(' ', end=' ')\n",
    "        print()\n",
    "\n",
    "print_h(5)"
   ]
  },
  {
   "cell_type": "code",
   "execution_count": null,
   "id": "4d2b80d9",
   "metadata": {},
   "outputs": [],
   "source": [
    "def print_x(n):\n",
    "    for i in range(1, n+1):\n",
    "        for j in range(1, n+1):\n",
    "            if i==j or i+j == n+1:\n",
    "                print('*', end=' ')\n",
    "            else:\n",
    "                print(' ', end=' ')\n",
    "        print()\n",
    "\n",
    "print_x(5)"
   ]
  },
  {
   "cell_type": "code",
   "execution_count": null,
   "id": "70e3b88f",
   "metadata": {},
   "outputs": [],
   "source": [
    "def print_t(n):\n",
    "    for i in range(1, n+1):\n",
    "        for j in range(1, n+1):\n",
    "            if i == 1 or j == ((n/2)+0.5):\n",
    "                print('*', end=' ')\n",
    "            else:\n",
    "                print(' ', end=' ')\n",
    "        print()\n",
    "\n",
    "print_t(5)"
   ]
  },
  {
   "cell_type": "code",
   "execution_count": null,
   "id": "a01cf0d2",
   "metadata": {},
   "outputs": [],
   "source": [
    "def print_n(n):\n",
    "    for i in range(1, n+1):\n",
    "        for j in range(1, n+1):\n",
    "            if j == 1 or j == n or i == j:\n",
    "                print('*', end=' ')\n",
    "            else:\n",
    "                print(' ', end=' ')\n",
    "        print()\n",
    "\n",
    "print_n(5)"
   ]
  },
  {
   "cell_type": "code",
   "execution_count": null,
   "id": "f8ac3961",
   "metadata": {},
   "outputs": [],
   "source": [
    "def print_e(n):\n",
    "    for i in range(1, n+1):\n",
    "        for j in range(1, n):\n",
    "            if i == 1 or i == n or i == ((n/2)+0.5) or j == 1:\n",
    "                print('*', end=' ')\n",
    "            else:\n",
    "                print(' ', end=' ')\n",
    "        print()\n",
    "\n",
    "print_e(5)"
   ]
  },
  {
   "cell_type": "code",
   "execution_count": null,
   "id": "d245c1ae",
   "metadata": {},
   "outputs": [],
   "source": [
    "def print_diamond(n):\n",
    "    for i in range(n):\n",
    "        print(' ' * (n - i - 1) + '*' * (2 * i + 1))\n",
    "\n",
    "    for i in range(n-2, -1, -1):\n",
    "        print(' ' * (n - i - 1) + '*' * (2 * i + 1))\n",
    "\n",
    "print_diamond(5)"
   ]
  },
  {
   "cell_type": "code",
   "execution_count": null,
   "id": "bb5edadf",
   "metadata": {},
   "outputs": [],
   "source": []
  }
 ],
 "metadata": {
  "kernelspec": {
   "display_name": "Python 3 (ipykernel)",
   "language": "python",
   "name": "python3"
  },
  "language_info": {
   "codemirror_mode": {
    "name": "ipython",
    "version": 3
   },
   "file_extension": ".py",
   "mimetype": "text/x-python",
   "name": "python",
   "nbconvert_exporter": "python",
   "pygments_lexer": "ipython3",
   "version": "3.8.8"
  }
 },
 "nbformat": 4,
 "nbformat_minor": 5
}
