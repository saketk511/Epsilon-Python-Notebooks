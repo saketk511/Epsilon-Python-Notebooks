{
 "cells": [
  {
   "cell_type": "markdown",
   "id": "b2072fe9",
   "metadata": {},
   "source": [
    "# Classes and OOPs"
   ]
  },
  {
   "cell_type": "markdown",
   "id": "390f57dd",
   "metadata": {},
   "source": [
    "#### Classes"
   ]
  },
  {
   "cell_type": "code",
   "execution_count": 1,
   "id": "24627487",
   "metadata": {},
   "outputs": [],
   "source": [
    "class demo:\n",
    "    def display():\n",
    "        print(\"Hello\")\n",
    "    def a1():\n",
    "        print(\"a1\")\n",
    "    def a2():\n",
    "        print(\"a2\")        "
   ]
  },
  {
   "cell_type": "code",
   "execution_count": 2,
   "id": "83e0ae9b",
   "metadata": {},
   "outputs": [],
   "source": [
    "s=demo()"
   ]
  },
  {
   "cell_type": "code",
   "execution_count": 3,
   "id": "77d745b3",
   "metadata": {},
   "outputs": [
    {
     "data": {
      "text/plain": [
       "<bound method demo.display of <__main__.demo object at 0x00000188877B22B0>>"
      ]
     },
     "execution_count": 3,
     "metadata": {},
     "output_type": "execute_result"
    }
   ],
   "source": [
    "s.display"
   ]
  },
  {
   "cell_type": "raw",
   "id": "84cdd362",
   "metadata": {},
   "source": [
    "self is a reference to the current instance of the class. It allows methods to access and modify the attributes and behavior specific to that instance."
   ]
  },
  {
   "cell_type": "code",
   "execution_count": 4,
   "id": "02e3861f",
   "metadata": {},
   "outputs": [],
   "source": [
    "class demo:\n",
    "    def display(self):\n",
    "        print(\"Hello\")\n",
    "    def a1(self):\n",
    "        print(\"a1\")\n",
    "    def a2(self):\n",
    "        print(\"a2\")"
   ]
  },
  {
   "cell_type": "code",
   "execution_count": 5,
   "id": "ad1c8e99",
   "metadata": {},
   "outputs": [],
   "source": [
    "s=demo()"
   ]
  },
  {
   "cell_type": "code",
   "execution_count": 6,
   "id": "77cf10a6",
   "metadata": {
    "scrolled": true
   },
   "outputs": [
    {
     "name": "stdout",
     "output_type": "stream",
     "text": [
      "Hello\n"
     ]
    }
   ],
   "source": [
    "s.display()"
   ]
  },
  {
   "cell_type": "raw",
   "id": "9450213b",
   "metadata": {},
   "source": [
    "The __init__ method is a special method in Python classes that is automatically called when a new instance of the class is created. It is also known as a constructor method. The purpose of __init__ is to initialize the attributes (or properties) of the newly created object with specific values.\n",
    "\n",
    "Constructor assigns memory to a data member.\n",
    "\n",
    "It is called automatically."
   ]
  },
  {
   "cell_type": "code",
   "execution_count": 7,
   "id": "34131725",
   "metadata": {},
   "outputs": [],
   "source": [
    "class sample:\n",
    "    def __init__(self): # constructor\n",
    "        print(\"constructor created\")\n",
    "        self.name=\"Python\" # data member / variable\n",
    "    def disp (self): # member function\n",
    "        print (self.name)"
   ]
  },
  {
   "cell_type": "code",
   "execution_count": 8,
   "id": "a467cf31",
   "metadata": {},
   "outputs": [
    {
     "name": "stdout",
     "output_type": "stream",
     "text": [
      "constructor created\n"
     ]
    }
   ],
   "source": [
    "obj=sample()"
   ]
  },
  {
   "cell_type": "code",
   "execution_count": 9,
   "id": "d8727898",
   "metadata": {},
   "outputs": [
    {
     "name": "stdout",
     "output_type": "stream",
     "text": [
      "Python\n"
     ]
    }
   ],
   "source": [
    "obj.disp()"
   ]
  },
  {
   "cell_type": "code",
   "execution_count": 10,
   "id": "f1e74e70",
   "metadata": {},
   "outputs": [],
   "source": [
    "class student:\n",
    "    def __init__(self):\n",
    "        self.name=\"Python\"\n",
    "        self.age=20\n",
    "    def display(self):\n",
    "        print(\"name=\", self.name,\"age=\",self.age,id(self.age))"
   ]
  },
  {
   "cell_type": "code",
   "execution_count": 11,
   "id": "ea4eb221",
   "metadata": {},
   "outputs": [],
   "source": [
    "s1=student()\n",
    "s2=student()"
   ]
  },
  {
   "cell_type": "code",
   "execution_count": 12,
   "id": "c26a1088",
   "metadata": {},
   "outputs": [
    {
     "name": "stdout",
     "output_type": "stream",
     "text": [
      "name= Python age= 20 140734711540112\n"
     ]
    }
   ],
   "source": [
    "s1.display()"
   ]
  },
  {
   "cell_type": "code",
   "execution_count": 13,
   "id": "816fabb5",
   "metadata": {},
   "outputs": [
    {
     "name": "stdout",
     "output_type": "stream",
     "text": [
      "name= Python age= 20 140734711540112\n"
     ]
    }
   ],
   "source": [
    "s2.display()"
   ]
  },
  {
   "cell_type": "code",
   "execution_count": 14,
   "id": "ab3c6f31",
   "metadata": {},
   "outputs": [],
   "source": [
    "# Parameterised constructor\n",
    "class sample:\n",
    "    def __init__(self,name): # constructor\n",
    "        print(\"constructor created\")\n",
    "        self.name=name # data member / variable\n",
    "    def disp (self): # member function\n",
    "        print (self.name)"
   ]
  },
  {
   "cell_type": "code",
   "execution_count": 15,
   "id": "0f285d5d",
   "metadata": {},
   "outputs": [
    {
     "name": "stdout",
     "output_type": "stream",
     "text": [
      "constructor created\n"
     ]
    }
   ],
   "source": [
    "obj1=sample(\"Harshit\")"
   ]
  },
  {
   "cell_type": "code",
   "execution_count": 16,
   "id": "357f715c",
   "metadata": {},
   "outputs": [
    {
     "name": "stdout",
     "output_type": "stream",
     "text": [
      "Harshit\n"
     ]
    }
   ],
   "source": [
    "obj1.disp()"
   ]
  },
  {
   "cell_type": "code",
   "execution_count": 17,
   "id": "c6eb0fdd",
   "metadata": {},
   "outputs": [],
   "source": [
    "class student:\n",
    "    def __init__(self,x,y):\n",
    "        self.name=x\n",
    "        self.age=y\n",
    "    def display(self):\n",
    "        print(\"name=\", self.name,\"age=\",self.age)"
   ]
  },
  {
   "cell_type": "code",
   "execution_count": 18,
   "id": "55b36b30",
   "metadata": {},
   "outputs": [
    {
     "name": "stdout",
     "output_type": "stream",
     "text": [
      "enter name Z\n",
      "enter age 99\n"
     ]
    }
   ],
   "source": [
    "a=input(\"enter name \")\n",
    "b=int(input(\"enter age \"))\n",
    "s1=student(a,b)"
   ]
  },
  {
   "cell_type": "code",
   "execution_count": 19,
   "id": "685bc81d",
   "metadata": {},
   "outputs": [
    {
     "name": "stdout",
     "output_type": "stream",
     "text": [
      "name= Z age= 99\n"
     ]
    }
   ],
   "source": [
    "s1.display()"
   ]
  },
  {
   "cell_type": "code",
   "execution_count": 20,
   "id": "7dcc04d2",
   "metadata": {},
   "outputs": [
    {
     "name": "stdout",
     "output_type": "stream",
     "text": [
      "John Doe\n",
      "Hi, I'm John Doe and I'm 30 years old.\n"
     ]
    }
   ],
   "source": [
    "# Class: Person\n",
    "# Method : __init__ , introduce\n",
    "# Parameter : name , age\n",
    "# Attributes, Data Member : self.name , self.age\n",
    "\n",
    "class Person:\n",
    "    def __init__(self, name, age):\n",
    "        self.name = name\n",
    "        self.age = age\n",
    "\n",
    "    def introduce(self):\n",
    "        print(f\"Hi, I'm {self.name} and I'm {self.age} years old.\")\n",
    "\n",
    "# Creating an object of the class\n",
    "person1 = Person(\"John Doe\", 30)\n",
    "\n",
    "# Accessing attributes and calling methods\n",
    "print(person1.name) \n",
    "person1.introduce()  "
   ]
  },
  {
   "cell_type": "raw",
   "id": "d3da0488",
   "metadata": {},
   "source": [
    "Inheritence\n",
    "Single (a->b)\n",
    "Multilevel(a->b->c)\n",
    "Multiple ((a,b)->c)\n",
    "Hireracal (mix of single,multilevel,multiple)"
   ]
  },
  {
   "cell_type": "code",
   "execution_count": 21,
   "id": "1d83de4d",
   "metadata": {},
   "outputs": [],
   "source": [
    "# Single\n",
    "class parent:\n",
    "    def __init__(self):\n",
    "        self.name=\"Python\"\n",
    "class child(parent):\n",
    "    def display(self):\n",
    "        print(self.name)"
   ]
  },
  {
   "cell_type": "code",
   "execution_count": 22,
   "id": "8062de18",
   "metadata": {},
   "outputs": [],
   "source": [
    "obj = child()"
   ]
  },
  {
   "cell_type": "code",
   "execution_count": 23,
   "id": "a7917d20",
   "metadata": {},
   "outputs": [
    {
     "name": "stdout",
     "output_type": "stream",
     "text": [
      "Python\n"
     ]
    }
   ],
   "source": [
    "obj.display()"
   ]
  },
  {
   "cell_type": "code",
   "execution_count": 24,
   "id": "dfcd2f4d",
   "metadata": {},
   "outputs": [],
   "source": [
    "# Multilevel\n",
    "class parent:\n",
    "    def __init__(self):\n",
    "        print(\"parent constructor\")\n",
    "        self.name=\"Python\"\n",
    "        \n",
    "class child1(parent):\n",
    "    def __init__(self):\n",
    "        print(\"child1 constructor\")\n",
    "        parent.__init__(self)\n",
    "        self.age=20\n",
    "        \n",
    "class child2(child1):\n",
    "    def __init__(self):\n",
    "        print(\"child2 constructor\")\n",
    "        child1.__init__(self)\n",
    "        self.prof=\"Developer\"\n",
    "        \n",
    "    def display(self):\n",
    "          print(self.name,self.age,self.prof)        "
   ]
  },
  {
   "cell_type": "code",
   "execution_count": 25,
   "id": "0fa5cb4c",
   "metadata": {},
   "outputs": [
    {
     "name": "stdout",
     "output_type": "stream",
     "text": [
      "child2 constructor\n",
      "child1 constructor\n",
      "parent constructor\n"
     ]
    }
   ],
   "source": [
    "obj=child2()"
   ]
  },
  {
   "cell_type": "code",
   "execution_count": 26,
   "id": "1c1743bb",
   "metadata": {},
   "outputs": [
    {
     "name": "stdout",
     "output_type": "stream",
     "text": [
      "Python 20 Developer\n"
     ]
    }
   ],
   "source": [
    "obj.display()"
   ]
  },
  {
   "cell_type": "code",
   "execution_count": 27,
   "id": "7df5a770",
   "metadata": {},
   "outputs": [],
   "source": [
    "# Multiple\n",
    "class parent1:\n",
    "    def __init__(self):\n",
    "        print(\"parent1 constructor\")\n",
    "        self.name=\"Python\"\n",
    "    def display1(self):\n",
    "        print(\"this is parent function t\")\n",
    "        \n",
    "class parent2:\n",
    "    def __init__(self):\n",
    "        print(\"parent2 constructor\")\n",
    "        self.age=20\n",
    "        \n",
    "class child(parent1,parent2):\n",
    "    def __init__(self):\n",
    "        parent1.__init__(self)\n",
    "        parent2.__init__(self)\n",
    "        self.prof = \"Trainer\"\n",
    "    def display(self):\n",
    "        print(self.name,self.age,self.prof)"
   ]
  },
  {
   "cell_type": "code",
   "execution_count": 28,
   "id": "4665823a",
   "metadata": {},
   "outputs": [
    {
     "name": "stdout",
     "output_type": "stream",
     "text": [
      "parent1 constructor\n",
      "parent2 constructor\n"
     ]
    }
   ],
   "source": [
    "obj=child()"
   ]
  },
  {
   "cell_type": "code",
   "execution_count": 29,
   "id": "dc7c65c3",
   "metadata": {},
   "outputs": [
    {
     "name": "stdout",
     "output_type": "stream",
     "text": [
      "this is parent function t\n"
     ]
    }
   ],
   "source": [
    "obj.display1()"
   ]
  },
  {
   "cell_type": "code",
   "execution_count": 30,
   "id": "67e14025",
   "metadata": {},
   "outputs": [
    {
     "name": "stdout",
     "output_type": "stream",
     "text": [
      "Python 20 Trainer\n"
     ]
    }
   ],
   "source": [
    "obj.display()"
   ]
  },
  {
   "cell_type": "code",
   "execution_count": 31,
   "id": "f8f8b2a1",
   "metadata": {},
   "outputs": [],
   "source": [
    "class parent1:\n",
    "    def __init__(self):\n",
    "        print(\"parent1 constructor\")\n",
    "        self.name=\"Python\"\n",
    "    def display(self):\n",
    "        print(\"this is parent function t\")\n",
    "        \n",
    "class parent2:\n",
    "    def __init__(self):\n",
    "        print(\"parent2 constructor\")\n",
    "        self.age=20\n",
    "        \n",
    "class child(parent1,parent2):\n",
    "    def __init__(self):\n",
    "        parent1.__init__(self)\n",
    "        parent2.__init__(self)\n",
    "        self.prof = \"Trainer\"\n",
    "    def display(self): # Overloading\n",
    "        print(self.name,self.age,self.prof)"
   ]
  },
  {
   "cell_type": "code",
   "execution_count": 32,
   "id": "f5917866",
   "metadata": {},
   "outputs": [
    {
     "name": "stdout",
     "output_type": "stream",
     "text": [
      "parent1 constructor\n",
      "parent2 constructor\n",
      "Python 20 Trainer\n"
     ]
    }
   ],
   "source": [
    "obj=child()\n",
    "obj.display()"
   ]
  },
  {
   "cell_type": "code",
   "execution_count": 33,
   "id": "d75d8b1a",
   "metadata": {},
   "outputs": [],
   "source": [
    "class parent:\n",
    "    def __init__(self):\n",
    "        self.name=\"Harshit\"\n",
    "        self.age=25\n",
    "        self.prof=\"Manager\"\n",
    "        \n",
    "class child1(parent):\n",
    "    def __init__(self):\n",
    "        parent.__init__(self)\n",
    "        self.city=\"Agra\"\n",
    "        \n",
    "    def display(self):\n",
    "        print(self.name,self.age,self.prof,self.city)\n",
    "        \n",
    "class child2(parent):\n",
    "    def __init__(self):\n",
    "        parent.__init__(self)\n",
    "        self.country=\"Itly\"\n",
    "       \n",
    "    def display(self):\n",
    "        print(self.name,self.age,self.prof,self.country)"
   ]
  },
  {
   "cell_type": "code",
   "execution_count": 34,
   "id": "cd37e461",
   "metadata": {},
   "outputs": [
    {
     "name": "stdout",
     "output_type": "stream",
     "text": [
      "Harshit 25 Manager Agra\n"
     ]
    }
   ],
   "source": [
    "obj1=child1()\n",
    "obj1.display()"
   ]
  },
  {
   "cell_type": "code",
   "execution_count": 35,
   "id": "6b57b516",
   "metadata": {},
   "outputs": [
    {
     "name": "stdout",
     "output_type": "stream",
     "text": [
      "Harshit 25 Manager Itly\n"
     ]
    }
   ],
   "source": [
    "obj2=child2()\n",
    "obj2.display()"
   ]
  },
  {
   "cell_type": "markdown",
   "id": "06f1dcc6",
   "metadata": {},
   "source": [
    "#### Encapsulation"
   ]
  },
  {
   "cell_type": "raw",
   "id": "d75cc2ab",
   "metadata": {},
   "source": [
    "Various object-oriented languages like C++, Java, Python control access modifications which are used to restrict access to the variables and methods of the class. Most programming languages has three forms of access modifiers, which are Public, Protected and Private in a class.\n",
    "Python uses ‘_’ symbol to determine the access control for a specific data member or a member function of a class. Access specifiers in Python have an important role to play in securing\n",
    "data from unauthorized access and in preventing it from being exploited.\n",
    "\n",
    "A Class in Python has three types of access modifiers:\n",
    "# Public Access Modifier\n",
    "# Protected Access Modifier\n",
    "# Private Access Modifier"
   ]
  },
  {
   "cell_type": "raw",
   "id": "f1ab7929",
   "metadata": {},
   "source": [
    "Public Access Modifier:\n",
    "The members of a class that are declared public are easily accessible from any part of the program. \n",
    "All data members and member functions of a class are public by default. "
   ]
  },
  {
   "cell_type": "code",
   "execution_count": 36,
   "id": "4074467b",
   "metadata": {},
   "outputs": [
    {
     "name": "stdout",
     "output_type": "stream",
     "text": [
      "Name:  R2J\n",
      "Age:  20\n"
     ]
    }
   ],
   "source": [
    "# program to illustrate public access modifier in a class\n",
    "\n",
    "class Geek:\n",
    "\n",
    "# constructor\n",
    "    def __init__(self, name, age):\n",
    "\n",
    "# public data members\n",
    "        self.geekName = name\n",
    "        self.geekAge = age\n",
    "\n",
    "# public member function\n",
    "    def displayAge(self):\n",
    "    \n",
    "# accessing public data member\n",
    "        print(\"Age: \", self.geekAge)\n",
    "\n",
    "# creating object of the class\n",
    "obj = Geek(\"R2J\", 20)\n",
    "\n",
    "# accessing public data member\n",
    "print(\"Name: \", obj.geekName)\n",
    "\n",
    "# calling public member function of the class\n",
    "obj.displayAge()"
   ]
  },
  {
   "cell_type": "raw",
   "id": "c0ffafee",
   "metadata": {},
   "source": [
    "Protected Access Modifier:\n",
    "The members of a class that are declared protected are only accessible to a class derived from it. \n",
    "Data members of a class are declared protected by adding a single underscore ‘_’ symbol before the data member of that class. "
   ]
  },
  {
   "cell_type": "code",
   "execution_count": 37,
   "id": "ea435abe",
   "metadata": {},
   "outputs": [],
   "source": [
    "class parent:\n",
    "    def __init__(self):\n",
    "        self._name=\"Harshit\" # Protected _only child use it \n",
    "        self._age=25 \n",
    "    def display(self):\n",
    "        print(self.__name,self._age)\n",
    "        \n",
    "class child(parent):\n",
    "    def __init__(self):\n",
    "        parent.__init__(self)\n",
    "    def display(self):\n",
    "        print(self._age)"
   ]
  },
  {
   "cell_type": "code",
   "execution_count": 38,
   "id": "7c92cc63",
   "metadata": {},
   "outputs": [],
   "source": [
    "obj3=child()"
   ]
  },
  {
   "cell_type": "code",
   "execution_count": 39,
   "id": "c97e010b",
   "metadata": {
    "scrolled": true
   },
   "outputs": [
    {
     "name": "stdout",
     "output_type": "stream",
     "text": [
      "25\n"
     ]
    }
   ],
   "source": [
    "obj3.display()"
   ]
  },
  {
   "cell_type": "code",
   "execution_count": 40,
   "id": "73e5b047",
   "metadata": {},
   "outputs": [
    {
     "name": "stdout",
     "output_type": "stream",
     "text": [
      "Name:  R2J\n",
      "Roll:  1706256\n",
      "Branch:  Information Technology\n"
     ]
    }
   ],
   "source": [
    "# program to illustrate protected access modifier in a class\n",
    "\n",
    "# super class\n",
    "class Student:\n",
    "\n",
    "# protected data members\n",
    "    _name = None\n",
    "    _roll = None\n",
    "    _branch = None\n",
    "\n",
    "# constructor\n",
    "    def __init__(self, name, roll, branch):\n",
    "        self._name = name\n",
    "        self._roll = roll\n",
    "        self._branch = branch\n",
    "\n",
    "# protected member function\n",
    "    def _displayRollAndBranch(self):\n",
    "\n",
    "# accessing protected data members\n",
    "        print(\"Roll: \", self._roll)\n",
    "        print(\"Branch: \", self._branch)\n",
    "\n",
    "\n",
    "# derived class\n",
    "class Geek(Student):\n",
    "\n",
    "# constructor\n",
    "    def __init__(self, name, roll, branch):\n",
    "                Student.__init__(self, name, roll, branch)\n",
    "\n",
    "    # public member function\n",
    "    def displayDetails(self):\n",
    "\n",
    "# accessing protected data members of super class\n",
    "                print(\"Name: \", self._name)\n",
    "\n",
    "# accessing protected member functions of super class\n",
    "                self._displayRollAndBranch()\n",
    "\n",
    "# creating objects of the derived class\t\n",
    "obj = Geek(\"R2J\", 1706256, \"Information Technology\")\n",
    "\n",
    "# calling public member functions of the class\n",
    "obj.displayDetails()\n"
   ]
  },
  {
   "cell_type": "raw",
   "id": "796ba85d",
   "metadata": {},
   "source": [
    "Private Access Modifier:\n",
    "The members of a class that are declared private are accessible within the class only, private access modifier, is the most secure access modifier. Data members of a class are declared private by adding a double underscore ‘__’ symbol before the data member of that class. "
   ]
  },
  {
   "cell_type": "code",
   "execution_count": 41,
   "id": "1f2cd4f8",
   "metadata": {},
   "outputs": [],
   "source": [
    "class parent:\n",
    "    def __init__(self):\n",
    "        self.__name=\"Harshit\" # Private __ prevent child to inherit from parent\n",
    "        self.age=25\n",
    "    def display(self):\n",
    "        print(self.name,self.age)\n",
    "        \n",
    "class child(parent):\n",
    "    def __init__(self):\n",
    "        parent.__init__(self)\n",
    "    def display(self):\n",
    "        print(self.__name,self.age)"
   ]
  },
  {
   "cell_type": "code",
   "execution_count": 42,
   "id": "265c7701",
   "metadata": {},
   "outputs": [],
   "source": [
    "obj1=child()"
   ]
  },
  {
   "cell_type": "code",
   "execution_count": 43,
   "id": "6d42fa06",
   "metadata": {},
   "outputs": [
    {
     "ename": "AttributeError",
     "evalue": "'child' object has no attribute '_child__name'",
     "output_type": "error",
     "traceback": [
      "\u001b[1;31m---------------------------------------------------------------------------\u001b[0m",
      "\u001b[1;31mAttributeError\u001b[0m                            Traceback (most recent call last)",
      "\u001b[1;32mC:\\Users\\SAKETK~1\\AppData\\Local\\Temp/ipykernel_25772/2771974656.py\u001b[0m in \u001b[0;36m<module>\u001b[1;34m\u001b[0m\n\u001b[1;32m----> 1\u001b[1;33m \u001b[0mobj1\u001b[0m\u001b[1;33m.\u001b[0m\u001b[0mdisplay\u001b[0m\u001b[1;33m(\u001b[0m\u001b[1;33m)\u001b[0m\u001b[1;33m\u001b[0m\u001b[1;33m\u001b[0m\u001b[0m\n\u001b[0m",
      "\u001b[1;32mC:\\Users\\SAKETK~1\\AppData\\Local\\Temp/ipykernel_25772/3482826691.py\u001b[0m in \u001b[0;36mdisplay\u001b[1;34m(self)\u001b[0m\n\u001b[0;32m     10\u001b[0m         \u001b[0mparent\u001b[0m\u001b[1;33m.\u001b[0m\u001b[0m__init__\u001b[0m\u001b[1;33m(\u001b[0m\u001b[0mself\u001b[0m\u001b[1;33m)\u001b[0m\u001b[1;33m\u001b[0m\u001b[1;33m\u001b[0m\u001b[0m\n\u001b[0;32m     11\u001b[0m     \u001b[1;32mdef\u001b[0m \u001b[0mdisplay\u001b[0m\u001b[1;33m(\u001b[0m\u001b[0mself\u001b[0m\u001b[1;33m)\u001b[0m\u001b[1;33m:\u001b[0m\u001b[1;33m\u001b[0m\u001b[1;33m\u001b[0m\u001b[0m\n\u001b[1;32m---> 12\u001b[1;33m         \u001b[0mprint\u001b[0m\u001b[1;33m(\u001b[0m\u001b[0mself\u001b[0m\u001b[1;33m.\u001b[0m\u001b[0m__name\u001b[0m\u001b[1;33m,\u001b[0m\u001b[0mself\u001b[0m\u001b[1;33m.\u001b[0m\u001b[0mage\u001b[0m\u001b[1;33m)\u001b[0m\u001b[1;33m\u001b[0m\u001b[1;33m\u001b[0m\u001b[0m\n\u001b[0m",
      "\u001b[1;31mAttributeError\u001b[0m: 'child' object has no attribute '_child__name'"
     ]
    }
   ],
   "source": [
    "obj1.display()"
   ]
  },
  {
   "cell_type": "code",
   "execution_count": 44,
   "id": "f9a67a0e",
   "metadata": {},
   "outputs": [
    {
     "name": "stdout",
     "output_type": "stream",
     "text": [
      "Name:  R2J\n",
      "Roll:  1706256\n",
      "Branch:  Information Technology\n"
     ]
    }
   ],
   "source": [
    "# program to illustrate private access modifier in a class\n",
    "\n",
    "class Geek:\n",
    "\n",
    "# private members\n",
    "    __name = None\n",
    "    __roll = None\n",
    "    __branch = None\n",
    "\n",
    "# constructor\n",
    "    def __init__(self, name, roll, branch):\n",
    "        self.__name = name\n",
    "        self.__roll = roll\n",
    "        self.__branch = branch\n",
    "\n",
    "# private member function\n",
    "    def __displayDetails(self):\n",
    "\n",
    "# accessing private data members\n",
    "        print(\"Name: \", self.__name)\n",
    "        print(\"Roll: \", self.__roll)\n",
    "        print(\"Branch: \", self.__branch)\n",
    "\n",
    "# public member function\n",
    "    def accessPrivateFunction(self):\n",
    "\n",
    "# accessing private member function\n",
    "        self.__displayDetails()\n",
    "\n",
    "# creating object\n",
    "obj = Geek(\"R2J\", 1706256, \"Information Technology\")\n",
    "\n",
    "# calling public member function of the class\n",
    "obj.accessPrivateFunction()\n"
   ]
  },
  {
   "cell_type": "code",
   "execution_count": 45,
   "id": "b8808d01",
   "metadata": {},
   "outputs": [
    {
     "name": "stdout",
     "output_type": "stream",
     "text": [
      "Public Data Member:  Geeks\n",
      "Protected Data Member:  4\n",
      "Private Data Member:  Geeks !\n",
      "Object is accessing protected member: 4\n"
     ]
    }
   ],
   "source": [
    "# program to illustrate access modifiers of a class\n",
    "\n",
    "# super class\n",
    "class Super:\n",
    "\n",
    "# public data member\n",
    "    var1 = None\n",
    "\n",
    "# protected data member\n",
    "    _var2 = None\n",
    "\n",
    "# private data member\n",
    "    __var3 = None\n",
    "\n",
    "# constructor\n",
    "    def __init__(self, var1, var2, var3):\n",
    "        self.var1 = var1\n",
    "        self._var2 = var2\n",
    "        self.__var3 = var3\n",
    "\n",
    "# public member function\n",
    "    def displayPublicMembers(self):\n",
    "\n",
    "# accessing public data members\n",
    "        print(\"Public Data Member: \", self.var1)\n",
    "\n",
    "# protected member function\n",
    "    def _displayProtectedMembers(self):\n",
    "\n",
    "# accessing protected data members\n",
    "        print(\"Protected Data Member: \", self._var2)\n",
    "\n",
    "# private member function\n",
    "    def __displayPrivateMembers(self):\n",
    "\n",
    "# accessing private data members\n",
    "        print(\"Private Data Member: \", self.__var3)\n",
    "\n",
    "# public member function\n",
    "    def accessPrivateMembers(self):\t\n",
    "\n",
    "# accessing private member function\n",
    "        self.__displayPrivateMembers()\n",
    "\n",
    "# derived class\n",
    "class Sub(Super):\n",
    "\n",
    "# constructor\n",
    "    def __init__(self, var1, var2, var3):\n",
    "                Super.__init__(self, var1, var2, var3)\n",
    "\n",
    "# public member function\n",
    "    def accessProtectedMembers(self):\n",
    "\n",
    "# accessing protected member functions of super class\n",
    "                self._displayProtectedMembers()\n",
    "\n",
    "# creating objects of the derived class\t\n",
    "obj = Sub(\"Geeks\", 4, \"Geeks !\")\n",
    "\n",
    "# calling public member functions of the class\n",
    "obj.displayPublicMembers()\n",
    "obj.accessProtectedMembers()\n",
    "obj.accessPrivateMembers()\n",
    "\n",
    "# Object can access protected member\n",
    "print(\"Object is accessing protected member:\", obj._var2)\n",
    "\n",
    "# object can not access private member, so it will generate Attribute error\n",
    "#print(obj.__var3)\n"
   ]
  },
  {
   "cell_type": "markdown",
   "id": "31bb54fc",
   "metadata": {},
   "source": [
    "#### Abstraction"
   ]
  },
  {
   "cell_type": "raw",
   "id": "f9473831",
   "metadata": {},
   "source": [
    "Abstraction in programming involves simplifying complex systems by focusing on the relevant aspects while hiding unnecessary details."
   ]
  },
  {
   "cell_type": "code",
   "execution_count": 46,
   "id": "5a6c25b4",
   "metadata": {},
   "outputs": [],
   "source": [
    "from abc import ABC, abstractmethod"
   ]
  },
  {
   "cell_type": "code",
   "execution_count": 47,
   "id": "c375de3a",
   "metadata": {},
   "outputs": [],
   "source": [
    "class Sample(ABC):\n",
    "    def abstract_method(self):\n",
    "        pass\n",
    "class child(Sample):\n",
    "    def display(self):\n",
    "        print(\"Hello\")"
   ]
  },
  {
   "cell_type": "code",
   "execution_count": 48,
   "id": "05949c77",
   "metadata": {},
   "outputs": [],
   "source": [
    "obj=child()"
   ]
  },
  {
   "cell_type": "code",
   "execution_count": 49,
   "id": "23266806",
   "metadata": {},
   "outputs": [
    {
     "name": "stdout",
     "output_type": "stream",
     "text": [
      "Hello\n"
     ]
    }
   ],
   "source": [
    "obj.display()"
   ]
  },
  {
   "cell_type": "code",
   "execution_count": 50,
   "id": "593498ad",
   "metadata": {},
   "outputs": [],
   "source": [
    "class Sample(ABC):\n",
    "    @abstractmethod\n",
    "    def abstract_method(self):\n",
    "        pass\n",
    "class child(Sample):\n",
    "    def display(self):\n",
    "        print(\"Hello\")"
   ]
  },
  {
   "cell_type": "code",
   "execution_count": 51,
   "id": "f4595753",
   "metadata": {},
   "outputs": [
    {
     "ename": "TypeError",
     "evalue": "Can't instantiate abstract class child with abstract methods abstract_method",
     "output_type": "error",
     "traceback": [
      "\u001b[1;31m---------------------------------------------------------------------------\u001b[0m",
      "\u001b[1;31mTypeError\u001b[0m                                 Traceback (most recent call last)",
      "\u001b[1;32mC:\\Users\\SAKETK~1\\AppData\\Local\\Temp/ipykernel_25772/3445954302.py\u001b[0m in \u001b[0;36m<module>\u001b[1;34m\u001b[0m\n\u001b[1;32m----> 1\u001b[1;33m \u001b[0mobj\u001b[0m\u001b[1;33m=\u001b[0m\u001b[0mchild\u001b[0m\u001b[1;33m(\u001b[0m\u001b[1;33m)\u001b[0m\u001b[1;33m\u001b[0m\u001b[1;33m\u001b[0m\u001b[0m\n\u001b[0m",
      "\u001b[1;31mTypeError\u001b[0m: Can't instantiate abstract class child with abstract methods abstract_method"
     ]
    }
   ],
   "source": [
    "obj=child()"
   ]
  },
  {
   "cell_type": "code",
   "execution_count": 54,
   "id": "c247dc30",
   "metadata": {},
   "outputs": [],
   "source": [
    "class Sample(ABC):\n",
    "    @abstractmethod\n",
    "    def abstract_method(self):\n",
    "        pass\n",
    "    \n",
    "class child(Sample):\n",
    "    def abstract_method(self):\n",
    "        print(\"Abstraction\")\n",
    "    def display(self):\n",
    "        print(\"Hello\")"
   ]
  },
  {
   "cell_type": "code",
   "execution_count": 55,
   "id": "23eb0625",
   "metadata": {},
   "outputs": [
    {
     "name": "stdout",
     "output_type": "stream",
     "text": [
      "Abstraction\n"
     ]
    }
   ],
   "source": [
    "obj=child()\n",
    "obj.abstract_method()"
   ]
  },
  {
   "cell_type": "code",
   "execution_count": 56,
   "id": "4de7ec45",
   "metadata": {},
   "outputs": [
    {
     "ename": "NameError",
     "evalue": "name 'Z' is not defined",
     "output_type": "error",
     "traceback": [
      "\u001b[1;31m---------------------------------------------------------------------------\u001b[0m",
      "\u001b[1;31mNameError\u001b[0m                                 Traceback (most recent call last)",
      "\u001b[1;32mC:\\Users\\SAKETK~1\\AppData\\Local\\Temp/ipykernel_25772/1328372179.py\u001b[0m in \u001b[0;36m<module>\u001b[1;34m\u001b[0m\n\u001b[1;32m----> 1\u001b[1;33m \u001b[0mobja\u001b[0m\u001b[1;33m=\u001b[0m\u001b[0mSample\u001b[0m\u001b[1;33m(\u001b[0m\u001b[0mZ\u001b[0m\u001b[1;33m)\u001b[0m \u001b[1;31m# We cannot create object of abstract class\u001b[0m\u001b[1;33m\u001b[0m\u001b[1;33m\u001b[0m\u001b[0m\n\u001b[0m",
      "\u001b[1;31mNameError\u001b[0m: name 'Z' is not defined"
     ]
    }
   ],
   "source": [
    "obja=Sample(Z) # We cannot create object of abstract class"
   ]
  },
  {
   "cell_type": "code",
   "execution_count": null,
   "id": "db2a4022",
   "metadata": {},
   "outputs": [],
   "source": [
    "class Sample(ABC):\n",
    "    @abstractmethod\n",
    "    def abstract_method(self):\n",
    "        pass\n",
    "    def display1(self): # this is non abstract method \n",
    "        print(\"hi\")\n",
    "    \n",
    "class child(Sample):\n",
    "    def abstract_method(self):\n",
    "        print(\"Abstraction\")\n",
    "    def display2(self):\n",
    "        print(\"Hello\")"
   ]
  },
  {
   "cell_type": "code",
   "execution_count": null,
   "id": "fc952fc7",
   "metadata": {},
   "outputs": [],
   "source": [
    "obj=child()"
   ]
  },
  {
   "cell_type": "code",
   "execution_count": null,
   "id": "05de8044",
   "metadata": {},
   "outputs": [],
   "source": [
    "obj.display1()"
   ]
  },
  {
   "cell_type": "code",
   "execution_count": null,
   "id": "afdd2f6e",
   "metadata": {},
   "outputs": [],
   "source": [
    "obj.display2()"
   ]
  },
  {
   "cell_type": "code",
   "execution_count": null,
   "id": "5e9e76fe",
   "metadata": {},
   "outputs": [],
   "source": [
    "class Sample(ABC):\n",
    "    @abstractmethod\n",
    "    def abstract_method(self):\n",
    "        print(\"QWERPOI\")\n",
    "    def display1(self): # this is non abstract method \n",
    "        print(\"hi\")\n",
    "    \n",
    "class child(Sample):\n",
    "    def abstract_method(self):\n",
    "        print(\"Abstraction\")\n",
    "    def display2(self):\n",
    "        print(\"Hello\")\n",
    "    def parent_abstract(self):\n",
    "        super().abstract_method() # Parent function is called"
   ]
  },
  {
   "cell_type": "code",
   "execution_count": null,
   "id": "312f0eeb",
   "metadata": {},
   "outputs": [],
   "source": [
    "obj2=child()"
   ]
  },
  {
   "cell_type": "code",
   "execution_count": null,
   "id": "9bb180f5",
   "metadata": {},
   "outputs": [],
   "source": [
    "obj2.display1()"
   ]
  },
  {
   "cell_type": "code",
   "execution_count": null,
   "id": "665ee3cf",
   "metadata": {},
   "outputs": [],
   "source": [
    "obj2.display2()"
   ]
  },
  {
   "cell_type": "code",
   "execution_count": null,
   "id": "951dab5f",
   "metadata": {},
   "outputs": [],
   "source": [
    "obj2.abstract_method()"
   ]
  },
  {
   "cell_type": "code",
   "execution_count": null,
   "id": "630ece6e",
   "metadata": {},
   "outputs": [],
   "source": [
    "obj2.parent_abstract()"
   ]
  },
  {
   "cell_type": "markdown",
   "id": "eae74284",
   "metadata": {},
   "source": [
    "#### Ploymorphism "
   ]
  },
  {
   "cell_type": "raw",
   "id": "769c8381",
   "metadata": {},
   "source": [
    "Polymorphism allows objects or classes to provide a common interface for a specific action, enabling flexibility in how objects interact with one another.\n",
    "\n",
    "It promotes code reusability and flexibility by allowing different objects or classes to respond differently to the same method call.\n",
    "\n",
    "Polymorphism is a key principle of object-oriented programming and enhances the adaptability and extensibility of software systems."
   ]
  },
  {
   "cell_type": "code",
   "execution_count": 57,
   "id": "d2458fc0",
   "metadata": {},
   "outputs": [
    {
     "name": "stdout",
     "output_type": "stream",
     "text": [
      "Woof!\n",
      "Meow!\n"
     ]
    }
   ],
   "source": [
    "# Method Overriding\n",
    "class Animal:\n",
    "    def make_sound(self):\n",
    "        pass\n",
    "\n",
    "class Dog(Animal):\n",
    "    def make_sound(self):\n",
    "        print(\"Woof!\")\n",
    "\n",
    "class Cat(Animal):\n",
    "    def make_sound(self):\n",
    "        print(\"Meow!\")\n",
    "\n",
    "dog = Dog()\n",
    "cat = Cat()\n",
    "\n",
    "dog.make_sound()\n",
    "cat.make_sound()  "
   ]
  },
  {
   "cell_type": "code",
   "execution_count": 58,
   "id": "6f3c01df",
   "metadata": {},
   "outputs": [
    {
     "name": "stdout",
     "output_type": "stream",
     "text": [
      "15\n",
      "Hello, World!\n"
     ]
    }
   ],
   "source": [
    "# Function Polymorphism\n",
    "def add_numbers(a, b):\n",
    "    return a + b\n",
    "\n",
    "print(add_numbers(5, 10))      # Output: 15\n",
    "print(add_numbers(\"Hello, \", \"World!\"))  # Output: Hello, World"
   ]
  },
  {
   "cell_type": "code",
   "execution_count": null,
   "id": "ebb2d1fc",
   "metadata": {},
   "outputs": [],
   "source": []
  }
 ],
 "metadata": {
  "kernelspec": {
   "display_name": "Python 3 (ipykernel)",
   "language": "python",
   "name": "python3"
  },
  "language_info": {
   "codemirror_mode": {
    "name": "ipython",
    "version": 3
   },
   "file_extension": ".py",
   "mimetype": "text/x-python",
   "name": "python",
   "nbconvert_exporter": "python",
   "pygments_lexer": "ipython3",
   "version": "3.8.8"
  }
 },
 "nbformat": 4,
 "nbformat_minor": 5
}
