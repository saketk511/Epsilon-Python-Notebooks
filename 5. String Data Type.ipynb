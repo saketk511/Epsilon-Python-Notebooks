{
 "cells": [
  {
   "cell_type": "markdown",
   "id": "64a4cb66",
   "metadata": {},
   "source": [
    "# Type Str"
   ]
  },
  {
   "cell_type": "code",
   "execution_count": 1,
   "id": "e9771a00",
   "metadata": {},
   "outputs": [],
   "source": [
    "X = \"Hello World\"\n",
    "Y = \"flowers are beautifull 1000\""
   ]
  },
  {
   "cell_type": "code",
   "execution_count": 2,
   "id": "0f69d6ad",
   "metadata": {},
   "outputs": [
    {
     "name": "stdout",
     "output_type": "stream",
     "text": [
      "['__add__', '__class__', '__contains__', '__delattr__', '__dir__', '__doc__', '__eq__', '__format__', '__ge__', '__getattribute__', '__getitem__', '__getnewargs__', '__gt__', '__hash__', '__init__', '__init_subclass__', '__iter__', '__le__', '__len__', '__lt__', '__mod__', '__mul__', '__ne__', '__new__', '__reduce__', '__reduce_ex__', '__repr__', '__rmod__', '__rmul__', '__setattr__', '__sizeof__', '__str__', '__subclasshook__', 'capitalize', 'casefold', 'center', 'count', 'encode', 'endswith', 'expandtabs', 'find', 'format', 'format_map', 'index', 'isalnum', 'isalpha', 'isascii', 'isdecimal', 'isdigit', 'isidentifier', 'islower', 'isnumeric', 'isprintable', 'isspace', 'istitle', 'isupper', 'join', 'ljust', 'lower', 'lstrip', 'maketrans', 'partition', 'replace', 'rfind', 'rindex', 'rjust', 'rpartition', 'rsplit', 'rstrip', 'split', 'splitlines', 'startswith', 'strip', 'swapcase', 'title', 'translate', 'upper', 'zfill']\n"
     ]
    }
   ],
   "source": [
    "print(dir(str))"
   ]
  },
  {
   "cell_type": "code",
   "execution_count": 3,
   "id": "37d5c009",
   "metadata": {},
   "outputs": [
    {
     "name": "stdout",
     "output_type": "stream",
     "text": [
      "True\n"
     ]
    }
   ],
   "source": [
    "# Check lower case\n",
    "Z = Y.islower()\n",
    "print(Z)"
   ]
  },
  {
   "cell_type": "code",
   "execution_count": 4,
   "id": "83d9ca42",
   "metadata": {},
   "outputs": [
    {
     "name": "stdout",
     "output_type": "stream",
     "text": [
      "False\n"
     ]
    }
   ],
   "source": [
    "# Check upper case\n",
    "Z = Y.isupper()\n",
    "print(Z)"
   ]
  },
  {
   "cell_type": "code",
   "execution_count": 5,
   "id": "4e3462b3",
   "metadata": {},
   "outputs": [
    {
     "name": "stdout",
     "output_type": "stream",
     "text": [
      "hELLO wORLD\n"
     ]
    }
   ],
   "source": [
    "# Swap the case of characters in the string\n",
    "Z = X.swapcase()\n",
    "print(Z)"
   ]
  },
  {
   "cell_type": "code",
   "execution_count": 6,
   "id": "3bb7fb81",
   "metadata": {},
   "outputs": [
    {
     "name": "stdout",
     "output_type": "stream",
     "text": [
      "Flowers are beautifull 1000\n"
     ]
    }
   ],
   "source": [
    "# Capitalize the first letter\n",
    "Z = Y.capitalize()\n",
    "print(Z)"
   ]
  },
  {
   "cell_type": "code",
   "execution_count": 7,
   "id": "df898bfa",
   "metadata": {},
   "outputs": [
    {
     "name": "stdout",
     "output_type": "stream",
     "text": [
      "Flowers Are Beautifull 1000\n"
     ]
    }
   ],
   "source": [
    "# Capitalize the first letter of each word\n",
    "Z = Y.title()\n",
    "print(Z)"
   ]
  },
  {
   "cell_type": "code",
   "execution_count": 8,
   "id": "32a12b83",
   "metadata": {},
   "outputs": [
    {
     "name": "stdout",
     "output_type": "stream",
     "text": [
      "hello world\n"
     ]
    }
   ],
   "source": [
    "# Convert to lowercase\n",
    "Z = X.lower()\n",
    "print(Z)"
   ]
  },
  {
   "cell_type": "code",
   "execution_count": 9,
   "id": "c1e71a3c",
   "metadata": {},
   "outputs": [
    {
     "name": "stdout",
     "output_type": "stream",
     "text": [
      "HELLO WORLD\n"
     ]
    }
   ],
   "source": [
    "# Convert to Uppercase\n",
    "Z = X.upper()\n",
    "print(Z)"
   ]
  },
  {
   "cell_type": "code",
   "execution_count": 10,
   "id": "5634e1e5",
   "metadata": {},
   "outputs": [
    {
     "name": "stdout",
     "output_type": "stream",
     "text": [
      "hello world\n"
     ]
    }
   ],
   "source": [
    "# Casefold the string for case-insensitive comparisons\n",
    "Z = X.casefold()\n",
    "print(Z)"
   ]
  },
  {
   "cell_type": "code",
   "execution_count": 11,
   "id": "753d8615",
   "metadata": {},
   "outputs": [
    {
     "name": "stdout",
     "output_type": "stream",
     "text": [
      "ello World\n"
     ]
    }
   ],
   "source": [
    "# Left Strip\n",
    "Z = X.lstrip(\"H\")\n",
    "print(Z)"
   ]
  },
  {
   "cell_type": "code",
   "execution_count": 12,
   "id": "2b7d45a8",
   "metadata": {},
   "outputs": [
    {
     "name": "stdout",
     "output_type": "stream",
     "text": [
      "Hello Worl\n"
     ]
    }
   ],
   "source": [
    "# Right Strip\n",
    "Z = X.rstrip(\"d\")\n",
    "print(Z)"
   ]
  },
  {
   "cell_type": "code",
   "execution_count": 13,
   "id": "261ff7e7",
   "metadata": {},
   "outputs": [
    {
     "name": "stdout",
     "output_type": "stream",
     "text": [
      "True\n"
     ]
    }
   ],
   "source": [
    "# Check if a string ends with a specific suffix\n",
    "Z = Y.startswith(\"flowers\")\n",
    "print(Z)"
   ]
  },
  {
   "cell_type": "code",
   "execution_count": 14,
   "id": "86dc8e57",
   "metadata": {},
   "outputs": [
    {
     "name": "stdout",
     "output_type": "stream",
     "text": [
      "False\n"
     ]
    }
   ],
   "source": [
    "# Check if a string ends with a specific suffix\n",
    "Z = Y.endswith(\"flowers\")\n",
    "print(Z)"
   ]
  },
  {
   "cell_type": "code",
   "execution_count": 15,
   "id": "90e5edc6",
   "metadata": {},
   "outputs": [
    {
     "name": "stdout",
     "output_type": "stream",
     "text": [
      "False\n"
     ]
    }
   ],
   "source": [
    "# Check if the string contains only alphabetic characters\n",
    "Z = Y.isalpha()\n",
    "print(Z)"
   ]
  },
  {
   "cell_type": "code",
   "execution_count": 16,
   "id": "08911554",
   "metadata": {},
   "outputs": [
    {
     "name": "stdout",
     "output_type": "stream",
     "text": [
      "3\n"
     ]
    }
   ],
   "source": [
    "# Count the number of occurrences of a substring\n",
    "Z = Y.count(\"l\")\n",
    "print(Z)"
   ]
  },
  {
   "cell_type": "code",
   "execution_count": 17,
   "id": "8b96c837",
   "metadata": {},
   "outputs": [
    {
     "name": "stdout",
     "output_type": "stream",
     "text": [
      "['flowers', 'are', 'beautifull', '1000']\n"
     ]
    }
   ],
   "source": [
    "# Split the string into a list using a separator\n",
    "Z = Y.split(\" \")\n",
    "print(Z)"
   ]
  },
  {
   "cell_type": "code",
   "execution_count": 18,
   "id": "f86ee3f6",
   "metadata": {},
   "outputs": [
    {
     "name": "stdout",
     "output_type": "stream",
     "text": [
      "3\n"
     ]
    }
   ],
   "source": [
    "# Find the index of a substring\n",
    "Z = X.find(\"lo\")\n",
    "print(Z)"
   ]
  },
  {
   "cell_type": "code",
   "execution_count": 19,
   "id": "4814aff6",
   "metadata": {},
   "outputs": [
    {
     "name": "stdout",
     "output_type": "stream",
     "text": [
      "flowers are gorgeous 1000\n"
     ]
    }
   ],
   "source": [
    "# Replace a substring with another\n",
    "Z = Y.replace(\"beautifull\", \"gorgeous\")\n",
    "print(Z) "
   ]
  },
  {
   "cell_type": "code",
   "execution_count": 20,
   "id": "53eab055",
   "metadata": {},
   "outputs": [
    {
     "name": "stdout",
     "output_type": "stream",
     "text": [
      "Xello Yorld\n"
     ]
    }
   ],
   "source": [
    "# Replace characters using a translation table\n",
    "# Create a translation table that replaces 'H' with 'X' and 'W' with 'Y'\n",
    "V = X.maketrans({'H': 'X', 'W': 'Y'})\n",
    "Z = X.translate(V)\n",
    "print(Z)"
   ]
  },
  {
   "cell_type": "code",
   "execution_count": 21,
   "id": "05c5c550",
   "metadata": {},
   "outputs": [
    {
     "name": "stdout",
     "output_type": "stream",
     "text": [
      "Python is fun\n"
     ]
    }
   ],
   "source": [
    "# Join a list of words into a single string\n",
    "V = [\"Python\", \"is\", \"fun\"]\n",
    "joined_string = \" \".join(V)\n",
    "print(joined_string)"
   ]
  },
  {
   "cell_type": "code",
   "execution_count": 22,
   "id": "8725e3e2",
   "metadata": {},
   "outputs": [
    {
     "name": "stdout",
     "output_type": "stream",
     "text": [
      "####Hello World#####\n"
     ]
    }
   ],
   "source": [
    "# Center-align a string within a specified width\n",
    "Z = X.center(20,\"#\")\n",
    "print(Z)"
   ]
  },
  {
   "cell_type": "code",
   "execution_count": 23,
   "id": "65a59fb9",
   "metadata": {},
   "outputs": [
    {
     "name": "stdout",
     "output_type": "stream",
     "text": [
      "0000Hello World\n"
     ]
    }
   ],
   "source": [
    "# Pad the string with zeros to achieve a specified width\n",
    "Z = X.zfill(15)\n",
    "print(Z)"
   ]
  },
  {
   "cell_type": "code",
   "execution_count": 24,
   "id": "4a6a0277",
   "metadata": {},
   "outputs": [
    {
     "name": "stdout",
     "output_type": "stream",
     "text": [
      "@@@@@@@@@@@@@@@@@@flowers are beautifull 1000\n"
     ]
    }
   ],
   "source": [
    "# Right-justify the string in a field of a specified width\n",
    "Z = Y.rjust(45, \"@\")\n",
    "print(Z)"
   ]
  },
  {
   "cell_type": "code",
   "execution_count": 25,
   "id": "3a8ce654",
   "metadata": {},
   "outputs": [
    {
     "name": "stdout",
     "output_type": "stream",
     "text": [
      "11\n"
     ]
    }
   ],
   "source": [
    "# Length of string\n",
    "Z = len(X) \n",
    "print(Z)"
   ]
  },
  {
   "cell_type": "code",
   "execution_count": null,
   "id": "3cf4ab7e",
   "metadata": {},
   "outputs": [],
   "source": []
  }
 ],
 "metadata": {
  "kernelspec": {
   "display_name": "Python 3 (ipykernel)",
   "language": "python",
   "name": "python3"
  },
  "language_info": {
   "codemirror_mode": {
    "name": "ipython",
    "version": 3
   },
   "file_extension": ".py",
   "mimetype": "text/x-python",
   "name": "python",
   "nbconvert_exporter": "python",
   "pygments_lexer": "ipython3",
   "version": "3.8.8"
  }
 },
 "nbformat": 4,
 "nbformat_minor": 5
}
