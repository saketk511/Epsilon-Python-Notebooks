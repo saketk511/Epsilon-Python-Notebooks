{
 "cells": [
  {
   "cell_type": "markdown",
   "id": "c3ff73b3",
   "metadata": {},
   "source": [
    "# Type Tuple"
   ]
  },
  {
   "cell_type": "code",
   "execution_count": 1,
   "id": "ed4052cc",
   "metadata": {},
   "outputs": [],
   "source": [
    "# tuple : collection of items eg: Gender, (AM,PM)\n",
    "# tuple : ()\n",
    "# tuple : based on index : start : 0 , end : n-1\n",
    "# tuple : homo , hetro\n",
    "# tuple : immutable"
   ]
  },
  {
   "cell_type": "code",
   "execution_count": 2,
   "id": "0b8d5b36",
   "metadata": {},
   "outputs": [],
   "source": [
    "X = (101,\"Amit\",23,\"Delhi\",78990,100,\"Deepak\",56,\"Tarun\",99,78990,\"05-03-2014\")\n",
    "Y = (92,5,14,21,33,45,52,63,74)"
   ]
  },
  {
   "cell_type": "code",
   "execution_count": 3,
   "id": "59cee7ba",
   "metadata": {},
   "outputs": [
    {
     "name": "stdout",
     "output_type": "stream",
     "text": [
      "['__add__', '__class__', '__contains__', '__delattr__', '__dir__', '__doc__', '__eq__', '__format__', '__ge__', '__getattribute__', '__getitem__', '__getnewargs__', '__gt__', '__hash__', '__init__', '__init_subclass__', '__iter__', '__le__', '__len__', '__lt__', '__mul__', '__ne__', '__new__', '__reduce__', '__reduce_ex__', '__repr__', '__rmul__', '__setattr__', '__sizeof__', '__str__', '__subclasshook__', 'count', 'index']\n"
     ]
    }
   ],
   "source": [
    "print(dir(tuple))"
   ]
  },
  {
   "cell_type": "code",
   "execution_count": 4,
   "id": "6e5d0ba5",
   "metadata": {},
   "outputs": [
    {
     "name": "stdout",
     "output_type": "stream",
     "text": [
      "Amit\n"
     ]
    }
   ],
   "source": [
    "# Show element at a particular position\n",
    "Z = X[1]\n",
    "print(Z)"
   ]
  },
  {
   "cell_type": "code",
   "execution_count": 5,
   "id": "aebbda28",
   "metadata": {},
   "outputs": [
    {
     "name": "stdout",
     "output_type": "stream",
     "text": [
      "56\n"
     ]
    }
   ],
   "source": [
    "# Show element at a particular position\n",
    "Z = X[-5]\n",
    "print(Z)"
   ]
  },
  {
   "cell_type": "code",
   "execution_count": 6,
   "id": "c06d748c",
   "metadata": {},
   "outputs": [
    {
     "name": "stdout",
     "output_type": "stream",
     "text": [
      "('Amit', 78990, 56)\n"
     ]
    }
   ],
   "source": [
    "# Slicing\n",
    "Z = X[1:9:3]\n",
    "print(Z)"
   ]
  },
  {
   "cell_type": "code",
   "execution_count": 7,
   "id": "5cd59df8",
   "metadata": {},
   "outputs": [
    {
     "name": "stdout",
     "output_type": "stream",
     "text": [
      "(63, 45, 21)\n"
     ]
    }
   ],
   "source": [
    "# Slicing\n",
    "Z = Y[-2:-8:-2]\n",
    "print(Z)"
   ]
  },
  {
   "cell_type": "code",
   "execution_count": 8,
   "id": "ab4756bd",
   "metadata": {},
   "outputs": [
    {
     "name": "stdout",
     "output_type": "stream",
     "text": [
      "2\n"
     ]
    }
   ],
   "source": [
    "# Count the number of occurrences of an item in the list\n",
    "Z = X.count(78990)\n",
    "print(Z)"
   ]
  },
  {
   "cell_type": "code",
   "execution_count": 9,
   "id": "a63d521b",
   "metadata": {},
   "outputs": [
    {
     "name": "stdout",
     "output_type": "stream",
     "text": [
      "9\n"
     ]
    }
   ],
   "source": [
    "# Returns the index of the first occurrence of an item in the list\n",
    "Z = X.index(99)\n",
    "print(Z)"
   ]
  },
  {
   "cell_type": "code",
   "execution_count": null,
   "id": "dccf5d4d",
   "metadata": {},
   "outputs": [],
   "source": []
  }
 ],
 "metadata": {
  "kernelspec": {
   "display_name": "Python 3 (ipykernel)",
   "language": "python",
   "name": "python3"
  },
  "language_info": {
   "codemirror_mode": {
    "name": "ipython",
    "version": 3
   },
   "file_extension": ".py",
   "mimetype": "text/x-python",
   "name": "python",
   "nbconvert_exporter": "python",
   "pygments_lexer": "ipython3",
   "version": "3.8.8"
  }
 },
 "nbformat": 4,
 "nbformat_minor": 5
}
