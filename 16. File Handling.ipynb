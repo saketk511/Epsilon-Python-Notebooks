{
 "cells": [
  {
   "cell_type": "markdown",
   "id": "61b9fe03",
   "metadata": {},
   "source": [
    "# File handling"
   ]
  },
  {
   "cell_type": "markdown",
   "id": "75c18852",
   "metadata": {},
   "source": [
    "#### CSV"
   ]
  },
  {
   "cell_type": "code",
   "execution_count": 1,
   "id": "ca55b925",
   "metadata": {},
   "outputs": [
    {
     "name": "stdout",
     "output_type": "stream",
     "text": [
      "['Name', 'Place', 'Thing', 'Animal', 'Colour']\n",
      "['John', 'Paris', 'Laptop', 'Dog', 'Blue']\n",
      "['Sarah', 'New York', 'Bicycle', 'Cat', 'Red']\n",
      "['Michael', 'London', 'Book', 'Rabbit', 'Green']\n",
      "['Emily', 'Tokyo', 'Chair', 'Elephant', 'Yellow']\n",
      "['David', 'Sydney', 'Table', 'Tiger', 'Orange']\n",
      "['Jessica', 'Rome', 'Phone', 'Lion', 'Purple']\n",
      "['James', 'Berlin', 'Car', 'Monkey', 'Pink']\n",
      "['Olivia', 'Beijing', 'Watch', 'Dolphin', 'Brown']\n",
      "['Liam', 'Mumbai', 'Guitar', 'Panda', 'Black']\n",
      "['Ava', 'Moscow', 'Camera', 'Penguin', 'White']\n"
     ]
    }
   ],
   "source": [
    "# Read Csv Files\n",
    "import csv\n",
    "\n",
    "with open('C:\\\\Users\\\\Saket Kumar\\\\Downloads\\\\Youtube\\\\CSV_File.csv', 'r') as file:\n",
    "    csv_reader = csv.reader(file)\n",
    "    for row in csv_reader:\n",
    "        print(row)\n"
   ]
  },
  {
   "cell_type": "code",
   "execution_count": 2,
   "id": "5c142692",
   "metadata": {},
   "outputs": [
    {
     "data": {
      "text/html": [
       "<div>\n",
       "<style scoped>\n",
       "    .dataframe tbody tr th:only-of-type {\n",
       "        vertical-align: middle;\n",
       "    }\n",
       "\n",
       "    .dataframe tbody tr th {\n",
       "        vertical-align: top;\n",
       "    }\n",
       "\n",
       "    .dataframe thead th {\n",
       "        text-align: right;\n",
       "    }\n",
       "</style>\n",
       "<table border=\"1\" class=\"dataframe\">\n",
       "  <thead>\n",
       "    <tr style=\"text-align: right;\">\n",
       "      <th></th>\n",
       "      <th>Name</th>\n",
       "      <th>Place</th>\n",
       "      <th>Thing</th>\n",
       "      <th>Animal</th>\n",
       "      <th>Colour</th>\n",
       "    </tr>\n",
       "  </thead>\n",
       "  <tbody>\n",
       "    <tr>\n",
       "      <th>0</th>\n",
       "      <td>John</td>\n",
       "      <td>Paris</td>\n",
       "      <td>Laptop</td>\n",
       "      <td>Dog</td>\n",
       "      <td>Blue</td>\n",
       "    </tr>\n",
       "    <tr>\n",
       "      <th>1</th>\n",
       "      <td>Sarah</td>\n",
       "      <td>New York</td>\n",
       "      <td>Bicycle</td>\n",
       "      <td>Cat</td>\n",
       "      <td>Red</td>\n",
       "    </tr>\n",
       "    <tr>\n",
       "      <th>2</th>\n",
       "      <td>Michael</td>\n",
       "      <td>London</td>\n",
       "      <td>Book</td>\n",
       "      <td>Rabbit</td>\n",
       "      <td>Green</td>\n",
       "    </tr>\n",
       "    <tr>\n",
       "      <th>3</th>\n",
       "      <td>Emily</td>\n",
       "      <td>Tokyo</td>\n",
       "      <td>Chair</td>\n",
       "      <td>Elephant</td>\n",
       "      <td>Yellow</td>\n",
       "    </tr>\n",
       "    <tr>\n",
       "      <th>4</th>\n",
       "      <td>David</td>\n",
       "      <td>Sydney</td>\n",
       "      <td>Table</td>\n",
       "      <td>Tiger</td>\n",
       "      <td>Orange</td>\n",
       "    </tr>\n",
       "    <tr>\n",
       "      <th>5</th>\n",
       "      <td>Jessica</td>\n",
       "      <td>Rome</td>\n",
       "      <td>Phone</td>\n",
       "      <td>Lion</td>\n",
       "      <td>Purple</td>\n",
       "    </tr>\n",
       "    <tr>\n",
       "      <th>6</th>\n",
       "      <td>James</td>\n",
       "      <td>Berlin</td>\n",
       "      <td>Car</td>\n",
       "      <td>Monkey</td>\n",
       "      <td>Pink</td>\n",
       "    </tr>\n",
       "    <tr>\n",
       "      <th>7</th>\n",
       "      <td>Olivia</td>\n",
       "      <td>Beijing</td>\n",
       "      <td>Watch</td>\n",
       "      <td>Dolphin</td>\n",
       "      <td>Brown</td>\n",
       "    </tr>\n",
       "    <tr>\n",
       "      <th>8</th>\n",
       "      <td>Liam</td>\n",
       "      <td>Mumbai</td>\n",
       "      <td>Guitar</td>\n",
       "      <td>Panda</td>\n",
       "      <td>Black</td>\n",
       "    </tr>\n",
       "    <tr>\n",
       "      <th>9</th>\n",
       "      <td>Ava</td>\n",
       "      <td>Moscow</td>\n",
       "      <td>Camera</td>\n",
       "      <td>Penguin</td>\n",
       "      <td>White</td>\n",
       "    </tr>\n",
       "  </tbody>\n",
       "</table>\n",
       "</div>"
      ],
      "text/plain": [
       "      Name     Place    Thing    Animal  Colour\n",
       "0     John     Paris   Laptop       Dog    Blue\n",
       "1    Sarah  New York  Bicycle       Cat     Red\n",
       "2  Michael    London     Book    Rabbit   Green\n",
       "3    Emily     Tokyo    Chair  Elephant  Yellow\n",
       "4    David    Sydney    Table     Tiger  Orange\n",
       "5  Jessica      Rome    Phone      Lion  Purple\n",
       "6    James    Berlin      Car    Monkey    Pink\n",
       "7   Olivia   Beijing    Watch   Dolphin   Brown\n",
       "8     Liam    Mumbai   Guitar     Panda   Black\n",
       "9      Ava    Moscow   Camera   Penguin   White"
      ]
     },
     "execution_count": 2,
     "metadata": {},
     "output_type": "execute_result"
    }
   ],
   "source": [
    "# Read Csv Files in pandas\n",
    "import pandas as pd\n",
    "\n",
    "CSV_Pandas = pd.read_csv('C:\\\\Users\\\\Saket Kumar\\\\Downloads\\\\Youtube\\\\CSV_File.csv')\n",
    "CSV_Pandas"
   ]
  },
  {
   "cell_type": "code",
   "execution_count": 3,
   "id": "e089bf8a",
   "metadata": {},
   "outputs": [
    {
     "data": {
      "text/html": [
       "<div>\n",
       "<style scoped>\n",
       "    .dataframe tbody tr th:only-of-type {\n",
       "        vertical-align: middle;\n",
       "    }\n",
       "\n",
       "    .dataframe tbody tr th {\n",
       "        vertical-align: top;\n",
       "    }\n",
       "\n",
       "    .dataframe thead th {\n",
       "        text-align: right;\n",
       "    }\n",
       "</style>\n",
       "<table border=\"1\" class=\"dataframe\">\n",
       "  <thead>\n",
       "    <tr style=\"text-align: right;\">\n",
       "      <th></th>\n",
       "      <th>Name</th>\n",
       "      <th>Age</th>\n",
       "      <th>City</th>\n",
       "    </tr>\n",
       "  </thead>\n",
       "  <tbody>\n",
       "    <tr>\n",
       "      <th>0</th>\n",
       "      <td>Joh</td>\n",
       "      <td>28</td>\n",
       "      <td>New York</td>\n",
       "    </tr>\n",
       "    <tr>\n",
       "      <th>1</th>\n",
       "      <td>Alice</td>\n",
       "      <td>24</td>\n",
       "      <td>Los Angeles</td>\n",
       "    </tr>\n",
       "    <tr>\n",
       "      <th>2</th>\n",
       "      <td>Bob</td>\n",
       "      <td>32</td>\n",
       "      <td>Chicago</td>\n",
       "    </tr>\n",
       "    <tr>\n",
       "      <th>3</th>\n",
       "      <td>Eva</td>\n",
       "      <td>22</td>\n",
       "      <td>San Francisco</td>\n",
       "    </tr>\n",
       "    <tr>\n",
       "      <th>4</th>\n",
       "      <td>David</td>\n",
       "      <td>29</td>\n",
       "      <td>Boston</td>\n",
       "    </tr>\n",
       "    <tr>\n",
       "      <th>5</th>\n",
       "      <td>Sophia</td>\n",
       "      <td>27</td>\n",
       "      <td>Miami</td>\n",
       "    </tr>\n",
       "  </tbody>\n",
       "</table>\n",
       "</div>"
      ],
      "text/plain": [
       "     Name  Age           City\n",
       "0     Joh   28       New York\n",
       "1   Alice   24    Los Angeles\n",
       "2     Bob   32        Chicago\n",
       "3     Eva   22  San Francisco\n",
       "4   David   29         Boston\n",
       "5  Sophia   27          Miami"
      ]
     },
     "execution_count": 3,
     "metadata": {},
     "output_type": "execute_result"
    }
   ],
   "source": [
    "# Read Csv Files with other character seperated values\n",
    "DASH_SEPERATED = pd.read_csv('C:\\\\Users\\\\Saket Kumar\\\\Downloads\\\\Youtube\\\\DASH_SEPERATED.csv', delimiter='-')\n",
    "DASH_SEPERATED"
   ]
  },
  {
   "cell_type": "code",
   "execution_count": 4,
   "id": "0493cfec",
   "metadata": {},
   "outputs": [],
   "source": [
    "# Write to csv format\n",
    "\n",
    "EXCEL_DATA = pd.read_excel('C:\\\\Users\\\\Saket Kumar\\\\Downloads\\\\Youtube\\\\EXCEL_DATA.xlsx')\n",
    "EXCEL_DATA.to_csv(' EXCEL_DATA.csv', index = False)"
   ]
  },
  {
   "cell_type": "markdown",
   "id": "6ccfd3e8",
   "metadata": {},
   "source": [
    "#### XLSX"
   ]
  },
  {
   "cell_type": "code",
   "execution_count": 5,
   "id": "8a5de1a8",
   "metadata": {},
   "outputs": [
    {
     "data": {
      "text/html": [
       "<div>\n",
       "<style scoped>\n",
       "    .dataframe tbody tr th:only-of-type {\n",
       "        vertical-align: middle;\n",
       "    }\n",
       "\n",
       "    .dataframe tbody tr th {\n",
       "        vertical-align: top;\n",
       "    }\n",
       "\n",
       "    .dataframe thead th {\n",
       "        text-align: right;\n",
       "    }\n",
       "</style>\n",
       "<table border=\"1\" class=\"dataframe\">\n",
       "  <thead>\n",
       "    <tr style=\"text-align: right;\">\n",
       "      <th></th>\n",
       "      <th>Name</th>\n",
       "      <th>Place</th>\n",
       "      <th>Thing</th>\n",
       "      <th>Animal</th>\n",
       "      <th>Colour</th>\n",
       "    </tr>\n",
       "  </thead>\n",
       "  <tbody>\n",
       "    <tr>\n",
       "      <th>0</th>\n",
       "      <td>John</td>\n",
       "      <td>Paris</td>\n",
       "      <td>Laptop</td>\n",
       "      <td>Dog</td>\n",
       "      <td>Blue</td>\n",
       "    </tr>\n",
       "    <tr>\n",
       "      <th>1</th>\n",
       "      <td>Sarah</td>\n",
       "      <td>New York</td>\n",
       "      <td>Bicycle</td>\n",
       "      <td>Cat</td>\n",
       "      <td>Red</td>\n",
       "    </tr>\n",
       "    <tr>\n",
       "      <th>2</th>\n",
       "      <td>Michael</td>\n",
       "      <td>London</td>\n",
       "      <td>Book</td>\n",
       "      <td>Rabbit</td>\n",
       "      <td>Green</td>\n",
       "    </tr>\n",
       "    <tr>\n",
       "      <th>3</th>\n",
       "      <td>Emily</td>\n",
       "      <td>Tokyo</td>\n",
       "      <td>Chair</td>\n",
       "      <td>Elephant</td>\n",
       "      <td>Yellow</td>\n",
       "    </tr>\n",
       "    <tr>\n",
       "      <th>4</th>\n",
       "      <td>David</td>\n",
       "      <td>Sydney</td>\n",
       "      <td>Table</td>\n",
       "      <td>Tiger</td>\n",
       "      <td>Orange</td>\n",
       "    </tr>\n",
       "    <tr>\n",
       "      <th>5</th>\n",
       "      <td>Jessica</td>\n",
       "      <td>Rome</td>\n",
       "      <td>Phone</td>\n",
       "      <td>Lion</td>\n",
       "      <td>Purple</td>\n",
       "    </tr>\n",
       "    <tr>\n",
       "      <th>6</th>\n",
       "      <td>James</td>\n",
       "      <td>Berlin</td>\n",
       "      <td>Car</td>\n",
       "      <td>Monkey</td>\n",
       "      <td>Pink</td>\n",
       "    </tr>\n",
       "    <tr>\n",
       "      <th>7</th>\n",
       "      <td>Olivia</td>\n",
       "      <td>Beijing</td>\n",
       "      <td>Watch</td>\n",
       "      <td>Dolphin</td>\n",
       "      <td>Brown</td>\n",
       "    </tr>\n",
       "    <tr>\n",
       "      <th>8</th>\n",
       "      <td>Liam</td>\n",
       "      <td>Mumbai</td>\n",
       "      <td>Guitar</td>\n",
       "      <td>Panda</td>\n",
       "      <td>Black</td>\n",
       "    </tr>\n",
       "    <tr>\n",
       "      <th>9</th>\n",
       "      <td>Ava</td>\n",
       "      <td>Moscow</td>\n",
       "      <td>Camera</td>\n",
       "      <td>Penguin</td>\n",
       "      <td>White</td>\n",
       "    </tr>\n",
       "  </tbody>\n",
       "</table>\n",
       "</div>"
      ],
      "text/plain": [
       "      Name     Place    Thing    Animal  Colour\n",
       "0     John     Paris   Laptop       Dog    Blue\n",
       "1    Sarah  New York  Bicycle       Cat     Red\n",
       "2  Michael    London     Book    Rabbit   Green\n",
       "3    Emily     Tokyo    Chair  Elephant  Yellow\n",
       "4    David    Sydney    Table     Tiger  Orange\n",
       "5  Jessica      Rome    Phone      Lion  Purple\n",
       "6    James    Berlin      Car    Monkey    Pink\n",
       "7   Olivia   Beijing    Watch   Dolphin   Brown\n",
       "8     Liam    Mumbai   Guitar     Panda   Black\n",
       "9      Ava    Moscow   Camera   Penguin   White"
      ]
     },
     "execution_count": 5,
     "metadata": {},
     "output_type": "execute_result"
    }
   ],
   "source": [
    "# Read excel Files\n",
    "\n",
    "EXCEL_FILE = pd.read_excel('C:\\\\Users\\\\Saket Kumar\\\\Downloads\\\\Youtube\\\\EXCEL_FILE.xlsx')\n",
    "EXCEL_FILE"
   ]
  },
  {
   "cell_type": "code",
   "execution_count": 6,
   "id": "1245e18c",
   "metadata": {},
   "outputs": [],
   "source": [
    "# Write to xlsx format\n",
    "DASH_SEPERATED.to_excel('DASH_SEPERATED.xlsx', index = False)"
   ]
  },
  {
   "cell_type": "raw",
   "id": "28dcf6e5",
   "metadata": {},
   "source": [
    "#TEXT\n",
    "\n",
    "f=open(\"file\",\"mode\")\n",
    "\n",
    "mode :\n",
    "\n",
    "r , rt => read => default mode\n",
    "w , wt => write => file exists : override data , if file not exists : create \n",
    "a , at => append => file exsits : append , if file not exists : create\n",
    "r+\n",
    "w+\n",
    "a+\n",
    "    \n",
    "#bytes :\n",
    "   rb, wb ,ab, rb+ ,wb+ ,ab+"
   ]
  },
  {
   "cell_type": "code",
   "execution_count": 7,
   "id": "f0fdf785",
   "metadata": {},
   "outputs": [
    {
     "name": "stdout",
     "output_type": "stream",
     "text": [
      "w\n",
      "C:\\Users\\Saket Kumar\\Downloads\\Youtube\\Text_File.txt\n",
      "True\n",
      "False\n",
      "False\n",
      "True\n"
     ]
    }
   ],
   "source": [
    "f=open(\"C:\\\\Users\\\\Saket Kumar\\\\Downloads\\\\Youtube\\\\Text_File.txt\",\"w\")\n",
    "print(f.mode)\n",
    "print(f.name)\n",
    "print(f.writable())\n",
    "print(f.readable())\n",
    "print(f.closed)\n",
    "f.close()\n",
    "print(f.closed)"
   ]
  },
  {
   "cell_type": "code",
   "execution_count": 8,
   "id": "c99ca6fe",
   "metadata": {},
   "outputs": [],
   "source": [
    "g=open(\"C:\\\\Users\\\\Saket Kumar\\\\Downloads\\\\Youtube\\\\CREATE_File.txt\",\"wt\")\n",
    "\n",
    "g.write(\"Hello\\nHi\\nHow\\nare\")\n",
    "\n",
    "g.close()"
   ]
  },
  {
   "cell_type": "code",
   "execution_count": 9,
   "id": "3390d742",
   "metadata": {},
   "outputs": [],
   "source": [
    "g=open(\"C:\\\\Users\\\\Saket Kumar\\\\Downloads\\\\Youtube\\\\CREATE_File.txt\",\"w\")\n",
    "\n",
    "g.write(\"Hello Welcome to World\")\n",
    "\n",
    "g.close()"
   ]
  },
  {
   "cell_type": "code",
   "execution_count": 10,
   "id": "f19b9be8",
   "metadata": {},
   "outputs": [],
   "source": [
    "f=open(\"C:\\\\Users\\\\Saket Kumar\\\\Downloads\\\\Youtube\\\\Text_File.txt\",\"a\")\n",
    "\n",
    "f.write(\"\\nAmit kumar\")\n",
    "\n",
    "f.close()"
   ]
  },
  {
   "cell_type": "code",
   "execution_count": 11,
   "id": "9b39ed5a",
   "metadata": {},
   "outputs": [],
   "source": [
    "f=open(\"C:\\\\Users\\\\Saket Kumar\\\\Downloads\\\\Youtube\\\\CREATE_File.txt\",\"w\")\n",
    "\n",
    "f.write(\"Hello\") #If we use .write() multiple times and it will not overwrite the data.\n",
    "f.write(\"World\")\n",
    "\n",
    "f.close()"
   ]
  },
  {
   "cell_type": "code",
   "execution_count": 12,
   "id": "9de7135d",
   "metadata": {},
   "outputs": [
    {
     "name": "stdout",
     "output_type": "stream",
     "text": [
      "\n",
      "Amit kumar\n"
     ]
    }
   ],
   "source": [
    "f=open(\"C:\\\\Users\\\\Saket Kumar\\\\Downloads\\\\Youtube\\\\Text_File.txt\",\"r\")\n",
    "\n",
    "data=f.read(11)\n",
    "print(data)\n",
    "\n",
    "f.close()"
   ]
  },
  {
   "cell_type": "code",
   "execution_count": 13,
   "id": "3c26a598",
   "metadata": {},
   "outputs": [
    {
     "name": "stdout",
     "output_type": "stream",
     "text": [
      "\n",
      "\n"
     ]
    }
   ],
   "source": [
    "f=open(\"C:\\\\Users\\\\Saket Kumar\\\\Downloads\\\\Youtube\\\\Text_File.txt\",\"r\")\n",
    "\n",
    "data=f.readline()\n",
    "print(data)\n",
    "\n",
    "f.close()"
   ]
  },
  {
   "cell_type": "code",
   "execution_count": 14,
   "id": "7141200f",
   "metadata": {
    "scrolled": true
   },
   "outputs": [
    {
     "name": "stdout",
     "output_type": "stream",
     "text": [
      "['\\n', 'Amit kumar']\n"
     ]
    }
   ],
   "source": [
    "f=open(\"C:\\\\Users\\\\Saket Kumar\\\\Downloads\\\\Youtube\\\\Text_File.txt\",\"r\")\n",
    "\n",
    "data=f.readlines() # return list\n",
    "print(data)\n",
    "\n",
    "f.close()"
   ]
  },
  {
   "cell_type": "code",
   "execution_count": 15,
   "id": "dbb99115",
   "metadata": {
    "scrolled": true
   },
   "outputs": [
    {
     "name": "stdout",
     "output_type": "stream",
     "text": [
      "\n",
      "Amit\n",
      " kumar\n",
      "\n",
      "\n"
     ]
    }
   ],
   "source": [
    "f=open(\"C:\\\\Users\\\\Saket Kumar\\\\Downloads\\\\Youtube\\\\Text_File.txt\",\"r\")\n",
    "\n",
    "print(f.read(5))\n",
    "print(f.readline())\n",
    "print(f.read(7)) \n",
    "print(f.read()) #.read() will read the data from current cursor position till end.\n",
    "\n",
    "f.close()"
   ]
  },
  {
   "cell_type": "code",
   "execution_count": 16,
   "id": "c05c602a",
   "metadata": {
    "scrolled": true
   },
   "outputs": [
    {
     "name": "stdout",
     "output_type": "stream",
     "text": [
      "0\n",
      "2\n"
     ]
    }
   ],
   "source": [
    "f=open(\"C:\\\\Users\\\\Saket Kumar\\\\Downloads\\\\Youtube\\\\Text_File.txt\",\"r\")\n",
    "print(f.tell()) # Cursor location\n",
    "f.readline()\n",
    "print(f.tell())"
   ]
  },
  {
   "cell_type": "code",
   "execution_count": 17,
   "id": "4c29f5a0",
   "metadata": {},
   "outputs": [
    {
     "name": "stdout",
     "output_type": "stream",
     "text": [
      "\n",
      "Amit kumar\n",
      "\n"
     ]
    }
   ],
   "source": [
    "f=open(\"C:\\\\Users\\\\Saket Kumar\\\\Downloads\\\\Youtube\\\\Text_File.txt\",\"r\")\n",
    "print(f.read())\n",
    "f.seek(35)\n",
    "print(f.read())"
   ]
  },
  {
   "cell_type": "code",
   "execution_count": 18,
   "id": "e1089bd2",
   "metadata": {},
   "outputs": [
    {
     "name": "stdout",
     "output_type": "stream",
     "text": [
      "Amazon, the multinational e-commerce giant, has done the impossible and \n",
      "reached a staggering 1$ Trillion dollars market cap in the past few \n",
      "years, and is expected to reach over 1$ Trillion in revenues by the year 2025.\n",
      "\n",
      "Amazonâ€™s Investors can continue to enjoy its development and bright prospects, \n",
      "with an increasing market worth.\n",
      "\n",
      "\n",
      "Build l\n",
      "True\n"
     ]
    }
   ],
   "source": [
    "with open(\"C:/Users/Saket Kumar/Downloads/Data Science/abc.txt\",\"r\") as f:\n",
    "    print(f.read())\n",
    "print(f.closed)"
   ]
  },
  {
   "cell_type": "code",
   "execution_count": 19,
   "id": "ee45a5d7",
   "metadata": {},
   "outputs": [],
   "source": [
    "# JSON\n",
    "people_string='''\n",
    "{\n",
    " \"people\":[\n",
    "       {\n",
    "        \"name\": \"John\",\n",
    "        \"phone\": \"123-234-5678\",\n",
    "        \"emails\": [\"Jhon@gmail.com\",\"jhonsmith@gmail.com\"],\n",
    "        \"has_license\": false\n",
    "        },\n",
    "        \n",
    "        {\n",
    "        \"name\": \"John Doe\",\n",
    "        \"phone\": \"123-234-5678\",\n",
    "        \"emails\": [\"Jhon23@gmail.com\",\"jhonDoe@gmail.com\"],\n",
    "        \"has_license\": true\n",
    "        }\n",
    "      ]\n",
    "   }'''"
   ]
  },
  {
   "cell_type": "code",
   "execution_count": 20,
   "id": "b5c35227",
   "metadata": {},
   "outputs": [],
   "source": [
    "import json"
   ]
  },
  {
   "cell_type": "raw",
   "id": "ef30d62a",
   "metadata": {},
   "source": [
    "json vs python\n",
    "json          python\n",
    "object        dict\n",
    "array         list\n",
    "string        str\n",
    "number(int)   int\n",
    "number(real)  float\n",
    "true          True\n",
    "false         False\n",
    "null          None"
   ]
  },
  {
   "cell_type": "raw",
   "id": "4494568a",
   "metadata": {},
   "source": [
    "read data\n",
    "\n",
    "load => file # file is .txt,.json,.doc, etc\n",
    "loads => str # string is defined here"
   ]
  },
  {
   "cell_type": "code",
   "execution_count": 21,
   "id": "6d61eada",
   "metadata": {},
   "outputs": [
    {
     "data": {
      "text/plain": [
       "{'people': [{'name': 'John',\n",
       "   'phone': '123-234-5678',\n",
       "   'emails': ['Jhon@gmail.com', 'jhonsmith@gmail.com'],\n",
       "   'has_license': False},\n",
       "  {'name': 'John Doe',\n",
       "   'phone': '123-234-5678',\n",
       "   'emails': ['Jhon23@gmail.com', 'jhonDoe@gmail.com'],\n",
       "   'has_license': True}]}"
      ]
     },
     "execution_count": 21,
     "metadata": {},
     "output_type": "execute_result"
    }
   ],
   "source": [
    "data=json.loads(people_string)\n",
    "data"
   ]
  },
  {
   "cell_type": "raw",
   "id": "271c80a4",
   "metadata": {},
   "source": [
    "write\n",
    "    \n",
    "dump : file\n",
    "dumps : string"
   ]
  },
  {
   "cell_type": "code",
   "execution_count": 22,
   "id": "4a9d4709",
   "metadata": {},
   "outputs": [],
   "source": [
    "with open(\"C:\\\\Users\\\\Saket Kumar\\\\Downloads\\\\Youtube\\\\xyt.json\",\"w\") as f:\n",
    "    json.dump(data,f,indent=3)\n",
    "# Create a file xyt.json and dump the data value in it"
   ]
  },
  {
   "cell_type": "code",
   "execution_count": 23,
   "id": "26df09d0",
   "metadata": {},
   "outputs": [
    {
     "data": {
      "text/plain": [
       "{'people': [{'name': 'John',\n",
       "   'phone': '123-234-5678',\n",
       "   'emails': ['Jhon@gmail.com', 'jhonsmith@gmail.com'],\n",
       "   'has_license': False},\n",
       "  {'name': 'John Doe',\n",
       "   'phone': '123-234-5678',\n",
       "   'emails': ['Jhon23@gmail.com', 'jhonDoe@gmail.com'],\n",
       "   'has_license': True}]}"
      ]
     },
     "execution_count": 23,
     "metadata": {},
     "output_type": "execute_result"
    }
   ],
   "source": [
    "with open(\"C:/Users/Saket Kumar/Downloads/Data Science/xyt.json\",\"r\") as f:\n",
    "    data1=json.load(f)\n",
    "data1"
   ]
  },
  {
   "cell_type": "raw",
   "id": "b5dbce95",
   "metadata": {},
   "source": [
    "# Concatenate 2 Json file and create a csv file\n",
    "import pandas as pd\n",
    "df1 = pd.read_json('first.json')\n",
    "print(df1)\n",
    "df2 = pd.read_json('second.json')\n",
    "print(df2)\n",
    "df = pd.concat([df1,df2])\n",
    "print(df)\n",
    "df.to_csv(\"CSV.csv\",index=False)\n",
    "result = pd.read_csv(\"CSV.csv\")\n",
    "print(result)"
   ]
  },
  {
   "cell_type": "raw",
   "id": "92e6719a",
   "metadata": {},
   "source": []
  }
 ],
 "metadata": {
  "kernelspec": {
   "display_name": "Python 3 (ipykernel)",
   "language": "python",
   "name": "python3"
  },
  "language_info": {
   "codemirror_mode": {
    "name": "ipython",
    "version": 3
   },
   "file_extension": ".py",
   "mimetype": "text/x-python",
   "name": "python",
   "nbconvert_exporter": "python",
   "pygments_lexer": "ipython3",
   "version": "3.8.8"
  }
 },
 "nbformat": 4,
 "nbformat_minor": 5
}
