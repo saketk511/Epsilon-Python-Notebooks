{
 "cells": [
  {
   "cell_type": "markdown",
   "id": "c4aafb90",
   "metadata": {},
   "source": [
    "## Strings"
   ]
  },
  {
   "cell_type": "markdown",
   "id": "055a77e9",
   "metadata": {},
   "source": [
    "#### Special Cipher"
   ]
  },
  {
   "cell_type": "code",
   "execution_count": 1,
   "id": "ea5c3c02",
   "metadata": {},
   "outputs": [
    {
     "name": "stdout",
     "output_type": "stream",
     "text": [
      "Enter String : Japan\n",
      "Jepen"
     ]
    }
   ],
   "source": [
    "def cipher(letter):\n",
    "    if letter == \"A\":\n",
    "        return \"E\"\n",
    "    elif letter == \"a\":\n",
    "        return \"e\"\n",
    "    elif letter == \"E\":\n",
    "        return \"I\"\n",
    "    elif letter == \"e\":\n",
    "        return \"i\"\n",
    "    elif letter == \"I\":\n",
    "        return \"o\"\n",
    "    elif letter == \"i\":\n",
    "        return \"e\"\n",
    "    elif letter == \"O\":\n",
    "        return \"U\"\n",
    "    elif letter == \"o\":\n",
    "        return \"u\"\n",
    "    elif letter == \"U\":\n",
    "        return \"A\"\n",
    "    elif letter == \"u\":\n",
    "        return \"a\"\n",
    "    else:\n",
    "        return letter\n",
    "\n",
    "C = input(\"Enter String : \")\n",
    "\n",
    "for i in C:\n",
    "    V = cipher(i)\n",
    "    print(V, end=\"\")\n"
   ]
  },
  {
   "cell_type": "markdown",
   "id": "3f7ba28c",
   "metadata": {},
   "source": [
    "#### Caesar Cipher"
   ]
  },
  {
   "cell_type": "code",
   "execution_count": 2,
   "id": "30da69b1",
   "metadata": {},
   "outputs": [
    {
     "name": "stdout",
     "output_type": "stream",
     "text": [
      "Original text: India\n",
      "Encrypted text: Lqgld\n"
     ]
    }
   ],
   "source": [
    "def caesar_cipher(text, shift):\n",
    "    result = \"\"\n",
    "\n",
    "    for char in text:\n",
    "        if char.isalpha():\n",
    "            ascii_offset = ord('a') if char.islower() else ord('A')\n",
    "            shifted_char = chr((ord(char) - ascii_offset + shift) % 26 + ascii_offset)\n",
    "            result += shifted_char\n",
    "        else:\n",
    "            result += char\n",
    "\n",
    "    return result\n",
    "\n",
    "text = \"India\"\n",
    "shift = 3\n",
    "encrypted_text = caesar_cipher(text, shift)\n",
    "print(f\"Original text: {text}\")\n",
    "print(f\"Encrypted text: {encrypted_text}\")"
   ]
  },
  {
   "cell_type": "markdown",
   "id": "726483bf",
   "metadata": {},
   "source": [
    "#### BuzzFizz"
   ]
  },
  {
   "cell_type": "code",
   "execution_count": 3,
   "id": "d7bca2ee",
   "metadata": {},
   "outputs": [
    {
     "name": "stdout",
     "output_type": "stream",
     "text": [
      "Enter number15\n",
      "1\n",
      "2\n",
      "Fizz\n",
      "4\n",
      "Buzz\n",
      "Fizz\n",
      "7\n",
      "8\n",
      "Fizz\n",
      "Buzz\n",
      "11\n",
      "Fizz\n",
      "13\n",
      "14\n",
      "FizzBuzz\n"
     ]
    }
   ],
   "source": [
    "C = int(input(\"Enter number\"))\n",
    "\n",
    "def BuFi(num):\n",
    "    if num % 3 == 0 and num % 5 == 0:\n",
    "        return \"FizzBuzz\"\n",
    "    elif num % 3 == 0:\n",
    "        return \"Fizz\"\n",
    "    elif num % 5 == 0:\n",
    "        return \"Buzz\"\n",
    "    else:\n",
    "        return str(num)\n",
    "\n",
    "for i in range(1, C+1):\n",
    "    V = BuFi(i)\n",
    "    print(V)"
   ]
  },
  {
   "cell_type": "markdown",
   "id": "b50d5920",
   "metadata": {},
   "source": [
    "#### Vowels Count"
   ]
  },
  {
   "cell_type": "code",
   "execution_count": 4,
   "id": "915e7100",
   "metadata": {},
   "outputs": [
    {
     "name": "stdout",
     "output_type": "stream",
     "text": [
      "String : Russia\n",
      "Number of vowels: 3\n"
     ]
    }
   ],
   "source": [
    "C = input(\"String : \")\n",
    "B = len(C)\n",
    "Z = 0\n",
    "\n",
    "for i in range(B):\n",
    "    V = C[B - 1 - i]  # Access characters in reverse order\n",
    "    \n",
    "    if V in \"aeiouAEIOU\":\n",
    "        Z += 1\n",
    "\n",
    "print(f\"Number of vowels: {Z}\")"
   ]
  },
  {
   "cell_type": "markdown",
   "id": "fcacd937",
   "metadata": {},
   "source": [
    "#### Reverse String"
   ]
  },
  {
   "cell_type": "code",
   "execution_count": 10,
   "id": "04166426",
   "metadata": {},
   "outputs": [
    {
     "name": "stdout",
     "output_type": "stream",
     "text": [
      "olleh\n"
     ]
    }
   ],
   "source": [
    "def reverse_string(s):\n",
    "    return s[::-1]\n",
    "\n",
    "reversed_string = reverse_string(\"hello\")\n",
    "print(reversed_string)"
   ]
  },
  {
   "cell_type": "markdown",
   "id": "0ad020dd",
   "metadata": {},
   "source": [
    "#### Check Palindrome"
   ]
  },
  {
   "cell_type": "code",
   "execution_count": 11,
   "id": "184c34f2",
   "metadata": {},
   "outputs": [
    {
     "name": "stdout",
     "output_type": "stream",
     "text": [
      "True\n"
     ]
    }
   ],
   "source": [
    "def is_palindrome(s):\n",
    "    return s == s[::-1]\n",
    "\n",
    "palindrome_check = is_palindrome(\"radar\")\n",
    "print(palindrome_check)"
   ]
  },
  {
   "cell_type": "markdown",
   "id": "3a89e411",
   "metadata": {},
   "source": [
    "#### Count Characters"
   ]
  },
  {
   "cell_type": "code",
   "execution_count": 12,
   "id": "e7271f12",
   "metadata": {},
   "outputs": [
    {
     "name": "stdout",
     "output_type": "stream",
     "text": [
      "2\n"
     ]
    }
   ],
   "source": [
    "def count_occurrences(s, char):\n",
    "    return s.count(char)\n",
    "\n",
    "char_count = count_occurrences(\"hello\", \"l\")\n",
    "print(char_count)  "
   ]
  },
  {
   "cell_type": "markdown",
   "id": "59b134db",
   "metadata": {},
   "source": [
    "#### Join"
   ]
  },
  {
   "cell_type": "code",
   "execution_count": null,
   "id": "c20f1421",
   "metadata": {},
   "outputs": [],
   "source": [
    "def remove_whitespace(s):\n",
    "    return ''.join(s.split())\n",
    "\n",
    "no_whitespace_string = remove_whitespace(\"   hello   world   \")\n",
    "print(no_whitespace_string)  # Output: \"helloworld\""
   ]
  },
  {
   "cell_type": "markdown",
   "id": "015af8a9",
   "metadata": {},
   "source": [
    "#### Count Total Words"
   ]
  },
  {
   "cell_type": "code",
   "execution_count": null,
   "id": "cc1138a4",
   "metadata": {},
   "outputs": [],
   "source": [
    "def count_words(sentence):\n",
    "    words = sentence.split()\n",
    "    return len(words)\n",
    "\n",
    "word_count = count_words(\"This is a sample sentence.\")\n",
    "print(word_count)"
   ]
  },
  {
   "cell_type": "markdown",
   "id": "e97c0462",
   "metadata": {},
   "source": [
    "#### Reversed sentence"
   ]
  },
  {
   "cell_type": "code",
   "execution_count": null,
   "id": "0a10a5ca",
   "metadata": {},
   "outputs": [],
   "source": [
    "def reverse_words(sentence):\n",
    "    words = sentence.split()\n",
    "    reversed_sentence = ' '.join(reversed(words))\n",
    "    return reversed_sentence\n",
    "\n",
    "reversed_sentence = reverse_words(\"Hello World\")\n",
    "print(reversed_sentence)"
   ]
  },
  {
   "cell_type": "markdown",
   "id": "42df5675",
   "metadata": {},
   "source": [
    "#### Longest Substring Without Repeating Characters"
   ]
  },
  {
   "cell_type": "code",
   "execution_count": null,
   "id": "17a27cc6",
   "metadata": {},
   "outputs": [],
   "source": [
    "def longest_substring(s):\n",
    "    max_length = 0\n",
    "    start = 0\n",
    "    char_map = {}\n",
    "    for i, char in enumerate(s):\n",
    "        if char in char_map and char_map[char] >= start:\n",
    "            start = char_map[char] + 1\n",
    "        char_map[char] = i\n",
    "        max_length = max(max_length, i - start + 1)\n",
    "    return max_length\n",
    "\n",
    "length = longest_substring(\"abcabcbb\")\n",
    "print(length)  "
   ]
  },
  {
   "cell_type": "markdown",
   "id": "898399fb",
   "metadata": {},
   "source": [
    "#### Permutations"
   ]
  },
  {
   "cell_type": "code",
   "execution_count": 18,
   "id": "22c4c7df",
   "metadata": {},
   "outputs": [
    {
     "name": "stdout",
     "output_type": "stream",
     "text": [
      "['Pune', 'Puen', 'Pnue', 'Pneu', 'Peun', 'Penu', 'uPne', 'uPen', 'unPe', 'uneP', 'uePn', 'uenP', 'nPue', 'nPeu', 'nuPe', 'nueP', 'nePu', 'neuP', 'ePun', 'ePnu', 'euPn', 'eunP', 'enPu', 'enuP']\n"
     ]
    }
   ],
   "source": [
    "from itertools import permutations\n",
    "\n",
    "def get_permutations(s):\n",
    "    permuted_strings = [''.join(p) for p in permutations(s)]\n",
    "    return permuted_strings\n",
    "\n",
    "permutations_list = get_permutations(\"Pune\")\n",
    "print(permutations_list)"
   ]
  },
  {
   "cell_type": "markdown",
   "id": "bc434571",
   "metadata": {},
   "source": [
    "#### Combinations"
   ]
  },
  {
   "cell_type": "code",
   "execution_count": 20,
   "id": "6c6427b2",
   "metadata": {},
   "outputs": [
    {
     "name": "stdout",
     "output_type": "stream",
     "text": [
      "['J', 'a', 'p', 'a', 'n', 'Ja', 'Jp', 'Ja', 'Jn', 'ap', 'aa', 'an', 'pa', 'pn', 'an', 'Jap', 'Jaa', 'Jan', 'Jpa', 'Jpn', 'Jan', 'apa', 'apn', 'aan', 'pan', 'Japa', 'Japn', 'Jaan', 'Jpan', 'apan', 'Japan']\n"
     ]
    }
   ],
   "source": [
    "from itertools import combinations\n",
    "\n",
    "def get_combinations(s):\n",
    "    combined_strings = []\n",
    "    for r in range(1, len(s)+1):\n",
    "        combined_strings.extend([''.join(c) for c in combinations(s, r)])\n",
    "    return combined_strings\n",
    "\n",
    "combinations_list = get_combinations(\"Japan\")\n",
    "print(combinations_list)"
   ]
  },
  {
   "cell_type": "markdown",
   "id": "f8f64278",
   "metadata": {},
   "source": [
    "#### Replace Word"
   ]
  },
  {
   "cell_type": "code",
   "execution_count": 17,
   "id": "5c7a4747",
   "metadata": {},
   "outputs": [
    {
     "name": "stdout",
     "output_type": "stream",
     "text": [
      "Hi, World! Hi, Universe!\n"
     ]
    }
   ],
   "source": [
    "def replace_word(original_string, target_word, replacement):\n",
    "    modified_string = original_string.replace(target_word, replacement)\n",
    "    return modified_string\n",
    "\n",
    "original_string = \"Hello, World! Hello, Universe!\"\n",
    "target_word = \"Hello\"\n",
    "replacement = \"Hi\"\n",
    "modified_string = replace_word(original_string, target_word, replacement)\n",
    "\n",
    "print(modified_string)"
   ]
  },
  {
   "cell_type": "markdown",
   "id": "4037c5c6",
   "metadata": {},
   "source": [
    "#### Remove Duplicates"
   ]
  },
  {
   "cell_type": "code",
   "execution_count": 8,
   "id": "0ef7e46e",
   "metadata": {},
   "outputs": [
    {
     "name": "stdout",
     "output_type": "stream",
     "text": [
      "Original List: ['Nepal', 'Egypt', 'Sri Lanka', 'Egypt', 'Spain']\n",
      "List with duplicates removed: ['Sri Lanka', 'Nepal', 'Egypt', 'Spain']\n"
     ]
    }
   ],
   "source": [
    "def remove_duplicates(input_list):\n",
    "    return list(set(input_list))\n",
    "\n",
    "original_list = [\"Nepal\", \"Egypt\", \"Sri Lanka\", \"Egypt\", \"Spain\"]\n",
    "unique_elements = remove_duplicates(original_list)\n",
    "print(f\"Original List: {original_list}\")\n",
    "print(f\"List with duplicates removed: {unique_elements}\")"
   ]
  },
  {
   "cell_type": "markdown",
   "id": "698c8b9b",
   "metadata": {},
   "source": [
    "#### Anagram"
   ]
  },
  {
   "cell_type": "code",
   "execution_count": null,
   "id": "caca749c",
   "metadata": {},
   "outputs": [],
   "source": [
    "def are_anagrams(word1, word2):\n",
    "    return sorted(word1) == sorted(word2)\n",
    "\n",
    "word1 = \"listen\"\n",
    "word2 = \"silent\"\n",
    "if are_anagrams(word1, word2):\n",
    "    print(f\"{word1} and {word2} are anagrams.\")\n",
    "else:\n",
    "    print(f\"{word1} and {word2} are not anagrams.\")"
   ]
  },
  {
   "cell_type": "markdown",
   "id": "25ed3b78",
   "metadata": {},
   "source": [
    "#### Word Count"
   ]
  },
  {
   "cell_type": "code",
   "execution_count": null,
   "id": "deae11b8",
   "metadata": {},
   "outputs": [],
   "source": [
    "from collections import Counter\n",
    "\n",
    "def count_words(text):\n",
    "    words = text.split()\n",
    "    return Counter(words)\n",
    "\n",
    "text = \"This is a sample text. This text contains some words. Sample text.\"\n",
    "word_counts = count_words(text)\n",
    "\n",
    "for word, count in word_counts.items():\n",
    "    print(f\"'{word}': {count}\")"
   ]
  },
  {
   "cell_type": "markdown",
   "id": "7fd2c353",
   "metadata": {},
   "source": [
    "#### Password"
   ]
  },
  {
   "cell_type": "code",
   "execution_count": null,
   "id": "44395f15",
   "metadata": {},
   "outputs": [],
   "source": [
    "import random\n",
    "import string\n",
    "\n",
    "def generate_password():\n",
    "    length = random.randint(5, 9)\n",
    "    max_uppercase = min(length, random.randint(1, 3))\n",
    "    max_lowercase = min(length - max_uppercase, random.randint(1, 3))\n",
    "    max_digits = min(length - max_uppercase - max_lowercase, random.randint(1, 3))\n",
    "    max_special_chars = min(length - max_uppercase - max_lowercase - max_digits, random.randint(1, 2))\n",
    "\n",
    "    characters = []\n",
    "    characters.extend(random.sample(string.ascii_uppercase, max_uppercase))\n",
    "    characters.extend(random.sample(string.ascii_lowercase, max_lowercase))\n",
    "    characters.extend(random.sample(string.digits, max_digits))\n",
    "    characters.extend(random.sample(string.punctuation, max_special_chars))\n",
    "    characters.extend(random.sample(string.ascii_letters + string.digits + string.punctuation, length - (max_uppercase + max_lowercase + max_digits + max_special_chars)))\n",
    "\n",
    "    random.shuffle(characters)\n",
    "    return ''.join(characters)\n",
    "\n",
    "password = generate_password()\n",
    "print(f\"Generated password: {password}\")"
   ]
  },
  {
   "cell_type": "code",
   "execution_count": null,
   "id": "b0e139c2",
   "metadata": {},
   "outputs": [],
   "source": []
  }
 ],
 "metadata": {
  "kernelspec": {
   "display_name": "Python 3 (ipykernel)",
   "language": "python",
   "name": "python3"
  },
  "language_info": {
   "codemirror_mode": {
    "name": "ipython",
    "version": 3
   },
   "file_extension": ".py",
   "mimetype": "text/x-python",
   "name": "python",
   "nbconvert_exporter": "python",
   "pygments_lexer": "ipython3",
   "version": "3.8.8"
  }
 },
 "nbformat": 4,
 "nbformat_minor": 5
}
