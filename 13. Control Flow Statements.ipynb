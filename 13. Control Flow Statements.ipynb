{
 "cells": [
  {
   "cell_type": "markdown",
   "id": "6644c788",
   "metadata": {},
   "source": [
    "# Control Flow Statements"
   ]
  },
  {
   "cell_type": "raw",
   "id": "242e2d3b",
   "metadata": {},
   "source": [
    "Break: The break statement is used to exit the loop prematurely when a certain condition is met."
   ]
  },
  {
   "cell_type": "code",
   "execution_count": 4,
   "id": "51a1d6df",
   "metadata": {},
   "outputs": [
    {
     "name": "stdout",
     "output_type": "stream",
     "text": [
      "1\n",
      "11\n",
      "111\n",
      "1111\n",
      "11111\n",
      "5\n"
     ]
    }
   ],
   "source": [
    "List = [1, 11, 111, 1111, 11111, 5, 55, 555, 5555, 55555]\n",
    "\n",
    "for number in List:\n",
    "    if number == 55:\n",
    "        break  # Exit the loop when the condition is met\n",
    "    print(number)"
   ]
  },
  {
   "cell_type": "code",
   "execution_count": 6,
   "id": "01bd66a0",
   "metadata": {},
   "outputs": [
    {
     "name": "stdout",
     "output_type": "stream",
     "text": [
      "1 * 1 = 1\n",
      "1 * 2 = 2\n",
      "1 * 3 = 3\n",
      "2 * 1 = 2\n",
      "2 * 2 = 4\n",
      "3 * 1 = 3\n"
     ]
    }
   ],
   "source": [
    "for i in range(1, 4):\n",
    "    for j in range(1, 4):\n",
    "        if i * j == 6:\n",
    "            break  # Exit the inner loop when i*j is 6\n",
    "        print(i, \"*\", j, \"=\", i * j)"
   ]
  },
  {
   "cell_type": "raw",
   "id": "dc454e1b",
   "metadata": {},
   "source": [
    "Continue: The continue statement is used to skip the current iteration of a loop and proceed to the next iteration."
   ]
  },
  {
   "cell_type": "code",
   "execution_count": 5,
   "id": "32a37461",
   "metadata": {},
   "outputs": [
    {
     "name": "stdout",
     "output_type": "stream",
     "text": [
      "1\n",
      "3\n",
      "5\n",
      "7\n",
      "9\n"
     ]
    }
   ],
   "source": [
    "numbers = [1, 2, 3, 4, 5, 6, 7, 8, 9, 10]\n",
    "\n",
    "for number in numbers:\n",
    "    if number % 2 == 0:\n",
    "        continue  # Skip even numbers\n",
    "    print(number)"
   ]
  },
  {
   "cell_type": "code",
   "execution_count": 7,
   "id": "0d7ccc5c",
   "metadata": {},
   "outputs": [
    {
     "name": "stdout",
     "output_type": "stream",
     "text": [
      "1 * 1 = 1\n",
      "1 * 2 = 2\n",
      "1 * 3 = 3\n",
      "2 * 1 = 2\n",
      "2 * 2 = 4\n",
      "3 * 1 = 3\n",
      "3 * 3 = 9\n"
     ]
    }
   ],
   "source": [
    "for i in range(1, 4):\n",
    "    for j in range(1, 4):\n",
    "        if i * j == 6:\n",
    "            continue \n",
    "        print(i, \"*\", j, \"=\", i * j)"
   ]
  },
  {
   "cell_type": "raw",
   "id": "ce8124c8",
   "metadata": {},
   "source": [
    "The pass statement is a placeholder statement that doesn't perform any action. It is used when syntactically some code is required but you don't want to execute any specific instructions."
   ]
  },
  {
   "cell_type": "code",
   "execution_count": null,
   "id": "981f0e99",
   "metadata": {},
   "outputs": [],
   "source": [
    "while True:\n",
    "    user_input = input(\"Enter something (or 'quit' to exit): \")\n",
    "    if user_input == 'quit':\n",
    "        break\n",
    "    pass"
   ]
  },
  {
   "cell_type": "code",
   "execution_count": null,
   "id": "1add37bb",
   "metadata": {},
   "outputs": [],
   "source": []
  }
 ],
 "metadata": {
  "kernelspec": {
   "display_name": "Python 3 (ipykernel)",
   "language": "python",
   "name": "python3"
  },
  "language_info": {
   "codemirror_mode": {
    "name": "ipython",
    "version": 3
   },
   "file_extension": ".py",
   "mimetype": "text/x-python",
   "name": "python",
   "nbconvert_exporter": "python",
   "pygments_lexer": "ipython3",
   "version": "3.8.8"
  }
 },
 "nbformat": 4,
 "nbformat_minor": 5
}
