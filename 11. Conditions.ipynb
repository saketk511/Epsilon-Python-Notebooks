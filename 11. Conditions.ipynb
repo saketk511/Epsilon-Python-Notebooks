{
 "cells": [
  {
   "cell_type": "markdown",
   "id": "51e2b945",
   "metadata": {},
   "source": [
    "# Conditions"
   ]
  },
  {
   "cell_type": "raw",
   "id": "32a7f66f",
   "metadata": {},
   "source": [
    "if statement allows you to execute a block of code if a condition is True"
   ]
  },
  {
   "cell_type": "code",
   "execution_count": 1,
   "id": "45ff0968",
   "metadata": {},
   "outputs": [
    {
     "ename": "IndentationError",
     "evalue": "expected an indented block (Temp/ipykernel_24624/41688926.py, line 4)",
     "output_type": "error",
     "traceback": [
      "\u001b[1;36m  File \u001b[1;32m\"C:\\Users\\SAKETK~1\\AppData\\Local\\Temp/ipykernel_24624/41688926.py\"\u001b[1;36m, line \u001b[1;32m4\u001b[0m\n\u001b[1;33m    ================================\u001b[0m\n\u001b[1;37m    ^\u001b[0m\n\u001b[1;31mIndentationError\u001b[0m\u001b[1;31m:\u001b[0m expected an indented block\n"
     ]
    }
   ],
   "source": [
    "if condition :\n",
    "    #true\n",
    "    \n",
    "================================\n",
    "\n",
    "if condition:\n",
    "    #True\n",
    "else:\n",
    "    #False"
   ]
  },
  {
   "cell_type": "code",
   "execution_count": null,
   "id": "ddf3ce10",
   "metadata": {},
   "outputs": [],
   "source": [
    "age=int(input(\"Enter your age :\")) # the input is always string\n",
    "\n",
    "if age>18:\n",
    "    print(\"valid\")"
   ]
  },
  {
   "cell_type": "raw",
   "id": "4d19f450",
   "metadata": {},
   "source": [
    "elif statement is used to check additional conditions if the previous if condition is False"
   ]
  },
  {
   "cell_type": "code",
   "execution_count": null,
   "id": "865b886d",
   "metadata": {},
   "outputs": [],
   "source": [
    "x = 5\n",
    "if x > 10:\n",
    "    print(\"x is greater than 10\")\n",
    "elif x > 3:\n",
    "    print(\"x is greater than 3 but not greater than 10\")"
   ]
  },
  {
   "cell_type": "raw",
   "id": "1b9d91a4",
   "metadata": {},
   "source": [
    "The else statement is used to specify a block of code to execute when the if and elif conditions are False."
   ]
  },
  {
   "cell_type": "code",
   "execution_count": null,
   "id": "dd217dd0",
   "metadata": {},
   "outputs": [],
   "source": [
    "#if - else :\n",
    "\n",
    "if 7>5 :\n",
    "    print(\"line1\")\n",
    "    print(\"line2\")\n",
    "    print(\"line3\")\n",
    "\n",
    "else :\n",
    "\n",
    "        print(\"line4\")\n",
    "        print(\"line5\")\n",
    "        print(\"line6\")"
   ]
  },
  {
   "cell_type": "code",
   "execution_count": null,
   "id": "1163fe86",
   "metadata": {},
   "outputs": [],
   "source": [
    "age=int(input(\"Enter your age :\"))\n",
    "\n",
    "\n",
    "if age>18:\n",
    "    print(\"valid\")\n",
    "else:\n",
    "    print(\"not valid\")"
   ]
  },
  {
   "cell_type": "code",
   "execution_count": null,
   "id": "fc1bee50",
   "metadata": {},
   "outputs": [],
   "source": [
    "day=input(\"Enter day :\")\n",
    "amount=int(input(\"Enter amount :\"))\n",
    "\n",
    "\n",
    "if day.lower()==\"sunday\" and amount>5000 :\n",
    "    discount=(amount*10)/100\n",
    "    amount=amount-discount\n",
    "    print(\"after 10% discount price will be :\",amount)\n",
    "else:\n",
    "    print(\"without discount price will be :\",amount)\n",
    "    "
   ]
  },
  {
   "cell_type": "raw",
   "id": "a26485b1",
   "metadata": {},
   "source": [
    "Nested Conditions: We can nest if, elif, and else statements to handle complex conditions."
   ]
  },
  {
   "cell_type": "code",
   "execution_count": 2,
   "id": "66d432d6",
   "metadata": {},
   "outputs": [
    {
     "name": "stdout",
     "output_type": "stream",
     "text": [
      "Enter a number :21\n",
      "Enter a number :25\n",
      "y is greater\n"
     ]
    }
   ],
   "source": [
    "x=int(input(\"Enter a number :\"))\n",
    "y=int(input(\"Enter a number :\"))\n",
    "\n",
    "if x!=y:\n",
    "    if x>y:\n",
    "        print(\"x is greater\")\n",
    "    else:\n",
    "        print(\"y is greater\")\n",
    "else:\n",
    "    print(\"both are equal\")"
   ]
  },
  {
   "cell_type": "raw",
   "id": "c28eb673",
   "metadata": {},
   "source": [
    "Combination of if, elif and else."
   ]
  },
  {
   "cell_type": "code",
   "execution_count": 3,
   "id": "f84a4023",
   "metadata": {},
   "outputs": [
    {
     "name": "stdout",
     "output_type": "stream",
     "text": [
      "Enter day :Monday\n",
      "Enter amount :7200\n",
      "without discount price will be : 7200\n"
     ]
    }
   ],
   "source": [
    "day=input(\"Enter day :\")\n",
    "amount=int(input(\"Enter amount :\"))\n",
    "\n",
    "\n",
    "if day.lower()==\"sunday\" and amount>5000 :\n",
    "    discount=(amount*10)/100\n",
    "    amount=amount-discount\n",
    "    print(\"after 10% discount price will be :\",amount)\n",
    "elif  day.lower()==\"sunday\" and amount >=4000:\n",
    "    discount=(amount*5)/100\n",
    "    amount=amount-discount\n",
    "    print(\"after 5% discount price will be :\",amount)\n",
    "else:\n",
    "    print(\"without discount price will be :\",amount)\n",
    "    "
   ]
  },
  {
   "cell_type": "raw",
   "id": "9ded61c2",
   "metadata": {},
   "source": [
    "Single line code"
   ]
  },
  {
   "cell_type": "code",
   "execution_count": 4,
   "id": "10a13baa",
   "metadata": {},
   "outputs": [],
   "source": [
    "x = 10\n",
    "result = \"Even\" if x % 2 == 0 else \"Odd\""
   ]
  }
 ],
 "metadata": {
  "kernelspec": {
   "display_name": "Python 3 (ipykernel)",
   "language": "python",
   "name": "python3"
  },
  "language_info": {
   "codemirror_mode": {
    "name": "ipython",
    "version": 3
   },
   "file_extension": ".py",
   "mimetype": "text/x-python",
   "name": "python",
   "nbconvert_exporter": "python",
   "pygments_lexer": "ipython3",
   "version": "3.8.8"
  }
 },
 "nbformat": 4,
 "nbformat_minor": 5
}
