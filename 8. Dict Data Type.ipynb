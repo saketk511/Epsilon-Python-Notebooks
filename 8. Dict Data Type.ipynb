{
 "cells": [
  {
   "cell_type": "markdown",
   "id": "c3ff73b3",
   "metadata": {},
   "source": [
    "# Type Dict"
   ]
  },
  {
   "cell_type": "code",
   "execution_count": 1,
   "id": "ed4052cc",
   "metadata": {},
   "outputs": [],
   "source": [
    "# dict : collection of keys and values\n",
    "# dict : {k:v,k1:v1,k2:v2,k3:v3}\n",
    "# dict(keys) : key must be immutable\n",
    "# dict : works on value\n",
    "# dict : mutable"
   ]
  },
  {
   "cell_type": "code",
   "execution_count": 2,
   "id": "0b8d5b36",
   "metadata": {},
   "outputs": [
    {
     "data": {
      "text/plain": [
       "('fromkeys', 'update')"
      ]
     },
     "execution_count": 2,
     "metadata": {},
     "output_type": "execute_result"
    }
   ],
   "source": [
    "X = {'id':101,'name':'Amit','age':23,'city':'Delhi'}\n",
    "H = {'id':101,'name':'Amit', 'DOB':'03-04-2009'}"
   ]
  },
  {
   "cell_type": "code",
   "execution_count": 3,
   "id": "59cee7ba",
   "metadata": {},
   "outputs": [
    {
     "name": "stdout",
     "output_type": "stream",
     "text": [
      "['__class__', '__contains__', '__delattr__', '__delitem__', '__dir__', '__doc__', '__eq__', '__format__', '__ge__', '__getattribute__', '__getitem__', '__gt__', '__hash__', '__init__', '__init_subclass__', '__iter__', '__le__', '__len__', '__lt__', '__ne__', '__new__', '__reduce__', '__reduce_ex__', '__repr__', '__reversed__', '__setattr__', '__setitem__', '__sizeof__', '__str__', '__subclasshook__', 'clear', 'copy', 'fromkeys', 'get', 'items', 'keys', 'pop', 'popitem', 'setdefault', 'update', 'values']\n"
     ]
    }
   ],
   "source": [
    "print(dir(dict))"
   ]
  },
  {
   "cell_type": "code",
   "execution_count": 4,
   "id": "68efb88b",
   "metadata": {},
   "outputs": [
    {
     "data": {
      "text/plain": [
       "'Amit'"
      ]
     },
     "execution_count": 4,
     "metadata": {},
     "output_type": "execute_result"
    }
   ],
   "source": [
    "# Get Value\n",
    "X['name']"
   ]
  },
  {
   "cell_type": "code",
   "execution_count": 5,
   "id": "87bc32b0",
   "metadata": {},
   "outputs": [
    {
     "data": {
      "text/plain": [
       "23"
      ]
     },
     "execution_count": 5,
     "metadata": {},
     "output_type": "execute_result"
    }
   ],
   "source": [
    "# Get Value\n",
    "X.get('age')"
   ]
  },
  {
   "cell_type": "code",
   "execution_count": 6,
   "id": "7d77a3a7",
   "metadata": {},
   "outputs": [],
   "source": [
    "# update the value in dict\n",
    "X['age']=56"
   ]
  },
  {
   "cell_type": "code",
   "execution_count": 7,
   "id": "950ad1dc",
   "metadata": {},
   "outputs": [
    {
     "name": "stdout",
     "output_type": "stream",
     "text": [
      "{'id': 101, 'name': 'Amit', 'age': 56, 'city': 'Delhi', 'DOB': '03-04-2009'}\n"
     ]
    }
   ],
   "source": [
    "# update a dictionary with key-value pairs from another dictionary.\n",
    "X.update(H)\n",
    "print(X)"
   ]
  },
  {
   "cell_type": "code",
   "execution_count": 8,
   "id": "b346754c",
   "metadata": {},
   "outputs": [],
   "source": [
    "# delete the key\n",
    "del X['name']"
   ]
  },
  {
   "cell_type": "code",
   "execution_count": 9,
   "id": "c8dda885",
   "metadata": {},
   "outputs": [
    {
     "name": "stdout",
     "output_type": "stream",
     "text": [
      "{'id': 101, 'age': 56, 'city': 'Delhi', 'DOB': '03-04-2009', 'a': 149}\n"
     ]
    }
   ],
   "source": [
    "# add values in dict\n",
    "X['a']=149\n",
    "print(X)"
   ]
  },
  {
   "cell_type": "code",
   "execution_count": 10,
   "id": "e689e927",
   "metadata": {},
   "outputs": [
    {
     "name": "stdout",
     "output_type": "stream",
     "text": [
      "{'id': 101, 'age': 56, 'city': 'Delhi', 'DOB': '03-04-2009', 'a': 149, 'salary': 490000}\n"
     ]
    }
   ],
   "source": [
    "# add values in dict\n",
    "X.setdefault('salary',490000)\n",
    "print(X)"
   ]
  },
  {
   "cell_type": "code",
   "execution_count": 11,
   "id": "6b309170",
   "metadata": {},
   "outputs": [
    {
     "name": "stdout",
     "output_type": "stream",
     "text": [
      "{'id': 101, 'age': 56, 'city': 'Delhi', 'DOB': '03-04-2009', 'a': 149, 'salary': 490000}\n"
     ]
    }
   ],
   "source": [
    "# Create a copy\n",
    "Z = X.copy()\n",
    "print(Z)"
   ]
  },
  {
   "cell_type": "code",
   "execution_count": 12,
   "id": "4a8c4076",
   "metadata": {},
   "outputs": [
    {
     "name": "stdout",
     "output_type": "stream",
     "text": [
      "dict_items([('id', 101), ('age', 56), ('city', 'Delhi'), ('DOB', '03-04-2009'), ('a', 149), ('salary', 490000)])\n"
     ]
    }
   ],
   "source": [
    "# Returns a view of all key-value pairs\n",
    "Z = X.items()\n",
    "print(Z)"
   ]
  },
  {
   "cell_type": "code",
   "execution_count": 13,
   "id": "af780bac",
   "metadata": {},
   "outputs": [
    {
     "name": "stdout",
     "output_type": "stream",
     "text": [
      "dict_keys(['id', 'age', 'city', 'DOB', 'a', 'salary'])\n"
     ]
    }
   ],
   "source": [
    "# Returns a view of all keys in the dictionary\n",
    "Z = X.keys()\n",
    "print(Z)"
   ]
  },
  {
   "cell_type": "code",
   "execution_count": 14,
   "id": "ad18a057",
   "metadata": {},
   "outputs": [
    {
     "name": "stdout",
     "output_type": "stream",
     "text": [
      "101\n"
     ]
    }
   ],
   "source": [
    "# Returns a view of all values in the dictionary\n",
    "Z = X.pop('id')\n",
    "print(Z)"
   ]
  },
  {
   "cell_type": "code",
   "execution_count": 15,
   "id": "cff71099",
   "metadata": {},
   "outputs": [
    {
     "name": "stdout",
     "output_type": "stream",
     "text": [
      "dict_values([56, 'Delhi', '03-04-2009', 149, 490000])\n"
     ]
    }
   ],
   "source": [
    "# Returns a view of all values in the dictionary\n",
    "Z = X.values()\n",
    "print(Z)"
   ]
  },
  {
   "cell_type": "code",
   "execution_count": 16,
   "id": "9e77743f",
   "metadata": {},
   "outputs": [],
   "source": [
    "# create a new dictionary with specified keys and an optional default value\n",
    " \n",
    "keys_to_add = ['id', 'name', 'age', 'DOB']\n",
    "default_value = None  # You can specify a default value (optional)\n",
    "\n",
    "new_dict = {}.fromkeys(keys_to_add, default_value)\n"
   ]
  },
  {
   "cell_type": "code",
   "execution_count": 17,
   "id": "dccf5d4d",
   "metadata": {},
   "outputs": [
    {
     "data": {
      "text/plain": [
       "'Amit'"
      ]
     },
     "execution_count": 17,
     "metadata": {},
     "output_type": "execute_result"
    }
   ],
   "source": [
    "Y={'peoples':[{'india':[{'id':101,'name':'Deepak'},\n",
    "                           {'id':102,'name':'Amit'}]}]}\n",
    "Y[\"peoples\"][0][\"india\"][1][\"name\"]"
   ]
  },
  {
   "cell_type": "code",
   "execution_count": 18,
   "id": "266bade9",
   "metadata": {},
   "outputs": [
    {
     "name": "stdout",
     "output_type": "stream",
     "text": [
      "{'key2': 'geeks', 'key1': 'for', 'key3': 'geeks'}\n"
     ]
    }
   ],
   "source": [
    "# create a dict adding 2 list\n",
    "\n",
    "dictionary = {}\n",
    "\n",
    "keys = ['key2', 'key1', 'key3']\n",
    "values = ['geeks', 'for', 'geeks']\n",
    "\n",
    "for key, value in zip(keys, values):\n",
    "    dictionary[key] = value\n",
    "print(dictionary)"
   ]
  },
  {
   "cell_type": "code",
   "execution_count": null,
   "id": "d24d5d19",
   "metadata": {},
   "outputs": [],
   "source": []
  }
 ],
 "metadata": {
  "kernelspec": {
   "display_name": "Python 3 (ipykernel)",
   "language": "python",
   "name": "python3"
  },
  "language_info": {
   "codemirror_mode": {
    "name": "ipython",
    "version": 3
   },
   "file_extension": ".py",
   "mimetype": "text/x-python",
   "name": "python",
   "nbconvert_exporter": "python",
   "pygments_lexer": "ipython3",
   "version": "3.8.8"
  }
 },
 "nbformat": 4,
 "nbformat_minor": 5
}
