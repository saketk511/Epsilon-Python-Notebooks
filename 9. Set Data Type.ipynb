{
 "cells": [
  {
   "cell_type": "markdown",
   "id": "c3ff73b3",
   "metadata": {},
   "source": [
    "# Type Set"
   ]
  },
  {
   "cell_type": "code",
   "execution_count": 1,
   "id": "6d0f91c0",
   "metadata": {},
   "outputs": [],
   "source": [
    "# set : unordered collections of unique elements\n",
    "# set : mutable"
   ]
  },
  {
   "cell_type": "code",
   "execution_count": 2,
   "id": "ed4052cc",
   "metadata": {},
   "outputs": [],
   "source": [
    "X = {1,3,5,7,11,15,19,29,31,34,39}\n",
    "Y = {2,3,5,7,11}\n",
    "H = {1,4}"
   ]
  },
  {
   "cell_type": "code",
   "execution_count": 3,
   "id": "59cee7ba",
   "metadata": {},
   "outputs": [
    {
     "name": "stdout",
     "output_type": "stream",
     "text": [
      "['__and__', '__class__', '__contains__', '__delattr__', '__dir__', '__doc__', '__eq__', '__format__', '__ge__', '__getattribute__', '__gt__', '__hash__', '__iand__', '__init__', '__init_subclass__', '__ior__', '__isub__', '__iter__', '__ixor__', '__le__', '__len__', '__lt__', '__ne__', '__new__', '__or__', '__rand__', '__reduce__', '__reduce_ex__', '__repr__', '__ror__', '__rsub__', '__rxor__', '__setattr__', '__sizeof__', '__str__', '__sub__', '__subclasshook__', '__xor__', 'add', 'clear', 'copy', 'difference', 'difference_update', 'discard', 'intersection', 'intersection_update', 'isdisjoint', 'issubset', 'issuperset', 'pop', 'remove', 'symmetric_difference', 'symmetric_difference_update', 'union', 'update']\n"
     ]
    }
   ],
   "source": [
    "print(dir(set))"
   ]
  },
  {
   "cell_type": "code",
   "execution_count": 4,
   "id": "d24d5d19",
   "metadata": {},
   "outputs": [
    {
     "name": "stdout",
     "output_type": "stream",
     "text": [
      "{1, 34, 3, 5, 7, 39, 11, 15, 19, 23, 29, 31}\n"
     ]
    }
   ],
   "source": [
    "# Add element in set\n",
    "X.add(23)\n",
    "print(X)"
   ]
  },
  {
   "cell_type": "code",
   "execution_count": 5,
   "id": "74e33b52",
   "metadata": {},
   "outputs": [
    {
     "name": "stdout",
     "output_type": "stream",
     "text": [
      "{1, 34, 3, 5, 7, 39, 11, 15, 17, 19, 23, 29, 31}\n"
     ]
    }
   ],
   "source": [
    "# Adds elements from another set (or iterable) to X.\n",
    "X.update([17, 19, 23])\n",
    "print(X)"
   ]
  },
  {
   "cell_type": "code",
   "execution_count": 6,
   "id": "8204717c",
   "metadata": {},
   "outputs": [
    {
     "name": "stdout",
     "output_type": "stream",
     "text": [
      "set()\n"
     ]
    }
   ],
   "source": [
    "# Clear element in set\n",
    "H.clear()\n",
    "print(H)"
   ]
  },
  {
   "cell_type": "code",
   "execution_count": 7,
   "id": "790e3d44",
   "metadata": {},
   "outputs": [
    {
     "name": "stdout",
     "output_type": "stream",
     "text": [
      "{2, 3, 5, 7, 11}\n"
     ]
    }
   ],
   "source": [
    "# Copy element in set\n",
    "A = Y.copy()\n",
    "print(A)"
   ]
  },
  {
   "cell_type": "code",
   "execution_count": 8,
   "id": "4831ebe1",
   "metadata": {},
   "outputs": [
    {
     "name": "stdout",
     "output_type": "stream",
     "text": [
      "{1, 34, 39, 15, 17, 19, 23, 29, 31}\n"
     ]
    }
   ],
   "source": [
    "# Set containing elements that are in X but not in Y\n",
    "B = X.difference(Y)\n",
    "print(B)"
   ]
  },
  {
   "cell_type": "code",
   "execution_count": 9,
   "id": "389d5b65",
   "metadata": {},
   "outputs": [
    {
     "name": "stdout",
     "output_type": "stream",
     "text": [
      "{1, 34, 39, 15, 17, 19, 23, 29, 31}\n"
     ]
    }
   ],
   "source": [
    "# Removes elements from X that are also in Y\n",
    "X.difference_update(Y)\n",
    "print(X)"
   ]
  },
  {
   "cell_type": "code",
   "execution_count": 10,
   "id": "d89b6e78",
   "metadata": {},
   "outputs": [
    {
     "name": "stdout",
     "output_type": "stream",
     "text": [
      "{1, 34, 15, 17, 19, 23, 29, 31}\n"
     ]
    }
   ],
   "source": [
    "# Removes a specified element from the set\n",
    "X.remove(39) \n",
    "print(X)"
   ]
  },
  {
   "cell_type": "code",
   "execution_count": 11,
   "id": "1d9e5b7d",
   "metadata": {},
   "outputs": [
    {
     "name": "stdout",
     "output_type": "stream",
     "text": [
      "{34, 15, 17, 19, 23, 29, 31}\n"
     ]
    }
   ],
   "source": [
    "# Removes a specified element from the set if it exists\n",
    "X.discard(1)\n",
    "print(X)"
   ]
  },
  {
   "cell_type": "code",
   "execution_count": 12,
   "id": "1864c2a1",
   "metadata": {},
   "outputs": [
    {
     "name": "stdout",
     "output_type": "stream",
     "text": [
      "set()\n"
     ]
    }
   ],
   "source": [
    "# Returns a new set containing elements that are common to both X and Y\n",
    "F = X.intersection(Y) \n",
    "print(F)"
   ]
  },
  {
   "cell_type": "code",
   "execution_count": 13,
   "id": "e29ba634",
   "metadata": {},
   "outputs": [
    {
     "name": "stdout",
     "output_type": "stream",
     "text": [
      "True\n"
     ]
    }
   ],
   "source": [
    "# Checks if X and Y have no elements in common\n",
    "G = X.isdisjoint(Y)\n",
    "print(G)"
   ]
  },
  {
   "cell_type": "code",
   "execution_count": 14,
   "id": "c2efd107",
   "metadata": {},
   "outputs": [
    {
     "name": "stdout",
     "output_type": "stream",
     "text": [
      "False\n"
     ]
    }
   ],
   "source": [
    "# Checks if X is a subset of Y\n",
    "I = X.issubset(Y)\n",
    "print(I)"
   ]
  },
  {
   "cell_type": "code",
   "execution_count": 15,
   "id": "9288f5e8",
   "metadata": {
    "scrolled": true
   },
   "outputs": [
    {
     "name": "stdout",
     "output_type": "stream",
     "text": [
      "False\n"
     ]
    }
   ],
   "source": [
    "# Checks if X is a superset of Y\n",
    "J = X.issuperset(Y)\n",
    "print(J)"
   ]
  },
  {
   "cell_type": "code",
   "execution_count": 16,
   "id": "530442ae",
   "metadata": {},
   "outputs": [
    {
     "name": "stdout",
     "output_type": "stream",
     "text": [
      "34\n"
     ]
    }
   ],
   "source": [
    "# Removes and returns an arbitrary element from the set\n",
    "K = X.pop() \n",
    "print(K)"
   ]
  },
  {
   "cell_type": "code",
   "execution_count": 17,
   "id": "6eab085e",
   "metadata": {},
   "outputs": [
    {
     "name": "stdout",
     "output_type": "stream",
     "text": [
      "{2, 3, 5, 7, 11, 15, 17, 19, 23, 29, 31}\n"
     ]
    }
   ],
   "source": [
    "# Returns a new set containing elements that are in either X or Y, but not in both\n",
    "L = X.symmetric_difference(Y)\n",
    "print (L)"
   ]
  },
  {
   "cell_type": "code",
   "execution_count": 18,
   "id": "5be3ef3b",
   "metadata": {},
   "outputs": [
    {
     "name": "stdout",
     "output_type": "stream",
     "text": [
      "{2, 3, 5, 7, 11, 15, 17, 19, 23, 29, 31}\n"
     ]
    }
   ],
   "source": [
    "# Updates X with elements that are in either X or Y, but not in both\n",
    "X.symmetric_difference_update(Y)\n",
    "print (X)"
   ]
  },
  {
   "cell_type": "code",
   "execution_count": 19,
   "id": "5b7c524c",
   "metadata": {},
   "outputs": [
    {
     "name": "stdout",
     "output_type": "stream",
     "text": [
      "{2, 3, 5, 7, 11, 15, 17, 19, 23, 29, 31}\n"
     ]
    }
   ],
   "source": [
    "# Returns a new set containing all unique elements from both X and Y.\n",
    "N = X.union(Y)\n",
    "print (N)"
   ]
  },
  {
   "cell_type": "code",
   "execution_count": null,
   "id": "437c07cc",
   "metadata": {},
   "outputs": [],
   "source": []
  }
 ],
 "metadata": {
  "kernelspec": {
   "display_name": "Python 3 (ipykernel)",
   "language": "python",
   "name": "python3"
  },
  "language_info": {
   "codemirror_mode": {
    "name": "ipython",
    "version": 3
   },
   "file_extension": ".py",
   "mimetype": "text/x-python",
   "name": "python",
   "nbconvert_exporter": "python",
   "pygments_lexer": "ipython3",
   "version": "3.8.8"
  }
 },
 "nbformat": 4,
 "nbformat_minor": 5
}
