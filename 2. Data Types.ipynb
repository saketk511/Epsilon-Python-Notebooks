{
 "cells": [
  {
   "cell_type": "markdown",
   "id": "492b31bf",
   "metadata": {},
   "source": [
    "# Data Types in Python"
   ]
  },
  {
   "cell_type": "raw",
   "id": "c99f387a",
   "metadata": {},
   "source": [
    "Text Type: str\n",
    "Numeric Types: int, float, complex\n",
    "Sequence Types: list, tuple, range\n",
    "Mapping Type: dict\n",
    "Set Types: set, frozenset\n",
    "Boolean Type: bool\n",
    "Binary Types: bytes, bytearray, memoryview\n",
    "None Type: NoneType"
   ]
  },
  {
   "cell_type": "markdown",
   "id": "62688a89",
   "metadata": {},
   "source": [
    "### Defintion"
   ]
  },
  {
   "cell_type": "raw",
   "id": "867270d1",
   "metadata": {},
   "source": [
    "int: Represents whole numbers, both positive and negative.\n",
    "float: Represents decimal numbers, including scientific notation.\n",
    "str: Represents strings of text, characters, or Unicode.\n",
    "bool: Represents Boolean values (True or False).\n",
    "list: Represents ordered collections of items that can be modified.\n",
    "tuple: Represents ordered collections of items that cannot be modified (immutable).\n",
    "dict: Represents key-value pairs in an unordered collection.\n",
    "set: Represents an unordered collection of unique elements.\n",
    "frozenset: Represents an immutable version of a set.\n",
    "NoneType: Represents the absence of a value or a null value.\n",
    "complex: Represents complex numbers with a real and imaginary part.\n",
    "bytes: Represents a sequence of bytes (immutable).\n",
    "bytearray: Represents a mutable sequence of bytes.\n",
    "memoryview: Represents a view of an object's memory as bytes.\n",
    "range: Represents a sequence of numbers within a specified range."
   ]
  },
  {
   "cell_type": "markdown",
   "id": "2585fd7d",
   "metadata": {},
   "source": [
    "### Examples"
   ]
  },
  {
   "cell_type": "code",
   "execution_count": 3,
   "id": "78fa1131",
   "metadata": {},
   "outputs": [],
   "source": [
    "# Text Type: str\n",
    "X = \"Hello, World!\""
   ]
  },
  {
   "cell_type": "code",
   "execution_count": 4,
   "id": "89939a9a",
   "metadata": {},
   "outputs": [],
   "source": [
    "# Numeric Types: int, float, complex\n",
    "X = 42\n",
    "Y = 3.14\n",
    "Z = 2 + 3j"
   ]
  },
  {
   "cell_type": "code",
   "execution_count": 5,
   "id": "f15cd6a0",
   "metadata": {},
   "outputs": [],
   "source": [
    "# Sequence Types: list, tuple, range\n",
    "X = [1, 2, 3, 4, 5]\n",
    "Y = (10, 20, 30)\n",
    "Z = range(1, 6)  # Represents [1, 2, 3, 4, 5]"
   ]
  },
  {
   "cell_type": "code",
   "execution_count": 6,
   "id": "2c4db5e0",
   "metadata": {},
   "outputs": [],
   "source": [
    "# Mapping Type: dict\n",
    "X = {\"name\": \"John\", \"age\": 30, \"city\": \"New York\"}"
   ]
  },
  {
   "cell_type": "code",
   "execution_count": 7,
   "id": "33713229",
   "metadata": {},
   "outputs": [],
   "source": [
    "# Set Types: set, frozenset\n",
    "X = {1, 2, 3, 4, 5}\n",
    "Y = frozenset([10, 20, 30, 40, 50])"
   ]
  },
  {
   "cell_type": "code",
   "execution_count": 8,
   "id": "93747b1e",
   "metadata": {},
   "outputs": [],
   "source": [
    "# Boolean Type: bool\n",
    "X = True\n",
    "Y = False"
   ]
  },
  {
   "cell_type": "code",
   "execution_count": 9,
   "id": "9de87305",
   "metadata": {},
   "outputs": [],
   "source": [
    "# Binary Types: bytes, bytearray, memoryview\n",
    "X = b\"Hello\"\n",
    "Y = bytearray([72, 101, 108, 108, 111])\n",
    "Z = memoryview(b\"World\")"
   ]
  },
  {
   "cell_type": "code",
   "execution_count": 10,
   "id": "1bccf9ac",
   "metadata": {},
   "outputs": [],
   "source": [
    "# None Type: NoneType\n",
    "X = None"
   ]
  },
  {
   "cell_type": "code",
   "execution_count": null,
   "id": "0306ecf2",
   "metadata": {},
   "outputs": [],
   "source": []
  }
 ],
 "metadata": {
  "kernelspec": {
   "display_name": "Python 3 (ipykernel)",
   "language": "python",
   "name": "python3"
  },
  "language_info": {
   "codemirror_mode": {
    "name": "ipython",
    "version": 3
   },
   "file_extension": ".py",
   "mimetype": "text/x-python",
   "name": "python",
   "nbconvert_exporter": "python",
   "pygments_lexer": "ipython3",
   "version": "3.8.8"
  }
 },
 "nbformat": 4,
 "nbformat_minor": 5
}
