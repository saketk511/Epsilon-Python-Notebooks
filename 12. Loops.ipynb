{
 "cells": [
  {
   "cell_type": "markdown",
   "id": "bd93ab6e",
   "metadata": {},
   "source": [
    "# Loops"
   ]
  },
  {
   "cell_type": "raw",
   "id": "47edc777",
   "metadata": {},
   "source": [
    "range(start,end,step)\n",
    "start : default => 0\n",
    "end : end-1\n",
    "step : +1, -7\n",
    "       \n",
    "1=> range(10) => [0-9] => [0,1,2,3,4...9]\n",
    "2=> range(3,10) => [3-9] => [3,4,5...9]\n",
    "3=> range(1,20,2) => [1-19] => [1,3,5,7...19]\n",
    "4=> range(10,1,-1) => [10-2] => [10,9,8,7,6...2]"
   ]
  },
  {
   "cell_type": "code",
   "execution_count": 1,
   "id": "2444854b",
   "metadata": {},
   "outputs": [
    {
     "name": "stdout",
     "output_type": "stream",
     "text": [
      "0\n",
      "1\n",
      "2\n",
      "3\n",
      "4\n",
      "5\n",
      "6\n",
      "7\n",
      "8\n",
      "9\n"
     ]
    }
   ],
   "source": [
    "for i in range(10):\n",
    "    print(i)"
   ]
  },
  {
   "cell_type": "code",
   "execution_count": 2,
   "id": "87b74149",
   "metadata": {},
   "outputs": [
    {
     "name": "stdout",
     "output_type": "stream",
     "text": [
      "3\n",
      "4\n",
      "5\n",
      "6\n",
      "7\n",
      "8\n",
      "9\n"
     ]
    }
   ],
   "source": [
    "for i in range(3,10):\n",
    "    print(i)"
   ]
  },
  {
   "cell_type": "code",
   "execution_count": 3,
   "id": "81e341e5",
   "metadata": {},
   "outputs": [
    {
     "name": "stdout",
     "output_type": "stream",
     "text": [
      "1\n",
      "3\n",
      "5\n",
      "7\n",
      "9\n",
      "11\n",
      "13\n",
      "15\n",
      "17\n",
      "19\n"
     ]
    }
   ],
   "source": [
    "for i in range(1,20,2):\n",
    "    print(i)"
   ]
  },
  {
   "cell_type": "code",
   "execution_count": 4,
   "id": "bbe2f4ed",
   "metadata": {},
   "outputs": [
    {
     "name": "stdout",
     "output_type": "stream",
     "text": [
      "10\n",
      "9\n",
      "8\n",
      "7\n",
      "6\n",
      "5\n",
      "4\n",
      "3\n",
      "2\n"
     ]
    }
   ],
   "source": [
    "for i in range(10,1,-1):\n",
    "    print(i)"
   ]
  },
  {
   "cell_type": "raw",
   "id": "9630fcb8",
   "metadata": {},
   "source": [
    "For loop -  We know how many times the loop will execute."
   ]
  },
  {
   "cell_type": "raw",
   "id": "a6a33341",
   "metadata": {},
   "source": [
    "seq : list,tuple,dict,set,str,range\n",
    "\n",
    "for var in seq:\n",
    "    #code\n"
   ]
  },
  {
   "cell_type": "code",
   "execution_count": 5,
   "id": "b2eafbb3",
   "metadata": {},
   "outputs": [
    {
     "name": "stdout",
     "output_type": "stream",
     "text": [
      "Tiger\n",
      "Tiger\n",
      "Tiger\n",
      "Tiger\n",
      "Tiger\n"
     ]
    }
   ],
   "source": [
    "# Example with List\n",
    "X = [1,3,5,7,11]\n",
    "\n",
    "for i in X:\n",
    "    print(\"Tiger\")"
   ]
  },
  {
   "cell_type": "code",
   "execution_count": 6,
   "id": "903b3d3b",
   "metadata": {},
   "outputs": [
    {
     "name": "stdout",
     "output_type": "stream",
     "text": [
      "Coffee\n",
      "Coffee\n",
      "Coffee\n",
      "Coffee\n",
      "Coffee\n",
      "Coffee\n"
     ]
    }
   ],
   "source": [
    "# Example with String\n",
    "X = \"Europe\"\n",
    "\n",
    "for i in X:\n",
    "    print(\"Coffee\")"
   ]
  },
  {
   "cell_type": "code",
   "execution_count": 7,
   "id": "a72bcd2b",
   "metadata": {},
   "outputs": [
    {
     "name": "stdout",
     "output_type": "stream",
     "text": [
      "India\n",
      "India\n",
      "India\n"
     ]
    }
   ],
   "source": [
    "for x in range(3):\n",
    "    print(\"India\")"
   ]
  },
  {
   "cell_type": "code",
   "execution_count": 8,
   "id": "d7b93333",
   "metadata": {},
   "outputs": [
    {
     "name": "stdout",
     "output_type": "stream",
     "text": [
      "Hello\n",
      "Hello\n",
      "Hello\n"
     ]
    }
   ],
   "source": [
    "# This not mandatory what item we have in sequence but the number of items we have in sequence.\n",
    "for x in 1,\"Deepak\",7:\n",
    "    print(\"Hello\")"
   ]
  },
  {
   "cell_type": "raw",
   "id": "4fe9e06f",
   "metadata": {},
   "source": [
    "While loop -  We do not know, how many times the loop will execute (depend on condition)"
   ]
  },
  {
   "cell_type": "raw",
   "id": "bb6c4646",
   "metadata": {},
   "source": [
    "while condition:\n",
    "    #code"
   ]
  },
  {
   "cell_type": "code",
   "execution_count": 9,
   "id": "e7c33e6a",
   "metadata": {},
   "outputs": [
    {
     "name": "stdout",
     "output_type": "stream",
     "text": [
      "1\n",
      "2\n",
      "3\n",
      "4\n",
      "5\n",
      "6\n",
      "7\n",
      "8\n",
      "9\n",
      "10\n"
     ]
    }
   ],
   "source": [
    "a=1\n",
    "\n",
    "while a<=10:\n",
    "    print(a)\n",
    "    a=a+1"
   ]
  },
  {
   "cell_type": "code",
   "execution_count": 10,
   "id": "58ded2e5",
   "metadata": {},
   "outputs": [
    {
     "name": "stdout",
     "output_type": "stream",
     "text": [
      "Enter username :Tom\n",
      "Enter username :root\n"
     ]
    }
   ],
   "source": [
    "name=\"\"\n",
    "\n",
    "while name!=\"root\":\n",
    "    name=input(\"Enter username :\")"
   ]
  },
  {
   "cell_type": "code",
   "execution_count": 11,
   "id": "1cbd7505",
   "metadata": {},
   "outputs": [
    {
     "name": "stdout",
     "output_type": "stream",
     "text": [
      "Enter the password: India\n",
      "Incorrect password. You have 2 attempts left.\n",
      "Enter the password: Europe\n",
      "Incorrect password. You have 1 attempts left.\n",
      "Enter the password: secret\n",
      "Access granted!\n"
     ]
    }
   ],
   "source": [
    "password = \"secret\"\n",
    "attempts = 3\n",
    "\n",
    "while attempts > 0:\n",
    "    guess = input(\"Enter the password: \")\n",
    "    if guess == password:\n",
    "        print(\"Access granted!\")\n",
    "        break\n",
    "    else:\n",
    "        attempts -= 1\n",
    "        if attempts > 0:\n",
    "            print(\"Incorrect password. You have\", attempts, \"attempts left.\")\n",
    "        else:\n",
    "            print(\"Out of attempts. Access denied.\")"
   ]
  },
  {
   "cell_type": "code",
   "execution_count": null,
   "id": "16d055dc",
   "metadata": {},
   "outputs": [],
   "source": []
  }
 ],
 "metadata": {
  "kernelspec": {
   "display_name": "Python 3 (ipykernel)",
   "language": "python",
   "name": "python3"
  },
  "language_info": {
   "codemirror_mode": {
    "name": "ipython",
    "version": 3
   },
   "file_extension": ".py",
   "mimetype": "text/x-python",
   "name": "python",
   "nbconvert_exporter": "python",
   "pygments_lexer": "ipython3",
   "version": "3.8.8"
  }
 },
 "nbformat": 4,
 "nbformat_minor": 5
}
