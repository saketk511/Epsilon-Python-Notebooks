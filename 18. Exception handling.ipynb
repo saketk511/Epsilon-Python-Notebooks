{
 "cells": [
  {
   "cell_type": "markdown",
   "id": "9929db34-adbf-4730-b8fc-04a3b5f671dd",
   "metadata": {},
   "source": [
    "# Exception Handling"
   ]
  },
  {
   "cell_type": "markdown",
   "id": "79fc528b-9ef9-4fcf-a1c6-eb23fb094de8",
   "metadata": {},
   "source": [
    "Exception handling in Python is a mechanism that allows you to handle errors gracefully and prevent your program from crashing unexpectedly. When an error occurs, an exception is raised, and you can use try-except blocks to catch and handle these exceptions.\n",
    "\n",
    "Basic Structure\n",
    "The basic structure of exception handling in Python consists of try, except, else, and finally blocks.\n",
    "\n",
    "try: This block contains the code that might raise an exception.\n",
    "\n",
    "except: This block contains the code that runs if an exception occurs in the try block.\n",
    "\n",
    "else: This block contains code that runs if no exceptions occur in the try block.\n",
    "\n",
    "finally: This block contains code that runs regardless of whether an exception occurred or not."
   ]
  },
  {
   "cell_type": "markdown",
   "id": "863fa282-faaa-4c1b-bf4b-93594b5d5f4e",
   "metadata": {},
   "source": [
    "# Common Exceptions\n",
    "\n",
    "Some common built-in exceptions in Python include:\n",
    "\n",
    "ValueError: Raised when a function receives an argument of the correct type but an inappropriate value.\n",
    "\n",
    "TypeError: Raised when an operation or function is applied to an object of inappropriate type.\n",
    "\n",
    "IndexError: Raised when a sequence subscript is out of range.\n",
    "\n",
    "KeyError: Raised when a dictionary key is not found.\n",
    "\n",
    "FileNotFoundError: Raised when a file or directory is requested but doesn't exist."
   ]
  },
  {
   "cell_type": "code",
   "execution_count": 2,
   "id": "7a833788-9a1a-429f-a69e-a1c6e459ef7a",
   "metadata": {},
   "outputs": [
    {
     "name": "stdout",
     "output_type": "stream",
     "text": [
      "Error: Division by zero is not allowed.\n",
      "Exception message: division by zero\n",
      "This block always executes.\n"
     ]
    }
   ],
   "source": [
    "# Example 1\n",
    "\n",
    "try:\n",
    "    # Code that may raise an exception\n",
    "    result = 10 / 0\n",
    "except ZeroDivisionError as e:\n",
    "    # Code that runs if a ZeroDivisionError occurs\n",
    "    print(\"Error: Division by zero is not allowed.\")\n",
    "    print(f\"Exception message: {e}\")\n",
    "else:\n",
    "    # Code that runs if no exception occurs\n",
    "    print(\"Division successful. Result:\", result)\n",
    "finally:\n",
    "    # Code that runs regardless of whether an exception occurred or not\n",
    "    print(\"This block always executes.\")"
   ]
  },
  {
   "cell_type": "code",
   "execution_count": 3,
   "id": "3e83d0c9-0fb4-4609-827d-7f52cc9dec26",
   "metadata": {},
   "outputs": [
    {
     "name": "stdin",
     "output_type": "stream",
     "text": [
      "Enter a number:  5\n"
     ]
    },
    {
     "name": "stdout",
     "output_type": "stream",
     "text": [
      "Operation successful. Result: 2.0\n",
      "This block always executes.\n"
     ]
    }
   ],
   "source": [
    "# Example 2\n",
    "\n",
    "try:\n",
    "    # Code that may raise an exception\n",
    "    num = int(input(\"Enter a number: \"))\n",
    "    result = 10 / num\n",
    "except (ValueError, ZeroDivisionError) as e:\n",
    "    # Code that runs if a ValueError or ZeroDivisionError occurs\n",
    "    print(f\"An error occurred: {e}\")\n",
    "else:\n",
    "    # Code that runs if no exception occurs\n",
    "    print(\"Operation successful. Result:\", result)\n",
    "finally:\n",
    "    # Code that runs regardless of whether an exception occurred or not\n",
    "    print(\"This block always executes.\")"
   ]
  },
  {
   "cell_type": "markdown",
   "id": "264fb332-0535-469d-9004-a20a6326802f",
   "metadata": {},
   "source": [
    "# Custom Exceptions\n",
    "You can define custom exceptions by creating a new class that inherits from the Exception class:"
   ]
  },
  {
   "cell_type": "code",
   "execution_count": 4,
   "id": "4104b6db-7afc-4576-a4b7-bd2c47f93706",
   "metadata": {},
   "outputs": [
    {
     "name": "stdout",
     "output_type": "stream",
     "text": [
      "An error occurred: Number must be positive.\n"
     ]
    }
   ],
   "source": [
    "# Example 3\n",
    "\n",
    "class CustomError(Exception):\n",
    "    pass\n",
    "\n",
    "def check_positive(number):\n",
    "    if number < 0:\n",
    "        raise CustomError(\"Number must be positive.\")\n",
    "    return number\n",
    "\n",
    "try:\n",
    "    result = check_positive(-10)\n",
    "except CustomError as e:\n",
    "    print(f\"An error occurred: {e}\")"
   ]
  },
  {
   "cell_type": "markdown",
   "id": "05c9c810-03f1-4836-ba3d-e4e9691d2447",
   "metadata": {},
   "source": [
    "Use except Exception as e to catch and handle any type of exception, not just specific ones. This is useful when you want to log or handle any unexpected errors in a general way.\n",
    "\n",
    "#### Using except Exception as e\n",
    "When you use except Exception as e, you're catching any exception that inherits from the base Exception class. This is a common practice for logging or for when you don't need to handle specific exceptions differently."
   ]
  },
  {
   "cell_type": "code",
   "execution_count": null,
   "id": "71e0797a-2710-4717-97a7-ba8bb139aa0f",
   "metadata": {},
   "outputs": [],
   "source": [
    "try:\n",
    "    # Code that may raise an exception\n",
    "    num = int(input(\"Enter a number: \"))\n",
    "    result = 10 / num\n",
    "except Exception as e:\n",
    "    # Code that runs if any exception occurs\n",
    "    print(f\"An error occurred: {e}\")\n",
    "else:\n",
    "    # Code that runs if no exception occurs\n",
    "    print(\"Operation successful. Result:\", result)\n",
    "finally:\n",
    "    # Code that runs regardless of whether an exception occurred or not\n",
    "    print(\"This block always executes.\")"
   ]
  },
  {
   "cell_type": "markdown",
   "id": "a73d6c91-3920-4cc9-b67e-9d01fecce007",
   "metadata": {},
   "source": [
    "# Specific Exceptions vs. General Exception\n",
    "It's generally a good practice to catch specific exceptions rather than using a general except Exception as e clause. This approach makes your code more readable and maintainable. However, using a general exception handler is useful for logging purposes or as a safety net for unexpected exceptions."
   ]
  },
  {
   "cell_type": "code",
   "execution_count": null,
   "id": "e50decc2-8560-4d03-8b13-191c320a536e",
   "metadata": {},
   "outputs": [],
   "source": [
    "try:\n",
    "    # Code that may raise an exception\n",
    "    num = int(input(\"Enter a number: \"))\n",
    "    result = 10 / num\n",
    "except ValueError as ve:\n",
    "    # Code that runs if a ValueError occurs\n",
    "    print(f\"ValueError occurred: {ve}\")\n",
    "except ZeroDivisionError as zde:\n",
    "    # Code that runs if a ZeroDivisionError occurs\n",
    "    print(f\"ZeroDivisionError occurred: {zde}\")\n",
    "except Exception as e:\n",
    "    # Code that runs if any other exception occurs\n",
    "    print(f\"An unexpected error occurred: {e}\")\n",
    "else:\n",
    "    # Code that runs if no exception occurs\n",
    "    print(\"Operation successful. Result:\", result)\n",
    "finally:\n",
    "    # Code that runs regardless of whether an exception occurred or not\n",
    "    print(\"This block always executes.\")"
   ]
  },
  {
   "cell_type": "code",
   "execution_count": null,
   "id": "2606fd3f-14dd-4e5c-8242-9307ddd28e25",
   "metadata": {},
   "outputs": [],
   "source": []
  },
  {
   "cell_type": "code",
   "execution_count": null,
   "id": "b171cf5e-6f93-4ae7-b5a6-937cd0a84199",
   "metadata": {},
   "outputs": [],
   "source": []
  },
  {
   "cell_type": "code",
   "execution_count": null,
   "id": "0847e78c-3615-4be9-9ffa-cd938bc04ec0",
   "metadata": {},
   "outputs": [],
   "source": []
  },
  {
   "cell_type": "code",
   "execution_count": null,
   "id": "0a47b654-0cae-4424-9667-824486af299e",
   "metadata": {},
   "outputs": [],
   "source": []
  },
  {
   "cell_type": "code",
   "execution_count": null,
   "id": "0a08313a-5209-42fb-acab-4cc5c079caa5",
   "metadata": {},
   "outputs": [],
   "source": []
  },
  {
   "cell_type": "code",
   "execution_count": null,
   "id": "b51449bb-66a9-4a16-90fd-eebc701f3e4a",
   "metadata": {},
   "outputs": [],
   "source": []
  },
  {
   "cell_type": "code",
   "execution_count": null,
   "id": "d15c87ed-9aed-4df8-a267-a392bc3bcd0f",
   "metadata": {},
   "outputs": [],
   "source": []
  },
  {
   "cell_type": "code",
   "execution_count": null,
   "id": "994b25f0-6317-406e-a26c-f67e62044327",
   "metadata": {},
   "outputs": [],
   "source": []
  }
 ],
 "metadata": {
  "kernelspec": {
   "display_name": "Python 3 (ipykernel)",
   "language": "python",
   "name": "python3"
  },
  "language_info": {
   "codemirror_mode": {
    "name": "ipython",
    "version": 3
   },
   "file_extension": ".py",
   "mimetype": "text/x-python",
   "name": "python",
   "nbconvert_exporter": "python",
   "pygments_lexer": "ipython3",
   "version": "3.11.7"
  }
 },
 "nbformat": 4,
 "nbformat_minor": 5
}
