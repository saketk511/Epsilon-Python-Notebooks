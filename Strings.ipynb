{
 "cells": [
  {
   "cell_type": "markdown",
   "id": "17900542",
   "metadata": {},
   "source": [
    "# Lists"
   ]
  },
  {
   "cell_type": "markdown",
   "id": "0dc275d4",
   "metadata": {},
   "source": [
    "#### Prime number in a range"
   ]
  },
  {
   "cell_type": "code",
   "execution_count": 1,
   "id": "b20094f4",
   "metadata": {},
   "outputs": [
    {
     "name": "stdout",
     "output_type": "stream",
     "text": [
      "Enter the start of the range: 5\n",
      "Enter the end of the range: 3\n",
      "Prime numbers between 5 and 3:\n"
     ]
    }
   ],
   "source": [
    "def is_prime(num):\n",
    "    if num < 2:\n",
    "        return False\n",
    "    for i in range(2, int(num**0.5) + 1):\n",
    "        if num % i == 0:\n",
    "            return False\n",
    "    return True\n",
    "\n",
    "start = int(input(\"Enter the start of the range: \"))\n",
    "end = int(input(\"Enter the end of the range: \"))\n",
    "\n",
    "print(f\"Prime numbers between {start} and {end}:\")\n",
    "for num in range(start, end+1):\n",
    "    if is_prime(num):\n",
    "        print(num)"
   ]
  },
  {
   "cell_type": "markdown",
   "id": "e8f5d5a3",
   "metadata": {},
   "source": [
    "#### Kth Largest"
   ]
  },
  {
   "cell_type": "code",
   "execution_count": 2,
   "id": "863368e5",
   "metadata": {},
   "outputs": [
    {
     "name": "stdout",
     "output_type": "stream",
     "text": [
      "5\n"
     ]
    }
   ],
   "source": [
    "def kth_largest(nums, k):\n",
    "    sorted_nums = sorted(nums, reverse=True)\n",
    "    return sorted_nums[k - 1]\n",
    "\n",
    "nums = [3, 1, 4, 1, 5, 9, 2, 6]\n",
    "k = 3\n",
    "result = kth_largest(nums, k)\n",
    "print(result)  "
   ]
  },
  {
   "cell_type": "markdown",
   "id": "272cbb49",
   "metadata": {},
   "source": [
    "#### Intersection"
   ]
  },
  {
   "cell_type": "code",
   "execution_count": 3,
   "id": "2da26820",
   "metadata": {},
   "outputs": [
    {
     "name": "stdout",
     "output_type": "stream",
     "text": [
      "[4, 5]\n"
     ]
    }
   ],
   "source": [
    "def list_intersection(*lists):\n",
    "    return list(set.intersection(*map(set, lists)))\n",
    "\n",
    "list1 = [1, 2, 3, 4, 5, 7]\n",
    "list2 = [4, 5, 6, 7, 8]\n",
    "list3 = [3, 4, 5, 8, 9, 10]\n",
    "result = list_intersection(list1, list2, list3)\n",
    "print(result)  "
   ]
  },
  {
   "cell_type": "markdown",
   "id": "9cb1b356",
   "metadata": {},
   "source": [
    "#### Union"
   ]
  },
  {
   "cell_type": "code",
   "execution_count": 4,
   "id": "ce9092e1",
   "metadata": {},
   "outputs": [
    {
     "name": "stdout",
     "output_type": "stream",
     "text": [
      "[1, 2, 3, 4, 5, 6, 7, 8, 9, 10]\n"
     ]
    }
   ],
   "source": [
    "def list_union(*lists):\n",
    "    return list(set.union(*map(set, lists)))\n",
    "\n",
    "list1 = [1, 2, 3, 4, 5]\n",
    "list2 = [4, 5, 6, 7, 8]\n",
    "list3 = [5, 8, 9, 10]\n",
    "result = list_union(list1, list2, list3)\n",
    "print(result)  "
   ]
  },
  {
   "cell_type": "markdown",
   "id": "a847bb03",
   "metadata": {},
   "source": [
    "#### Mode"
   ]
  },
  {
   "cell_type": "code",
   "execution_count": 5,
   "id": "3ad95f1e",
   "metadata": {},
   "outputs": [
    {
     "name": "stdout",
     "output_type": "stream",
     "text": [
      "2\n"
     ]
    }
   ],
   "source": [
    "def find_majority_element(nums):\n",
    "    candidate = None\n",
    "    count = 0\n",
    "    for num in nums:\n",
    "        if count == 0:\n",
    "            candidate = num\n",
    "        count += (1 if num == candidate else -1)\n",
    "    return candidate\n",
    "\n",
    "nums = [2, 2, 1, 1, 1, 2, 2]\n",
    "result = find_majority_element(nums)\n",
    "print(result)  "
   ]
  },
  {
   "cell_type": "markdown",
   "id": "79a067ed",
   "metadata": {},
   "source": [
    "#### List Sum"
   ]
  },
  {
   "cell_type": "code",
   "execution_count": 6,
   "id": "a293176c",
   "metadata": {},
   "outputs": [
    {
     "name": "stdout",
     "output_type": "stream",
     "text": [
      "How many values you want to put? 3\n",
      "Enter the number 3\n",
      "Enter the number 2\n",
      "Enter the number 1\n",
      "List: [3, 2, 1] and sum is: 6\n"
     ]
    }
   ],
   "source": [
    "List = []\n",
    "Length = int(input(\"How many values you want to put? \"))\n",
    "\n",
    "Z = 0  \n",
    "\n",
    "for i in range(Length):\n",
    "    Number = int(input(\"Enter the number \"))\n",
    "    Z = Z + Number\n",
    "    List.append(Number)\n",
    "    \n",
    "print(f\"List: {List} and sum is: {Z}\")"
   ]
  },
  {
   "cell_type": "markdown",
   "id": "0c0d61db",
   "metadata": {},
   "source": [
    "#### List random element"
   ]
  },
  {
   "cell_type": "code",
   "execution_count": 7,
   "id": "98a955ef",
   "metadata": {},
   "outputs": [
    {
     "name": "stdout",
     "output_type": "stream",
     "text": [
      "How many values you want to put? 3\n",
      "Enter the number 2\n",
      "Enter the number 1\n",
      "Enter the number 3\n",
      "Random number: 2\n"
     ]
    }
   ],
   "source": [
    "import random\n",
    "\n",
    "List = []\n",
    "Length = int(input(\"How many values you want to put? \"))\n",
    "\n",
    "for i in range(Length):\n",
    "    Number = int(input(\"Enter the number \"))\n",
    "    List.append(Number)\n",
    "    \n",
    "Select = random.choice(List)\n",
    "\n",
    "print(f\"Random number: {Select}\")"
   ]
  },
  {
   "cell_type": "markdown",
   "id": "f24738d6",
   "metadata": {},
   "source": [
    "#### Factorial of Number"
   ]
  },
  {
   "cell_type": "code",
   "execution_count": 8,
   "id": "481f3353",
   "metadata": {},
   "outputs": [
    {
     "name": "stdout",
     "output_type": "stream",
     "text": [
      "Enter a non-negative integer: 7\n",
      "The factorial of 7 is: 5040\n"
     ]
    }
   ],
   "source": [
    "def factorial(n):\n",
    "    if n < 0:\n",
    "        return \"Factorial is undefined for negative numbers\"\n",
    "    elif n == 0:\n",
    "        return 1\n",
    "    else:\n",
    "        result = 1\n",
    "        for i in range(1, n + 1):\n",
    "            result *= i\n",
    "        return result\n",
    "\n",
    "num = int(input(\"Enter a non-negative integer: \"))\n",
    "\n",
    "result = factorial(num)\n",
    "\n",
    "print(f\"The factorial of {num} is: {result}\")"
   ]
  },
  {
   "cell_type": "markdown",
   "id": "6e153f8a",
   "metadata": {},
   "source": [
    "#### Fibonacci Series"
   ]
  },
  {
   "cell_type": "code",
   "execution_count": 9,
   "id": "a15f3953",
   "metadata": {},
   "outputs": [
    {
     "name": "stdout",
     "output_type": "stream",
     "text": [
      "[0, 1, 1, 2, 3, 5, 8, 13, 21, 34]\n"
     ]
    }
   ],
   "source": [
    "def fibonacci(n):\n",
    "    fib_sequence = [0, 1]\n",
    "    while len(fib_sequence) < n:\n",
    "        fib_sequence.append(fib_sequence[-1] + fib_sequence[-2])\n",
    "    return fib_sequence[:n]\n",
    "\n",
    "fib_sequence = fibonacci(10)\n",
    "print(fib_sequence)"
   ]
  },
  {
   "cell_type": "markdown",
   "id": "1992053b",
   "metadata": {},
   "source": [
    "#### GCD"
   ]
  },
  {
   "cell_type": "code",
   "execution_count": 10,
   "id": "80789ebd",
   "metadata": {},
   "outputs": [
    {
     "name": "stdout",
     "output_type": "stream",
     "text": [
      "The GCD of 48 and 18 is: 6\n"
     ]
    }
   ],
   "source": [
    "import math\n",
    "\n",
    "def gcd(a, b):\n",
    "    return math.gcd(a, b)\n",
    "\n",
    "num1 = 48\n",
    "num2 = 18\n",
    "result = gcd(num1, num2)\n",
    "print(f\"The GCD of {num1} and {num2} is: {result}\")"
   ]
  },
  {
   "cell_type": "markdown",
   "id": "635fddd8",
   "metadata": {},
   "source": [
    "#### Remove Duplicates"
   ]
  },
  {
   "cell_type": "code",
   "execution_count": 12,
   "id": "d33d6035",
   "metadata": {},
   "outputs": [
    {
     "name": "stdout",
     "output_type": "stream",
     "text": [
      "Original List: [1, 2, 3, 2, 4, 3, 5, 6, 1]\n",
      "List with duplicates removed: [1, 2, 3, 4, 5, 6]\n"
     ]
    }
   ],
   "source": [
    "def remove_duplicates(input_list):\n",
    "    return list(set(input_list))\n",
    "\n",
    "original_list = [1, 2, 3, 2, 4, 3, 5, 6, 1]\n",
    "unique_elements = remove_duplicates(original_list)\n",
    "print(f\"Original List: {original_list}\")\n",
    "print(f\"List with duplicates removed: {unique_elements}\")"
   ]
  },
  {
   "cell_type": "markdown",
   "id": "44d36835",
   "metadata": {},
   "source": [
    "#### LCM"
   ]
  },
  {
   "cell_type": "code",
   "execution_count": null,
   "id": "c3c2aabe",
   "metadata": {},
   "outputs": [],
   "source": [
    "def lcm(a, b):\n",
    "    def gcd(x, y):\n",
    "        while y:\n",
    "            x, y = y, x % y\n",
    "        return x\n",
    "\n",
    "    return abs(a*b) // gcd(a, b)\n",
    "\n",
    "num1 = 12\n",
    "num2 = 18\n",
    "result = lcm(num1, num2)\n",
    "print(f\"The LCM of {num1} and {num2} is: {result}\")"
   ]
  },
  {
   "cell_type": "markdown",
   "id": "4653b60a",
   "metadata": {},
   "source": [
    "#### Binary Search"
   ]
  },
  {
   "cell_type": "code",
   "execution_count": null,
   "id": "ec2cac59",
   "metadata": {},
   "outputs": [],
   "source": [
    "def binary_search(arr, target):\n",
    "    left, right = 0, len(arr) - 1\n",
    "\n",
    "    while left <= right:\n",
    "        mid = (left + right) // 2\n",
    "\n",
    "        if arr[mid] == target:\n",
    "            return mid\n",
    "        elif arr[mid] < target:\n",
    "            left = mid + 1\n",
    "        else:\n",
    "            right = mid - 1\n",
    "\n",
    "    return -1\n",
    "\n",
    "sorted_list = [1, 3, 5, 7, 9, 11, 13, 15]\n",
    "target = 7\n",
    "result = binary_search(sorted_list, target)\n",
    "\n",
    "if result != -1:\n",
    "    print(f\"The element {target} was found at index {result}.\")\n",
    "else:\n",
    "    print(f\"The element {target} was not found in the list.\")"
   ]
  },
  {
   "cell_type": "markdown",
   "id": "f96a531f",
   "metadata": {},
   "source": [
    "#### Quick Sort"
   ]
  },
  {
   "cell_type": "code",
   "execution_count": null,
   "id": "3b886690",
   "metadata": {},
   "outputs": [],
   "source": [
    "def quick_sort(arr):\n",
    "    if len(arr) <= 1:\n",
    "        return arr\n",
    "\n",
    "    pivot = arr[len(arr) // 2]\n",
    "    left = [x for x in arr if x < pivot]\n",
    "    middle = [x for x in arr if x == pivot]\n",
    "    right = [x for x in arr if x > pivot]\n",
    "\n",
    "    return quick_sort(left) + middle + quick_sort(right)\n",
    "\n",
    "unsorted_list = [3, 6, 8, 10, 1, 2, 1]\n",
    "sorted_list = quick_sort(unsorted_list)\n",
    "print(f\"Sorted List: {sorted_list}\")"
   ]
  },
  {
   "cell_type": "markdown",
   "id": "234dde36",
   "metadata": {},
   "source": [
    "#### Merge Sort "
   ]
  },
  {
   "cell_type": "code",
   "execution_count": null,
   "id": "c88e282f",
   "metadata": {},
   "outputs": [],
   "source": [
    "def merge_sort(arr):\n",
    "    if len(arr) <= 1:\n",
    "        return arr\n",
    "\n",
    "    def merge(left, right):\n",
    "        result = []\n",
    "        i = j = 0\n",
    "\n",
    "        while i < len(left) and j < len(right):\n",
    "            if left[i] < right[j]:\n",
    "                result.append(left[i])\n",
    "                i += 1\n",
    "            else:\n",
    "                result.append(right[j])\n",
    "                j += 1\n",
    "\n",
    "        result.extend(left[i:])\n",
    "        result.extend(right[j:])\n",
    "        return result\n",
    "\n",
    "    mid = len(arr) // 2\n",
    "    left = arr[:mid]\n",
    "    right = arr[mid:]\n",
    "\n",
    "    return merge(merge_sort(left), merge_sort(right))\n",
    "\n",
    "unsorted_list = [3, 6, 8, 10, 1, 2, 1]\n",
    "sorted_list = merge_sort(unsorted_list)\n",
    "print(f\"Sorted List: {sorted_list}\")"
   ]
  },
  {
   "cell_type": "markdown",
   "id": "cb9cf191",
   "metadata": {},
   "source": [
    "#### Bubble Sort"
   ]
  },
  {
   "cell_type": "code",
   "execution_count": null,
   "id": "10cbf6c9",
   "metadata": {},
   "outputs": [],
   "source": [
    "def bubble_sort(arr):\n",
    "    n = len(arr)\n",
    "\n",
    "    for i in range(n-1):\n",
    "        for j in range(n-1-i):\n",
    "            if arr[j] > arr[j+1]:\n",
    "                arr[j], arr[j+1] = arr[j+1], arr[j]\n",
    "\n",
    "unsorted_list = [64, 34, 25, 12, 22, 11, 90]\n",
    "bubble_sort(unsorted_list)\n",
    "print(f\"Sorted List: {unsorted_list}\")"
   ]
  },
  {
   "cell_type": "code",
   "execution_count": null,
   "id": "a76e4858",
   "metadata": {},
   "outputs": [],
   "source": []
  }
 ],
 "metadata": {
  "kernelspec": {
   "display_name": "Python 3 (ipykernel)",
   "language": "python",
   "name": "python3"
  },
  "language_info": {
   "codemirror_mode": {
    "name": "ipython",
    "version": 3
   },
   "file_extension": ".py",
   "mimetype": "text/x-python",
   "name": "python",
   "nbconvert_exporter": "python",
   "pygments_lexer": "ipython3",
   "version": "3.8.8"
  }
 },
 "nbformat": 4,
 "nbformat_minor": 5
}
