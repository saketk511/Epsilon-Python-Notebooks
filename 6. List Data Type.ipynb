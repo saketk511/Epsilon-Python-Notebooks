{
 "cells": [
  {
   "cell_type": "markdown",
   "id": "451a0755",
   "metadata": {},
   "source": [
    "# Type List"
   ]
  },
  {
   "cell_type": "code",
   "execution_count": 1,
   "id": "b7e6fd75",
   "metadata": {},
   "outputs": [],
   "source": [
    "# list : collection of items\n",
    "# list : []\n",
    "# list : based on index : start : 0 , end : n-1\n",
    "# list : homo,hetro\n",
    "# list : mutable : add, update, delete"
   ]
  },
  {
   "cell_type": "code",
   "execution_count": 2,
   "id": "863c1125",
   "metadata": {},
   "outputs": [],
   "source": [
    "X = [101,\"Amit\",23,\"Delhi\",78990,100,\"Deepak\",56,\"Tarun\",99,\"05-03-2014\"]\n",
    "Y = [92,5,14,21,33,45,52,63,74]"
   ]
  },
  {
   "cell_type": "code",
   "execution_count": 3,
   "id": "93562693",
   "metadata": {},
   "outputs": [
    {
     "name": "stdout",
     "output_type": "stream",
     "text": [
      "['__add__', '__class__', '__contains__', '__delattr__', '__delitem__', '__dir__', '__doc__', '__eq__', '__format__', '__ge__', '__getattribute__', '__getitem__', '__gt__', '__hash__', '__iadd__', '__imul__', '__init__', '__init_subclass__', '__iter__', '__le__', '__len__', '__lt__', '__mul__', '__ne__', '__new__', '__reduce__', '__reduce_ex__', '__repr__', '__reversed__', '__rmul__', '__setattr__', '__setitem__', '__sizeof__', '__str__', '__subclasshook__', 'append', 'clear', 'copy', 'count', 'extend', 'index', 'insert', 'pop', 'remove', 'reverse', 'sort']\n"
     ]
    }
   ],
   "source": [
    "print(dir(list))"
   ]
  },
  {
   "cell_type": "code",
   "execution_count": 4,
   "id": "a85b8fa2",
   "metadata": {},
   "outputs": [
    {
     "name": "stdout",
     "output_type": "stream",
     "text": [
      "[101, 'Amit', 23, 'Delhi', 78990, 100, 'Deepak', 56, 'Tarun', 11, '05-03-2014']\n"
     ]
    }
   ],
   "source": [
    "# Update element\n",
    "X[9] = 11\n",
    "print(X)"
   ]
  },
  {
   "cell_type": "code",
   "execution_count": 5,
   "id": "6d89da40",
   "metadata": {},
   "outputs": [
    {
     "name": "stdout",
     "output_type": "stream",
     "text": [
      "Amit\n"
     ]
    }
   ],
   "source": [
    "# Show element at a particular position\n",
    "Z = X[1]\n",
    "print(Z)"
   ]
  },
  {
   "cell_type": "code",
   "execution_count": 6,
   "id": "b1fc0be6",
   "metadata": {},
   "outputs": [
    {
     "name": "stdout",
     "output_type": "stream",
     "text": [
      "05-03-2014\n"
     ]
    }
   ],
   "source": [
    "# Show element at a particular position\n",
    "Z = X[-1]\n",
    "print(Z)"
   ]
  },
  {
   "cell_type": "code",
   "execution_count": 7,
   "id": "6037bd27",
   "metadata": {},
   "outputs": [
    {
     "name": "stdout",
     "output_type": "stream",
     "text": [
      "['Amit', 'Delhi', 100, 56]\n"
     ]
    }
   ],
   "source": [
    "# Slicing\n",
    "Z = X[1:9:2]\n",
    "print(Z)"
   ]
  },
  {
   "cell_type": "code",
   "execution_count": 8,
   "id": "ef3fc166",
   "metadata": {},
   "outputs": [
    {
     "name": "stdout",
     "output_type": "stream",
     "text": [
      "[63, 33]\n"
     ]
    }
   ],
   "source": [
    "# Slicing\n",
    "Z = Y[-2:-8:-3]\n",
    "print(Z)"
   ]
  },
  {
   "cell_type": "code",
   "execution_count": 9,
   "id": "5b8aabf9",
   "metadata": {},
   "outputs": [
    {
     "name": "stdout",
     "output_type": "stream",
     "text": [
      "1\n"
     ]
    }
   ],
   "source": [
    "# Count the number of occurrences of an item in the list\n",
    "Z = X.count(23)\n",
    "print(Z)"
   ]
  },
  {
   "cell_type": "code",
   "execution_count": 10,
   "id": "786a1edd",
   "metadata": {},
   "outputs": [],
   "source": [
    "X = [101,\"Amit\",23,\"Delhi\",78990,100,\"Deepak\",56,\"Tarun\",99,\"05-03-2014\"]\n",
    "Y = [92,5,14,21,33,45,52,63,74]"
   ]
  },
  {
   "cell_type": "code",
   "execution_count": 11,
   "id": "efe95ea4",
   "metadata": {},
   "outputs": [
    {
     "name": "stdout",
     "output_type": "stream",
     "text": [
      "9\n"
     ]
    }
   ],
   "source": [
    "# Returns the index of the first occurrence of an item in the list\n",
    "Z = X.index(99)\n",
    "print(Z)"
   ]
  },
  {
   "cell_type": "code",
   "execution_count": 12,
   "id": "c59f3122",
   "metadata": {},
   "outputs": [
    {
     "name": "stdout",
     "output_type": "stream",
     "text": [
      "[101, 'Amit', 23, 'Delhi', 78990, 100, 'Deepak', 56, 'Tarun', 99, '05-03-2014', 45]\n"
     ]
    }
   ],
   "source": [
    "# Append a value at the end\n",
    "X.append(45)\n",
    "print(X)"
   ]
  },
  {
   "cell_type": "code",
   "execution_count": 13,
   "id": "8b28269e",
   "metadata": {},
   "outputs": [
    {
     "name": "stdout",
     "output_type": "stream",
     "text": [
      "[101, 'Deepak', 'Amit', 23, 'Delhi', 78990, 100, 'Deepak', 56, 'Tarun', 99, '05-03-2014', 45]\n"
     ]
    }
   ],
   "source": [
    "# Insert a value \n",
    "X.insert(1,\"Deepak\")\n",
    "print(X)"
   ]
  },
  {
   "cell_type": "code",
   "execution_count": 14,
   "id": "4bc97591",
   "metadata": {},
   "outputs": [
    {
     "name": "stdout",
     "output_type": "stream",
     "text": [
      "[101, 'Deepak', 'Amit', 23, 'Delhi', 78990, 100, 'Deepak', 56, 'Tarun', 99, '05-03-2014', 45, 23, 45, 67]\n"
     ]
    }
   ],
   "source": [
    "# Add multiple vaues\n",
    "X.extend([23,45,67])\n",
    "print(X)"
   ]
  },
  {
   "cell_type": "code",
   "execution_count": 15,
   "id": "e8e996cd",
   "metadata": {},
   "outputs": [
    {
     "name": "stdout",
     "output_type": "stream",
     "text": [
      "[101, 'Deepak', 'Amit', 23, 'Delhi', 78990, 100, 'Deepak', 56, 'Tarun', 99, '05-03-2014', 45, 23, 45]\n",
      "67\n"
     ]
    }
   ],
   "source": [
    "# Removes and returns the item at a specified position in the list. \n",
    "# If no index is provided, it removes and returns the last item.\n",
    "Z = X.pop()\n",
    "print(X)\n",
    "print(Z)"
   ]
  },
  {
   "cell_type": "code",
   "execution_count": 16,
   "id": "6ea403e3",
   "metadata": {},
   "outputs": [
    {
     "name": "stdout",
     "output_type": "stream",
     "text": [
      "[101, 'Deepak', 'Amit', 23, 'Delhi', 78990, 100, 'Deepak', 56, 99, '05-03-2014', 45, 23, 45]\n"
     ]
    }
   ],
   "source": [
    "# Delete item from given position\n",
    "del X[9]\n",
    "print(X)"
   ]
  },
  {
   "cell_type": "code",
   "execution_count": 17,
   "id": "a8a8473a",
   "metadata": {},
   "outputs": [
    {
     "name": "stdout",
     "output_type": "stream",
     "text": [
      "[101, 'Deepak', 'Amit', 23, 'Delhi', 100, 'Deepak', 56, 99, '05-03-2014', 45, 23, 45]\n"
     ]
    }
   ],
   "source": [
    "# Removes the first occurrence of an item from the list\n",
    "X.remove(78990)\n",
    "print(X)"
   ]
  },
  {
   "cell_type": "code",
   "execution_count": 18,
   "id": "a85cf633",
   "metadata": {},
   "outputs": [
    {
     "name": "stdout",
     "output_type": "stream",
     "text": [
      "[45, 23, 45, '05-03-2014', 99, 56, 'Deepak', 100, 'Delhi', 23, 'Amit', 'Deepak', 101]\n"
     ]
    }
   ],
   "source": [
    "# Reverses the order of items in the list\n",
    "X.reverse()\n",
    "print(X)"
   ]
  },
  {
   "cell_type": "code",
   "execution_count": 19,
   "id": "44865ce0",
   "metadata": {},
   "outputs": [
    {
     "name": "stdout",
     "output_type": "stream",
     "text": [
      "[5, 14, 21, 33, 45, 52, 63, 74, 92]\n"
     ]
    }
   ],
   "source": [
    "# Sorts the items in the list in ascending order\n",
    "Y.sort()\n",
    "print(Y)"
   ]
  },
  {
   "cell_type": "code",
   "execution_count": 20,
   "id": "4af2370b",
   "metadata": {},
   "outputs": [
    {
     "name": "stdout",
     "output_type": "stream",
     "text": [
      "[92, 74, 63, 52, 45, 33, 21, 14, 5]\n"
     ]
    }
   ],
   "source": [
    "# Sorts the items in the list in ascending order\n",
    "Y.sort(reverse = True)\n",
    "print(Y)"
   ]
  },
  {
   "cell_type": "code",
   "execution_count": 21,
   "id": "841909fb",
   "metadata": {},
   "outputs": [
    {
     "name": "stdout",
     "output_type": "stream",
     "text": [
      "[]\n"
     ]
    }
   ],
   "source": [
    "# Clear the list\n",
    "X.clear()\n",
    "print(X)"
   ]
  },
  {
   "cell_type": "code",
   "execution_count": null,
   "id": "caa3ba56",
   "metadata": {},
   "outputs": [],
   "source": []
  }
 ],
 "metadata": {
  "kernelspec": {
   "display_name": "Python 3 (ipykernel)",
   "language": "python",
   "name": "python3"
  },
  "language_info": {
   "codemirror_mode": {
    "name": "ipython",
    "version": 3
   },
   "file_extension": ".py",
   "mimetype": "text/x-python",
   "name": "python",
   "nbconvert_exporter": "python",
   "pygments_lexer": "ipython3",
   "version": "3.8.8"
  }
 },
 "nbformat": 4,
 "nbformat_minor": 5
}
