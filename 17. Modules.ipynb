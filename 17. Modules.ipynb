{
 "cells": [
  {
   "cell_type": "markdown",
   "id": "71f02e3c",
   "metadata": {},
   "source": [
    "# Modules"
   ]
  },
  {
   "cell_type": "markdown",
   "id": "98ace461",
   "metadata": {},
   "source": [
    "1. Importing Modules from pip"
   ]
  },
  {
   "cell_type": "markdown",
   "id": "55eed1fe",
   "metadata": {},
   "source": [
    "Modules installed using pip can be imported directly. For example, if you have installed the requests library using pip, you can import it like this:"
   ]
  },
  {
   "cell_type": "code",
   "execution_count": null,
   "id": "b1b9abfc",
   "metadata": {},
   "outputs": [],
   "source": [
    "import requests"
   ]
  },
  {
   "cell_type": "markdown",
   "id": "bcba1e90",
   "metadata": {},
   "source": [
    "2. Importing from a Different .py File on the Same Level"
   ]
  },
  {
   "cell_type": "markdown",
   "id": "9edd17f5",
   "metadata": {},
   "source": [
    "Suppose you have two files main.py and module.py in the same directory. To import functions or classes from module.py into main.py, you can do the following:"
   ]
  },
  {
   "cell_type": "code",
   "execution_count": null,
   "id": "638a3377",
   "metadata": {},
   "outputs": [],
   "source": [
    "module.py\n",
    "\n",
    "def greet():\n",
    "    print(\"Hello from module!\")\n",
    "    \n",
    "**************************    \n",
    "main.py\n",
    "\n",
    "import module\n",
    "module.greet()\n",
    "\n",
    "# Alternatively, you can import specific functions or classes:\n",
    "\n",
    "from module import greet\n",
    "greet()"
   ]
  },
  {
   "cell_type": "markdown",
   "id": "aecb5746",
   "metadata": {},
   "source": [
    "3. Importing from a Different .py File Inside a Folder on the Same Level"
   ]
  },
  {
   "cell_type": "markdown",
   "id": "e31f4c93",
   "metadata": {},
   "source": [
    "If the module is inside a folder, you need to specify the folder name. Suppose the structure is like this:"
   ]
  },
  {
   "cell_type": "code",
   "execution_count": null,
   "id": "4638b1dd",
   "metadata": {},
   "outputs": [],
   "source": [
    "project/\n",
    "    main.py\n",
    "    folder/\n",
    "        module.py\n",
    "***************************       \n",
    "folder/module.py\n",
    "\n",
    "def greet():\n",
    "    print(\"Hello from module inside folder!\")\n",
    "    \n",
    "***************************\n",
    "main.py\n",
    "\n",
    "from folder import module\n",
    "module.greet()\n",
    "\n",
    "***************************\n",
    "\n",
    "# Or import specific functions or classes:\n",
    "\n",
    "from folder.module import greet\n",
    "greet()"
   ]
  },
  {
   "cell_type": "markdown",
   "id": "6bd4a160",
   "metadata": {},
   "source": [
    "4. Importing from a Different .py File Located Anywhere on the System"
   ]
  },
  {
   "cell_type": "markdown",
   "id": "e9a80a8c",
   "metadata": {},
   "source": [
    "If the file is located in an arbitrary location on your system, you need to add the directory to the sys.path list, which is a list of directories that the interpreter will search for modules.\n",
    "\n",
    "Example:\n",
    "Suppose module.py is located at \n",
    "\n",
    "/path/to/directory/module.py."
   ]
  },
  {
   "cell_type": "code",
   "execution_count": null,
   "id": "8d15b982",
   "metadata": {},
   "outputs": [],
   "source": [
    "module.py\n",
    "\n",
    "def greet():\n",
    "    print(\"Hello from module in a different directory!\")\n",
    "\n",
    "*****************************\n",
    "\n",
    "main.py\n",
    "\n",
    "import sys\n",
    "sys.path.append('/path/to/directory')\n",
    "\n",
    "import module\n",
    "module.greet()\n"
   ]
  },
  {
   "cell_type": "code",
   "execution_count": null,
   "id": "906bdf03",
   "metadata": {},
   "outputs": [],
   "source": []
  }
 ],
 "metadata": {
  "kernelspec": {
   "display_name": "Python 3 (ipykernel)",
   "language": "python",
   "name": "python3"
  },
  "language_info": {
   "codemirror_mode": {
    "name": "ipython",
    "version": 3
   },
   "file_extension": ".py",
   "mimetype": "text/x-python",
   "name": "python",
   "nbconvert_exporter": "python",
   "pygments_lexer": "ipython3",
   "version": "3.9.7"
  }
 },
 "nbformat": 4,
 "nbformat_minor": 5
}
